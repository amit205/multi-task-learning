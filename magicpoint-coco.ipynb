{
 "cells": [
  {
   "cell_type": "code",
   "execution_count": 1,
   "metadata": {},
   "outputs": [
    {
     "name": "stdout",
     "output_type": "stream",
     "text": [
      "2.5.0\n"
     ]
    }
   ],
   "source": [
    "import tensorflow as tf\n",
    "print(tf.__version__)"
   ]
  },
  {
   "cell_type": "code",
   "execution_count": 2,
   "metadata": {},
   "outputs": [],
   "source": [
    "import numpy as np\n",
    "import cv2\n",
    "import tarfile\n",
    "from pathlib import Path\n",
    "from tqdm import tqdm\n",
    "import shutil\n",
    "from tensorflow import keras\n",
    "from tensorflow.keras import backend as K\n",
    "from tensorflow.keras import layers as tfl\n",
    "from tensorflow.keras.layers import *\n",
    "from tensorflow_addons.image import transform as H_transform\n",
    "import matplotlib.pyplot as plt\n",
    "import os, datetime\n",
    "\n",
    "from models.utils import shared_encoder, detector_head, detector_loss, model_metrics, box_nms\n",
    "from utils.tools import dict_update"
   ]
  },
  {
   "cell_type": "code",
   "execution_count": 3,
   "metadata": {},
   "outputs": [],
   "source": [
    "default_config = {\n",
    "        'labels': None,\n",
    "        'cache_in_memory': False,\n",
    "        'validation_size': 100,\n",
    "        'truncate': None,\n",
    "        'preprocessing': {\n",
    "            'resize': [240, 320]\n",
    "        },\n",
    "        'num_parallel_calls': 10,\n",
    "        'augmentation': {\n",
    "            'photometric': {\n",
    "                'enable': False,\n",
    "                'primitives': 'all',\n",
    "                'params': {},\n",
    "                'random_order': True,\n",
    "            },\n",
    "            'homographic': {\n",
    "                'enable': False,\n",
    "                'params': {},\n",
    "                'valid_border_margin': 0,\n",
    "            },\n",
    "        },\n",
    "        'warped_pair': {\n",
    "            'enable': False,\n",
    "            'params': {},\n",
    "            'valid_border_margin': 0,\n",
    "        },\n",
    "    }"
   ]
  },
  {
   "cell_type": "code",
   "execution_count": 4,
   "metadata": {},
   "outputs": [],
   "source": [
    "import yaml\n",
    "with open('/root/Internship-Valeo/Project/configs/magic-point_coco_train.yaml', 'r') as stream:\n",
    "    config = yaml.safe_load(stream)"
   ]
  },
  {
   "cell_type": "code",
   "execution_count": 5,
   "metadata": {},
   "outputs": [],
   "source": [
    "config1 = config\n",
    "config = dict_update(default_config, config['data'])"
   ]
  },
  {
   "cell_type": "code",
   "execution_count": 6,
   "metadata": {},
   "outputs": [],
   "source": [
    "default_model_config = {\n",
    "            'data_format': 'channels_first',\n",
    "            'kernel_reg': 0.,\n",
    "            'grid_size': 8,\n",
    "            'detection_threshold': 0.4,\n",
    "            'homography_adaptation': {'num': 0},\n",
    "            'nms': 0,\n",
    "            'top_k': 0\n",
    "    }"
   ]
  },
  {
   "cell_type": "code",
   "execution_count": 7,
   "metadata": {},
   "outputs": [],
   "source": [
    "model_config = dict_update(default_model_config, config1['model'])"
   ]
  },
  {
   "cell_type": "code",
   "execution_count": 8,
   "metadata": {},
   "outputs": [],
   "source": [
    "from datasets import coco"
   ]
  },
  {
   "cell_type": "code",
   "execution_count": 9,
   "metadata": {
    "scrolled": true
   },
   "outputs": [],
   "source": [
    "data = coco.Coco()"
   ]
  },
  {
   "cell_type": "code",
   "execution_count": 10,
   "metadata": {},
   "outputs": [],
   "source": [
    "files = data._init_dataset(**config)"
   ]
  },
  {
   "cell_type": "code",
   "execution_count": 11,
   "metadata": {},
   "outputs": [],
   "source": [
    "train_gen = data._get_data(files, 'training', **config)"
   ]
  },
  {
   "cell_type": "code",
   "execution_count": 12,
   "metadata": {},
   "outputs": [
    {
     "data": {
      "text/plain": [
       "<ParallelMapDataset shapes: {image: (None, None, 1), name: (), keypoints: (None, None), valid_mask: (None, None)}, types: {image: tf.float32, name: tf.string, keypoints: tf.int32, valid_mask: tf.int32}>"
      ]
     },
     "execution_count": 12,
     "metadata": {},
     "output_type": "execute_result"
    }
   ],
   "source": [
    "train_gen"
   ]
  },
  {
   "cell_type": "code",
   "execution_count": 13,
   "metadata": {},
   "outputs": [],
   "source": [
    "val_gen = data._get_data(files, 'validation', **config)"
   ]
  },
  {
   "cell_type": "code",
   "execution_count": 14,
   "metadata": {},
   "outputs": [
    {
     "data": {
      "text/plain": [
       "<ParallelMapDataset shapes: {image: (None, None, 1), name: (), keypoints: (None, None), valid_mask: (None, None)}, types: {image: tf.float32, name: tf.string, keypoints: tf.int32, valid_mask: tf.int32}>"
      ]
     },
     "execution_count": 14,
     "metadata": {},
     "output_type": "execute_result"
    }
   ],
   "source": [
    "val_gen"
   ]
  },
  {
   "cell_type": "code",
   "execution_count": 15,
   "metadata": {},
   "outputs": [
    {
     "name": "stdout",
     "output_type": "stream",
     "text": [
      "/root/Internship-Valeo/Project\r\n"
     ]
    }
   ],
   "source": [
    "!pwd"
   ]
  },
  {
   "cell_type": "code",
   "execution_count": 53,
   "metadata": {},
   "outputs": [],
   "source": [
    "DATA_PATH = '/root/Internship-Valeo/Project/data/COCO'"
   ]
  },
  {
   "cell_type": "code",
   "execution_count": 17,
   "metadata": {},
   "outputs": [],
   "source": [
    "# from datasets.utils import pipeline\n",
    "# from datasets.utils.pipeline import parse_primitives\n",
    "# from datasets.utils import photometric_augmentation as photaug\n",
    "# from models.homographies import (sample_homography, compute_valid_mask,\n",
    "#                                             warp_points, filter_points)\n",
    "from models.utils import box_nms"
   ]
  },
  {
   "cell_type": "code",
   "execution_count": 18,
   "metadata": {},
   "outputs": [],
   "source": [
    "# config = {\n",
    "#             'primitives': 'all',\n",
    "#             'validation_size': 192,\n",
    "#             'cache_in_memory': False,\n",
    "#             'truncate': None,\n",
    "#             'labels': 'magic_point-synth-export/pointstrain2014',\n",
    "#             'augmentation': {\n",
    "#                 'photometric': {\n",
    "#                     'enable': True,\n",
    "#                     'primitives': [\n",
    "#                 'random_brightness', 'random_contrast', 'additive_speckle_noise',\n",
    "#                 'additive_gaussian_noise', 'additive_shade', 'motion_blur' ],\n",
    "#                     'params': {\n",
    "#                         'random_brightness': {'max_abs_change': 50},\n",
    "#                         'random_contrast': {'strength_range': [0.3, 1.5]},\n",
    "#                         'additive_gaussian_noise': {'stddev_range': [0, 10]},\n",
    "#                         'additive_speckle_noise': {'prob_range': [0, 0.0035]},\n",
    "#                         'additive_shade':{\n",
    "#                             'transparency_range': [-0.5, 0.5],\n",
    "#                             'kernel_size_range': [100, 150]},\n",
    "#                         'motion_blur': {'max_kernel_size': 3}},\n",
    "#                     'random_order': True,\n",
    "#                 },\n",
    "#                 'homographic': {\n",
    "#                     'enable': True,\n",
    "#                     'params': {\n",
    "#                         'translation': True,\n",
    "#                         'rotation': True,\n",
    "#                         'scaling': True,\n",
    "#                         'perspective': True,\n",
    "#                         'scaling_amplitude': 0.2,\n",
    "#                         'perspective_amplitude_x': 0.2,\n",
    "#                         'perspective_amplitude_y': 0.2,\n",
    "#                         'patch_ratio': 0.85,\n",
    "#                         'max_angle': 1.57,  # 3.14\n",
    "#                         'allow_artifacts': True,\n",
    "#                         'valid_border_margin': 3,\n",
    "#                     },\n",
    "#                 },\n",
    "#             }\n",
    "#     }"
   ]
  },
  {
   "cell_type": "code",
   "execution_count": 19,
   "metadata": {},
   "outputs": [],
   "source": [
    "logdir = \"logs/scalars/\" + datetime.datetime.now().strftime(\"%Y%m%d-%H%M%S\")\n",
    "tensorboard_callback = keras.callbacks.TensorBoard(log_dir=logdir)"
   ]
  },
  {
   "cell_type": "code",
   "execution_count": 20,
   "metadata": {},
   "outputs": [],
   "source": [
    "# code for photometric augmentation\n",
    "\n",
    "# primitives_photo = parse_primitives(config['primitives'], photaug.augmentations)\n",
    "\n",
    "# prim_configs = [config['augmentation']['photometric']['params'].get(p, {}) for p in primitives_photo]\n",
    "\n",
    "# indices = tf.range(len(primitives_photo))\n",
    "# if config['augmentation']['photometric']['random_order']:\n",
    "#     indices = tf.random.shuffle(indices)\n",
    "# def photo_aug_step(i, image):\n",
    "#     fn_pairs = [(tf.equal(indices[i], j), lambda p=p, c=c: getattr(photaug, p)(image, **c))\n",
    "#                 for j, (p, c) in enumerate(zip(primitives_photo, prim_configs))]\n",
    "#     image = tf.case(fn_pairs)\n",
    "#     return i + 1, image"
   ]
  },
  {
   "cell_type": "code",
   "execution_count": 21,
   "metadata": {},
   "outputs": [],
   "source": [
    "# read keypoints\n",
    "# def _read_points(filename):\n",
    "#     return np.load(filename)#.astype(np.float32)"
   ]
  },
  {
   "cell_type": "code",
   "execution_count": 22,
   "metadata": {},
   "outputs": [],
   "source": [
    "# class DataGen(keras.utils.Sequence):\n",
    "#     def __init__(self, image_path, point_path, #homography_path, warped_image_path, warped_point_path,\n",
    "#                  is_training, batch_size = model_config['batch_size']):\n",
    "#         self.__ids = os.listdir(image_path)\n",
    "#         self.__image_path, self.__point_path = image_path, point_path\n",
    "        \n",
    "        \n",
    "# #         self.__homography_path = homography_path\n",
    "# #         self.__warped_image_path = warped_image_path\n",
    "# #         self.__warped_point_path = warped_point_path\n",
    "        \n",
    "        \n",
    "#         self.__batch_size = batch_size\n",
    "#         self.__is_training = is_training\n",
    "#         self.on_epoch_end()\n",
    "        \n",
    "#     def __load__(self , id_name):\n",
    "    \n",
    "#         image_path = os.path.join(self.__image_path , id_name)\n",
    "#         point_path = os.path.join(self.__point_path , id_name) + '.npy'\n",
    "    \n",
    "#         image = cv2.imread(image_path , 0) # 0 specifies GreyScale format\n",
    "#         image = cv2.resize(image , (320 , 240)) # resizing before inserting to the network\n",
    "#         image = np.expand_dims(image, axis = 2)\n",
    "        \n",
    "#         points = _read_points(point_path)\n",
    "# #         points = np.round(points).astype(int)\n",
    "    \n",
    "#         return image , points\n",
    "        \n",
    "#     def __getitem__(self, index):\n",
    "#         images = []\n",
    "#         points_maps = []\n",
    "#         points_list = []\n",
    "#         homography_list = [] # not returned yet\n",
    "#         warped_images = []\n",
    "#         valid_masks = []\n",
    "#         warped_points_list = []\n",
    "#         warped_points_maps = []\n",
    "        \n",
    "        \n",
    "#         if (index + 1)*self.__batch_size > len(self.__ids):\n",
    "#             self.__batch_size = len(self.__ids) - index * self.__batch_size\n",
    "#         file_batch = self.__ids[index * self.__batch_size : (index + 1) * self.__batch_size]    \n",
    "        \n",
    "#         for id_name in file_batch:\n",
    "#             image, points = self.__load__(id_name)\n",
    "#             image_shape = tf.shape(image)[:2]\n",
    "\n",
    "            \n",
    "# #             homography_file = os.path.join(self.__homography_path, id_name) + '.npy'\n",
    "# #             homography = _read_points(homography_file)\n",
    "# #             warped_img_file = os.path.join(self.__warped_image_path, id_name)\n",
    "# #             warped_image = cv2.imread(warped_img_file, 0)\n",
    "# #             warped_image = np.expand_dims(warped_image, axis = 2)\n",
    "# #             warped_point_file = os.path.join(self.__warped_point_path, id_name) + '.npy'\n",
    "# #             warped_points = _read_points(warped_point_file)\n",
    "            \n",
    "    \n",
    "#             if self.__is_training:\n",
    "#                 # add photometric_augmentation\n",
    "#                 _, image = tf.while_loop(lambda i, image: tf.less(i, len(primitives_photo)),\n",
    "#                                  photo_aug_step, [0, image], parallel_iterations=1)              \n",
    "                \n",
    "#                 # add homography\n",
    "#                 homography = sample_homography(image_shape, config['augmentation']['homographic']['params'])[0]\n",
    "#                 warped_image = H_transform(image, homography, interpolation='BILINEAR')\n",
    "#                 valid_mask = compute_valid_mask(image_shape, homography,\n",
    "#                                          config['augmentation']['homographic']['params']['valid_border_margin'])\n",
    "#                 warped_points = warp_points(points, homography)\n",
    "#                 warped_points = filter_points(warped_points, image_shape)\n",
    "#                 warped_points = np.round(warped_points).astype(int)\n",
    "#                 warped_kp = tf.minimum(warped_points, image_shape-1)\n",
    "#                 warped_points_map = tf.scatter_nd(warped_points, tf.ones([tf.shape(warped_points)[0]], \n",
    "#                                                                      dtype=tf.int32), image_shape)\n",
    "                        \n",
    "#                 homography_list.append(homography)\n",
    "#                 warped_image = warped_image / 255.0\n",
    "#                 warped_images.append(warped_image)\n",
    "#                 valid_masks.append(valid_mask)\n",
    "#                 warped_points_list.append(warped_points)\n",
    "#                 warped_points_maps.append(warped_points_map)\n",
    "\n",
    "#             kp = tf.minimum(points, image_shape-1)\n",
    "#             points_map = tf.scatter_nd(kp, tf.ones([tf.shape(kp)[0]], dtype=tf.int32), image_shape)\n",
    "            \n",
    "#             image = image / 255.0\n",
    "#             images.append(image)\n",
    "#             points_maps.append(points_map)\n",
    "#             points_list.append(points)\n",
    "            \n",
    "            \n",
    "#         images = np.array(images)\n",
    "#         points_maps = np.expand_dims(points_maps, axis = 3)\n",
    "#         points_maps = np.array(points_maps)\n",
    "#         if self.__is_training:\n",
    "#             warped_images = np.array(warped_images)\n",
    "#             warped_points_maps = np.expand_dims(warped_points_maps, axis = 3)\n",
    "#             warped_points_maps = np.array(warped_points_maps)\n",
    "#             valid_masks = np.array(valid_masks)\n",
    "#             dummy_loss_target = np.zeros(self.__batch_size)\n",
    "\n",
    "#             return [warped_images, valid_masks, warped_points_maps], [dummy_loss_target]\n",
    "        \n",
    "#         else:\n",
    "#             return images, points_maps   \n",
    "           \n",
    "#     def __len__(self):\n",
    "#         return int(np.ceil(len(self.__ids) / float(self.__batch_size)))\n",
    "    \n",
    "#     def on_epoch_end(self):\n",
    "#         pass"
   ]
  },
  {
   "cell_type": "code",
   "execution_count": 23,
   "metadata": {},
   "outputs": [],
   "source": [
    "class DetectorLossLayer(Layer):\n",
    "    def __init__(self, name='detector_loss_layer', trainable=False):\n",
    "        super(DetectorLossLayer, self).__init__(name=name)\n",
    "        self.loss_fn = detector_loss\n",
    "        self.metrics_fn = model_metrics\n",
    "    def call(self, inputs, targets=None, sample_weight=None):\n",
    "        loss = self.loss_fn(inputs[0], inputs[1]['logits'], model_config = model_config, valid_mask = inputs[2])\n",
    "        \n",
    "        if model_config['nms']:\n",
    "            prob = tf.map_fn(lambda p: box_nms(p, model_config['nms'],\n",
    "                                               min_prob=model_config['detection_threshold'],\n",
    "                                               keep_top_k=model_config['top_k']), inputs[1]['prob'])\n",
    "        pred = tf.cast(tf.greater_equal(prob, model_config['detection_threshold']), tf.float32)\n",
    "        \n",
    "        metrics = self.metrics_fn(inputs[0], pred, valid_mask = inputs[2])\n",
    "#         self.add_loss(tf.math.reduce_mean(loss))\n",
    "        self.add_loss(loss)\n",
    "        self.add_metric(metrics['precision'], name = 'precision')\n",
    "        self.add_metric(metrics['recall'], name = 'recall')\n",
    "        return loss\n",
    "    def compute_output_shape(self, input_shape):\n",
    "        return [1]\n",
    "\n",
    "def net(input_shape1, input_shape2, input_shape3):\n",
    "    images_inputs = Input(shape = input_shape1, name = 'image')\n",
    "    valid_masks_inputs = Input(shape = input_shape2, name = 'valid_mask')\n",
    "    warped_points_inputs = Input(shape = input_shape3, name = 'keypoints')\n",
    "    \n",
    "    if model_config['data_format'] == 'channels_first':\n",
    "        images_inputs1 = tf.transpose(images_inputs, [0, 3, 1, 2])\n",
    "    \n",
    "    encoder = shared_encoder(shape = (1, 240, 320), model_config = model_config)\n",
    "    encoder_output = encoder(images_inputs1)\n",
    "    \n",
    "    detector = detector_head(shape= (128, 30, 40), model_config = model_config)\n",
    "    output = detector(encoder_output)\n",
    "        \n",
    "    loss_layer = DetectorLossLayer()([warped_points_inputs, output, valid_masks_inputs])\n",
    "    \n",
    "    model = keras.models.Model(inputs = [images_inputs, valid_masks_inputs, warped_points_inputs] , \n",
    "                               outputs = [loss_layer])\n",
    "    return model"
   ]
  },
  {
   "cell_type": "code",
   "execution_count": 24,
   "metadata": {},
   "outputs": [
    {
     "name": "stdout",
     "output_type": "stream",
     "text": [
      "WARNING:tensorflow:From /usr/local/lib/python3.6/dist-packages/tensorflow/python/ops/array_ops.py:5049: calling gather (from tensorflow.python.ops.array_ops) with validate_indices is deprecated and will be removed in a future version.\n",
      "Instructions for updating:\n",
      "The `validate_indices` argument has no effect. Indices are always validated on CPU and never validated on GPU.\n"
     ]
    }
   ],
   "source": [
    "model = net(input_shape1 = (240, 320, 1), input_shape2 = (240, 320), input_shape3 = (240, 320))"
   ]
  },
  {
   "cell_type": "code",
   "execution_count": 25,
   "metadata": {},
   "outputs": [
    {
     "data": {
      "image/png": "[encoded data removed]",
      "text/plain": [
       "<IPython.core.display.Image object>"
      ]
     },
     "execution_count": 25,
     "metadata": {},
     "output_type": "execute_result"
    }
   ],
   "source": [
    "# model.summary()\n",
    "keras.utils.plot_model(model, to_file=\"model.png\", show_shapes=False, show_dtype=True, show_layer_names=True,\n",
    "    rankdir=\"TB\", expand_nested=False, dpi=96)"
   ]
  },
  {
   "cell_type": "code",
   "execution_count": 26,
   "metadata": {},
   "outputs": [],
   "source": [
    "def dummy_loss(dummy_target, y_pred):\n",
    "#     return tf.squeeze(y_pred)\n",
    "    return y_pred\n",
    "\n",
    "model.compile(optimizer = keras.optimizers.Adam(learning_rate = model_config['learning_rate']),\n",
    "              loss = dummy_loss)"
   ]
  },
  {
   "cell_type": "code",
   "execution_count": 54,
   "metadata": {},
   "outputs": [],
   "source": [
    "# batch_size = model_config['batch_size']\n",
    "\n",
    "train_image_path = DATA_PATH + '/anntrain2014'\n",
    "# train_point_path = DATA_PATH + '/pointstrain2014'\n",
    "# # train_homography_path = DATA_PATH + '/homographies_train'\n",
    "# # train_warped_image_path = DATA_PATH + '/warptrain2014'\n",
    "# # train_warped_point_path = DATA_PATH + '/warped_pointstrain2014'\n",
    "# train_gen = DataGen(train_image_path, train_point_path, #train_homography_path, train_warped_image_path,\n",
    "# #                     train_warped_point_path, \n",
    "#                     batch_size = batch_size, is_training = True)\n",
    "\n",
    "# val_image_path = DATA_PATH + '/annval2014'\n",
    "# val_point_path = DATA_PATH + '/pointsval2014'\n",
    "# # val_homography_path = DATA_PATH + '/homographies_val'\n",
    "# # val_warped_image_path = DATA_PATH + '/warpval2014'\n",
    "# # val_warped_point_path = DATA_PATH + '/warped_pointsval2014'\n",
    "# val_gen = DataGen(val_image_path, val_point_path, #val_homography_path, val_warped_image_path,\n",
    "# #                   val_warped_point_path, \n",
    "#                   batch_size = batch_size, is_training = True)\n",
    "\n",
    "# train_steps =  len(os.listdir(train_image_path))/batch_size"
   ]
  },
  {
   "cell_type": "code",
   "execution_count": 28,
   "metadata": {},
   "outputs": [],
   "source": [
    "train_gen = train_gen.repeat()\n",
    "train_gen = train_gen.batch(model_config['batch_size'])"
   ]
  },
  {
   "cell_type": "code",
   "execution_count": 29,
   "metadata": {},
   "outputs": [],
   "source": [
    "val_gen = val_gen.take(config['validation_size'])\n",
    "val_gen = val_gen.batch(model_config['eval_batch_size'])"
   ]
  },
  {
   "cell_type": "code",
   "execution_count": 55,
   "metadata": {},
   "outputs": [
    {
     "name": "stdout",
     "output_type": "stream",
     "text": [
      "Epoch 1/12\n",
      "1411/1411 [==============================] - 2430s 2s/step - loss: 1.8934 - precision: 0.0060 - recall: 0.1091 - val_loss: 0.9313 - val_precision: 0.0156 - val_recall: 0.2873\n",
      "Epoch 2/12\n",
      "1411/1411 [==============================] - 2364s 2s/step - loss: 0.7981 - precision: 0.0110 - recall: 0.1969 - val_loss: 0.6279 - val_precision: 0.0204 - val_recall: 0.3648\n",
      "Epoch 3/12\n",
      "1411/1411 [==============================] - 1166s 826ms/step - loss: 0.6516 - precision: 0.0239 - recall: 0.2243 - val_loss: 0.5203 - val_precision: 0.0607 - val_recall: 0.3938\n",
      "Epoch 4/12\n",
      "1411/1411 [==============================] - 740s 525ms/step - loss: 0.6288 - precision: 0.0397 - recall: 0.2259 - val_loss: 0.5085 - val_precision: 0.0742 - val_recall: 0.3996\n",
      "Epoch 5/12\n",
      "1411/1411 [==============================] - 688s 487ms/step - loss: 0.6002 - precision: 0.0494 - recall: 0.2390 - val_loss: 0.5057 - val_precision: 0.0724 - val_recall: 0.4047\n",
      "Epoch 6/12\n",
      "1411/1411 [==============================] - 661s 469ms/step - loss: 0.5885 - precision: 0.0539 - recall: 0.2446 - val_loss: 0.5135 - val_precision: 0.0708 - val_recall: 0.4042\n",
      "Epoch 7/12\n",
      "1411/1411 [==============================] - 645s 457ms/step - loss: 0.5814 - precision: 0.0570 - recall: 0.2484 - val_loss: 0.5210 - val_precision: 0.0731 - val_recall: 0.4074\n",
      "Epoch 8/12\n",
      "1411/1411 [==============================] - 633s 449ms/step - loss: 0.5763 - precision: 0.0595 - recall: 0.2520 - val_loss: 0.4676 - val_precision: 0.0886 - val_recall: 0.4145\n",
      "Epoch 9/12\n",
      "1411/1411 [==============================] - 629s 446ms/step - loss: 0.5724 - precision: 0.0615 - recall: 0.2550 - val_loss: 0.4843 - val_precision: 0.0886 - val_recall: 0.4152\n",
      "Epoch 10/12\n",
      "1411/1411 [==============================] - 620s 439ms/step - loss: 0.5690 - precision: 0.0632 - recall: 0.2576 - val_loss: 0.5032 - val_precision: 0.0777 - val_recall: 0.4166\n",
      "Epoch 11/12\n",
      "1411/1411 [==============================] - 610s 432ms/step - loss: 0.5662 - precision: 0.0642 - recall: 0.2591 - val_loss: 0.4971 - val_precision: 0.0787 - val_recall: 0.4181\n",
      "Epoch 12/12\n",
      "1411/1411 [==============================] - 616s 437ms/step - loss: 0.5641 - precision: 0.0652 - recall: 0.2606 - val_loss: 0.5245 - val_precision: 0.0689 - val_recall: 0.4118\n"
     ]
    }
   ],
   "source": [
    "steps_per_epoch = len(os.listdir(train_image_path))//model_config['batch_size']\n",
    "epochs = config1['train_iter']//steps_per_epoch\n",
    "history = model.fit(train_gen , validation_data = val_gen, batch_size = model_config['batch_size'], \n",
    "                     steps_per_epoch = steps_per_epoch, epochs=epochs, \n",
    "                    callbacks=[tensorboard_callback])"
   ]
  },
  {
   "cell_type": "code",
   "execution_count": 56,
   "metadata": {},
   "outputs": [
    {
     "name": "stdout",
     "output_type": "stream",
     "text": [
      "INFO:tensorflow:Assets written to: /root/Internship-Valeo/Project/results/checkpoint-magicpoint-coco-040422/assets\n"
     ]
    }
   ],
   "source": [
    "# model.save('/root/Internship-Valeo/Project/results/checkpoint-magicpoint-coco-040422')"
   ]
  },
  {
   "cell_type": "code",
   "execution_count": null,
   "metadata": {},
   "outputs": [],
   "source": [
    "# model.load_weights('/root/Internship-Valeo/Project/results/checkpoint-magicpoint-coco-050322')"
   ]
  },
  {
   "cell_type": "code",
   "execution_count": null,
   "metadata": {},
   "outputs": [],
   "source": [
    "# x, y = train_gen.__getitem__(0)"
   ]
  },
  {
   "cell_type": "code",
   "execution_count": 30,
   "metadata": {},
   "outputs": [],
   "source": [
    "y = iter(train_gen)"
   ]
  },
  {
   "cell_type": "code",
   "execution_count": 42,
   "metadata": {},
   "outputs": [
    {
     "data": {
      "text/plain": [
       "<matplotlib.image.AxesImage at 0x7f45eaf9a208>"
      ]
     },
     "execution_count": 42,
     "metadata": {},
     "output_type": "execute_result"
    },
    {
     "data": {
      "image/png": "[encoded data removed]",
      "text/plain": [
       "<Figure size 432x288 with 1 Axes>"
      ]
     },
     "metadata": {
      "needs_background": "light"
     },
     "output_type": "display_data"
    }
   ],
   "source": [
    "x = y.get_next()\n",
    "plt.imshow(x['image'][0], cmap = 'gray')"
   ]
  },
  {
   "cell_type": "code",
   "execution_count": 43,
   "metadata": {},
   "outputs": [
    {
     "data": {
      "text/plain": [
       "TensorShape([32, 240, 320, 1])"
      ]
     },
     "execution_count": 43,
     "metadata": {},
     "output_type": "execute_result"
    }
   ],
   "source": [
    "x['image'].shape"
   ]
  },
  {
   "cell_type": "code",
   "execution_count": 44,
   "metadata": {},
   "outputs": [
    {
     "data": {
      "text/plain": [
       "<matplotlib.image.AxesImage at 0x7f45eaf6be80>"
      ]
     },
     "execution_count": 44,
     "metadata": {},
     "output_type": "execute_result"
    },
    {
     "data": {
      "image/png": "[encoded data removed]",
      "text/plain": [
       "<Figure size 432x288 with 1 Axes>"
      ]
     },
     "metadata": {
      "needs_background": "light"
     },
     "output_type": "display_data"
    }
   ],
   "source": [
    "plt.imshow(x['keypoints'][0], cmap = 'gray')"
   ]
  },
  {
   "cell_type": "code",
   "execution_count": 45,
   "metadata": {},
   "outputs": [
    {
     "data": {
      "text/plain": [
       "<matplotlib.image.AxesImage at 0x7f45eaec9c88>"
      ]
     },
     "execution_count": 45,
     "metadata": {},
     "output_type": "execute_result"
    },
    {
     "data": {
      "image/png": "[encoded data removed]",
      "text/plain": [
       "<Figure size 432x288 with 1 Axes>"
      ]
     },
     "metadata": {
      "needs_background": "light"
     },
     "output_type": "display_data"
    }
   ],
   "source": [
    "plt.imshow(x['valid_mask'][0], cmap = 'gray')"
   ]
  },
  {
   "cell_type": "code",
   "execution_count": 46,
   "metadata": {},
   "outputs": [
    {
     "data": {
      "text/plain": [
       "<tf.Tensor: shape=(32, 240, 320), dtype=int32, numpy=\n",
       "array([[[0, 0, 0, ..., 0, 0, 0],\n",
       "        [0, 0, 0, ..., 0, 0, 0],\n",
       "        [0, 0, 0, ..., 0, 0, 0],\n",
       "        ...,\n",
       "        [0, 0, 0, ..., 0, 0, 0],\n",
       "        [0, 0, 0, ..., 0, 0, 0],\n",
       "        [0, 0, 0, ..., 0, 0, 0]],\n",
       "\n",
       "       [[0, 0, 0, ..., 0, 0, 0],\n",
       "        [0, 0, 0, ..., 0, 0, 0],\n",
       "        [0, 0, 0, ..., 0, 0, 0],\n",
       "        ...,\n",
       "        [0, 0, 0, ..., 0, 0, 0],\n",
       "        [0, 0, 0, ..., 0, 0, 0],\n",
       "        [0, 0, 0, ..., 0, 0, 0]],\n",
       "\n",
       "       [[0, 0, 0, ..., 0, 0, 0],\n",
       "        [0, 0, 0, ..., 0, 0, 0],\n",
       "        [0, 0, 0, ..., 0, 0, 0],\n",
       "        ...,\n",
       "        [0, 0, 0, ..., 0, 0, 0],\n",
       "        [0, 0, 0, ..., 0, 0, 0],\n",
       "        [0, 0, 0, ..., 0, 0, 0]],\n",
       "\n",
       "       ...,\n",
       "\n",
       "       [[0, 0, 0, ..., 0, 0, 0],\n",
       "        [0, 0, 0, ..., 0, 0, 0],\n",
       "        [0, 0, 0, ..., 0, 0, 0],\n",
       "        ...,\n",
       "        [0, 0, 0, ..., 0, 0, 0],\n",
       "        [0, 0, 0, ..., 0, 0, 0],\n",
       "        [0, 0, 0, ..., 0, 0, 0]],\n",
       "\n",
       "       [[0, 0, 0, ..., 0, 0, 0],\n",
       "        [0, 0, 0, ..., 0, 0, 0],\n",
       "        [0, 0, 0, ..., 0, 0, 0],\n",
       "        ...,\n",
       "        [0, 0, 0, ..., 0, 0, 0],\n",
       "        [0, 0, 0, ..., 0, 0, 0],\n",
       "        [0, 0, 0, ..., 0, 0, 0]],\n",
       "\n",
       "       [[0, 0, 0, ..., 0, 0, 0],\n",
       "        [0, 0, 0, ..., 0, 0, 0],\n",
       "        [0, 0, 0, ..., 0, 0, 0],\n",
       "        ...,\n",
       "        [0, 0, 0, ..., 0, 0, 0],\n",
       "        [0, 0, 0, ..., 0, 0, 0],\n",
       "        [0, 0, 0, ..., 0, 0, 0]]], dtype=int32)>"
      ]
     },
     "execution_count": 46,
     "metadata": {},
     "output_type": "execute_result"
    }
   ],
   "source": [
    "x['keypoints']"
   ]
  },
  {
   "cell_type": "code",
   "execution_count": 37,
   "metadata": {},
   "outputs": [
    {
     "ename": "KeyError",
     "evalue": "0",
     "output_type": "error",
     "traceback": [
      "\u001b[0;31m---------------------------------------------------------------------------\u001b[0m",
      "\u001b[0;31mKeyError\u001b[0m                                  Traceback (most recent call last)",
      "\u001b[0;32m<ipython-input-37-42626d892a12>\u001b[0m in \u001b[0;36m<module>\u001b[0;34m\u001b[0m\n\u001b[0;32m----> 1\u001b[0;31m \u001b[0mplt\u001b[0m\u001b[0;34m.\u001b[0m\u001b[0mimshow\u001b[0m\u001b[0;34m(\u001b[0m\u001b[0mx\u001b[0m\u001b[0;34m[\u001b[0m\u001b[0;36m0\u001b[0m\u001b[0;34m]\u001b[0m\u001b[0;34m[\u001b[0m\u001b[0;36m31\u001b[0m\u001b[0;34m]\u001b[0m\u001b[0;34m*\u001b[0m\u001b[0;36m255\u001b[0m\u001b[0;34m,\u001b[0m \u001b[0mcmap\u001b[0m \u001b[0;34m=\u001b[0m \u001b[0;34m'gray'\u001b[0m\u001b[0;34m)\u001b[0m\u001b[0;34m\u001b[0m\u001b[0;34m\u001b[0m\u001b[0m\n\u001b[0m",
      "\u001b[0;31mKeyError\u001b[0m: 0"
     ]
    }
   ],
   "source": [
    "plt.imshow(x[0][31]*255, cmap = 'gray')"
   ]
  },
  {
   "cell_type": "code",
   "execution_count": null,
   "metadata": {},
   "outputs": [],
   "source": [
    "plt.imshow(x[1][31], cmap = 'gray')"
   ]
  },
  {
   "cell_type": "code",
   "execution_count": null,
   "metadata": {},
   "outputs": [],
   "source": [
    "plt.imshow(x[2][31],cmap = 'gray')"
   ]
  },
  {
   "cell_type": "code",
   "execution_count": null,
   "metadata": {},
   "outputs": [],
   "source": [
    "y"
   ]
  },
  {
   "cell_type": "code",
   "execution_count": null,
   "metadata": {},
   "outputs": [],
   "source": [
    "x, y = val_gen.__getitem__(1)"
   ]
  },
  {
   "cell_type": "code",
   "execution_count": null,
   "metadata": {},
   "outputs": [],
   "source": [
    "plt.imshow(x[0][0]*255, cmap = 'gray')"
   ]
  },
  {
   "cell_type": "code",
   "execution_count": null,
   "metadata": {},
   "outputs": [],
   "source": [
    "plt.imshow(x[1][0], cmap = 'gray')"
   ]
  },
  {
   "cell_type": "code",
   "execution_count": null,
   "metadata": {},
   "outputs": [],
   "source": [
    "plt.imshow(x[2][0],cmap = 'gray')"
   ]
  },
  {
   "cell_type": "code",
   "execution_count": 47,
   "metadata": {},
   "outputs": [
    {
     "name": "stderr",
     "output_type": "stream",
     "text": [
      "/usr/local/lib/python3.6/dist-packages/tensorflow/python/keras/engine/functional.py:591: UserWarning: Input dict contained keys ['name'] which did not match any model input. They will be ignored by the model.\n",
      "  [n for n in tensors.keys() if n not in ref_input_names])\n"
     ]
    }
   ],
   "source": [
    "result = model(x)"
   ]
  },
  {
   "cell_type": "code",
   "execution_count": 48,
   "metadata": {},
   "outputs": [
    {
     "data": {
      "text/plain": [
       "<tf.Tensor: shape=(), dtype=float32, numpy=4.1751814>"
      ]
     },
     "execution_count": 48,
     "metadata": {},
     "output_type": "execute_result"
    }
   ],
   "source": [
    "tf.math.reduce_mean(result)"
   ]
  },
  {
   "cell_type": "code",
   "execution_count": 49,
   "metadata": {},
   "outputs": [
    {
     "data": {
      "text/plain": [
       "<matplotlib.image.AxesImage at 0x7f45a3fe7cc0>"
      ]
     },
     "execution_count": 49,
     "metadata": {},
     "output_type": "execute_result"
    },
    {
     "data": {
      "image/png": "[encoded data removed]",
      "text/plain": [
       "<Figure size 432x288 with 1 Axes>"
      ]
     },
     "metadata": {
      "needs_background": "light"
     },
     "output_type": "display_data"
    }
   ],
   "source": [
    "# prob = model.get_layer('tf.compat.v1.squeeze').output\n",
    "\n",
    "prob = model.get_layer('detector_loss_layer').input[1]['prob']\n",
    "m = keras.models.Model(inputs = model.input, outputs = prob)\n",
    "\n",
    "y_pred = m.predict(x)\n",
    "\n",
    "if model_config['nms']:\n",
    "    prob = tf.map_fn(lambda p: box_nms(p, model_config['nms'],\n",
    "                                               min_prob=model_config['detection_threshold'],\n",
    "                                               keep_top_k=model_config['top_k']), y_pred)\n",
    "    pred = tf.cast(tf.greater_equal(prob, model_config['detection_threshold']), tf.float32)\n",
    "    \n",
    "# pred = pred * tf.cast(x['valid_mask'], tf.float32) # multiplied with valid masks\n",
    "\n",
    "plt.imshow(pred[0], cmap = 'gray')"
   ]
  },
  {
   "cell_type": "code",
   "execution_count": 50,
   "metadata": {},
   "outputs": [
    {
     "data": {
      "text/plain": [
       "{'precision': <tf.Tensor: shape=(), dtype=float64, numpy=0.0033505154639175256>,\n",
       " 'recall': <tf.Tensor: shape=(), dtype=float64, numpy=0.06372549019607843>}"
      ]
     },
     "execution_count": 50,
     "metadata": {},
     "output_type": "execute_result"
    }
   ],
   "source": [
    "model_metrics(np.array(tf.cast(x['keypoints'][0], tf.float64)), np.array(pred[0]), np.array(x['valid_mask'][0]))"
   ]
  },
  {
   "cell_type": "code",
   "execution_count": null,
   "metadata": {},
   "outputs": [],
   "source": []
  }
 ],
 "metadata": {
  "kernelspec": {
   "display_name": "Python 3",
   "language": "python",
   "name": "python3"
  },
  "language_info": {
   "codemirror_mode": {
    "name": "ipython",
    "version": 3
   },
   "file_extension": ".py",
   "mimetype": "text/x-python",
   "name": "python",
   "nbconvert_exporter": "python",
   "pygments_lexer": "ipython3",
   "version": "3.6.9"
  }
 },
 "nbformat": 4,
 "nbformat_minor": 2
}
