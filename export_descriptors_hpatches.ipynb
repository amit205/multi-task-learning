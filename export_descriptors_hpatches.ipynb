{
 "cells": [
  {
   "cell_type": "code",
   "execution_count": 1,
   "metadata": {},
   "outputs": [
    {
     "name": "stdout",
     "output_type": "stream",
     "text": [
      "2.5.0\n"
     ]
    }
   ],
   "source": [
    "import tensorflow as tf\n",
    "print(tf.__version__)"
   ]
  },
  {
   "cell_type": "code",
   "execution_count": 2,
   "metadata": {},
   "outputs": [],
   "source": [
    "import numpy as np\n",
    "import cv2\n",
    "import tarfile\n",
    "from pathlib import Path\n",
    "from tqdm import tqdm\n",
    "import shutil\n",
    "from tensorflow import keras\n",
    "from tensorflow.keras import backend as K\n",
    "from tensorflow.keras import layers as tfl\n",
    "from tensorflow.keras.layers import *\n",
    "from tensorflow_addons.image import transform as H_transform\n",
    "import matplotlib.pyplot as plt\n",
    "import os, datetime\n",
    "\n",
    "from models.utils import shared_encoder, detector_head, descriptor_head, detector_loss, descriptor_loss, model_metrics, box_nms\n",
    "from utils.tools import dict_update"
   ]
  },
  {
   "cell_type": "code",
   "execution_count": 3,
   "metadata": {},
   "outputs": [],
   "source": [
    "seed = 1"
   ]
  },
  {
   "cell_type": "code",
   "execution_count": 4,
   "metadata": {},
   "outputs": [
    {
     "name": "stdout",
     "output_type": "stream",
     "text": [
      "/root/Internship-Valeo/Project\r\n"
     ]
    }
   ],
   "source": [
    "!pwd"
   ]
  },
  {
   "cell_type": "code",
   "execution_count": 5,
   "metadata": {},
   "outputs": [],
   "source": [
    "DATA_PATH = '/root/Internship-Valeo/Project/data'"
   ]
  },
  {
   "cell_type": "code",
   "execution_count": 6,
   "metadata": {},
   "outputs": [],
   "source": [
    "from datasets import synthetic_dataset\n",
    "from datasets.utils import pipeline\n",
    "from datasets.utils.pipeline import parse_primitives\n",
    "from datasets.utils import photometric_augmentation as photaug\n",
    "from models.homographies import (sample_homography, compute_valid_mask,\n",
    "                                            warp_points, filter_points, flat2mat, mat2flat)\n",
    "from models.utils import box_nms"
   ]
  },
  {
   "cell_type": "code",
   "execution_count": 7,
   "metadata": {},
   "outputs": [],
   "source": [
    "# read keypoints\n",
    "def _read_points(filename):\n",
    "    return np.load(filename).astype(np.float32)"
   ]
  },
  {
   "cell_type": "code",
   "execution_count": 8,
   "metadata": {},
   "outputs": [],
   "source": [
    "default_config = {\n",
    "        'dataset': 'hpatches',  # or 'coco'\n",
    "        'alteration': 'all',  # 'all', 'i' for illumination or 'v' for viewpoint\n",
    "        'cache_in_memory': False,\n",
    "        'truncate': None,\n",
    "        'preprocessing': {\n",
    "            'resize': False\n",
    "        }\n",
    "    }"
   ]
  },
  {
   "cell_type": "code",
   "execution_count": 9,
   "metadata": {},
   "outputs": [],
   "source": [
    "import yaml\n",
    "with open('/root/Internship-Valeo/Project/configs/superpoint_hpatches.yaml', 'r') as stream:\n",
    "    config = yaml.safe_load(stream)"
   ]
  },
  {
   "cell_type": "code",
   "execution_count": 10,
   "metadata": {},
   "outputs": [],
   "source": [
    "config1 = config\n",
    "config = dict_update(default_config, config['data'])"
   ]
  },
  {
   "cell_type": "code",
   "execution_count": 11,
   "metadata": {},
   "outputs": [],
   "source": [
    "default_model_config = {\n",
    "            'data_format': 'channels_first',\n",
    "            'grid_size': 8,\n",
    "            'detection_threshold': 0.4,\n",
    "            'descriptor_size': 256,\n",
    "            'batch_size': 32,\n",
    "            'learning_rate': 0.001,\n",
    "            'lambda_d': 250,\n",
    "            'descriptor_size': 256,\n",
    "            'positive_margin': 1,\n",
    "            'negative_margin': 0.2,\n",
    "            'lambda_loss': 0.0001,\n",
    "            'nms': 0,\n",
    "            'top_k': 0,\n",
    "    }"
   ]
  },
  {
   "cell_type": "code",
   "execution_count": 12,
   "metadata": {},
   "outputs": [],
   "source": [
    "model_config = dict_update(default_model_config, config1['model'])"
   ]
  },
  {
   "cell_type": "code",
   "execution_count": 13,
   "metadata": {},
   "outputs": [
    {
     "data": {
      "text/plain": [
       "'channels_last'"
      ]
     },
     "execution_count": 13,
     "metadata": {},
     "output_type": "execute_result"
    }
   ],
   "source": [
    "model_config['data_format']"
   ]
  },
  {
   "cell_type": "code",
   "execution_count": 14,
   "metadata": {},
   "outputs": [],
   "source": [
    "class HomographyLayer(Layer):\n",
    "    def call(self, inputs):\n",
    "        return inputs\n",
    "\n",
    "def HomographyModel(shape = (8,)):\n",
    "    x = Input(shape)\n",
    "    output = HomographyLayer(name=\"homography_layer\", trainable=False)(x)\n",
    "    return keras.models.Model(inputs = x, outputs = output)\n",
    "\n",
    "class DescriptorLossLayer(Layer):\n",
    "    def __init__(self, name='descriptor_loss_layer', trainable=False):\n",
    "        super(DescriptorLossLayer, self).__init__(name=name)\n",
    "        self.loss_fn = descriptor_loss\n",
    "#         self.accuracy_fn = keras.metrics.BinaryAccuracy(name=\"accuracy\")\n",
    "\n",
    "    def call(self, inputs, targets=None, sample_weight=None):\n",
    "        loss = model_config['lambda_loss'] * self.loss_fn(descriptors = inputs[0], \n",
    "                                                          warped_descriptors = inputs[1],\n",
    "                            homographies = inputs[2], valid_mask = inputs[3], **model_config)\n",
    "        self.add_loss(loss)\n",
    "#         return tf.reshape(loss, (1,))\n",
    "        return loss\n",
    "    def compute_output_shape(self, input_shape):\n",
    "        return [1]\n",
    "    \n",
    "class DetectorLossLayer(Layer):\n",
    "    def __init__(self, name='detector_loss_layer', trainable=False):\n",
    "        super(DetectorLossLayer, self).__init__(name=name)\n",
    "        self.loss_fn = detector_loss\n",
    "        self.metrics_fn = model_metrics\n",
    "#         self.accuracy_fn = keras.metrics.BinaryAccuracy(name=\"accuracy\")\n",
    "\n",
    "    def call(self, inputs, targets=None, sample_weight=None):\n",
    "        loss = self.loss_fn(keypoint_map = inputs[0], logits = inputs[1]['logits'], \n",
    "                            valid_mask = inputs[2], model_config = model_config)\n",
    "        \n",
    "        if model_config['nms']:\n",
    "            prob = tf.map_fn(lambda p: box_nms(p, model_config['nms'],\n",
    "                                               min_prob=model_config['detection_threshold'],\n",
    "                                               keep_top_k=model_config['top_k']), inputs[1]['prob'])\n",
    "        pred = tf.cast(tf.greater_equal(prob, model_config['detection_threshold']), tf.float32)\n",
    "        \n",
    "        metrics = self.metrics_fn(inputs[0], pred)\n",
    "        self.add_loss(loss)\n",
    "        self.add_metric(metrics['precision'], name = 'detector_precision')\n",
    "        self.add_metric(metrics['recall'], name = 'detector_recall')\n",
    "        return loss\n",
    "    def compute_output_shape(self, input_shape):\n",
    "        return [1]\n",
    "\n",
    "class WarpedDetectorLossLayer(Layer):\n",
    "    def __init__(self, name='warped_detector_loss_layer', trainable=False):\n",
    "        super(WarpedDetectorLossLayer, self).__init__()\n",
    "        self.loss_fn = detector_loss\n",
    "        self.metrics_fn = model_metrics\n",
    "#         self.accuracy_fn = keras.metrics.BinaryAccuracy(name=\"accuracy\")\n",
    "\n",
    "    def call(self, inputs, targets=None, sample_weight=None):\n",
    "        loss = self.loss_fn(keypoint_map = inputs[0], logits = inputs[1]['logits'], \n",
    "                            valid_mask = inputs[2], model_config = model_config)\n",
    "        if model_config['nms']:\n",
    "            prob = tf.map_fn(lambda p: box_nms(p, model_config['nms'],\n",
    "                                               min_prob=model_config['detection_threshold'],\n",
    "                                               keep_top_k=model_config['top_k']), inputs[1]['prob'])\n",
    "        pred = tf.cast(tf.greater_equal(prob, model_config['detection_threshold']), tf.float32)\n",
    "        \n",
    "        metrics = self.metrics_fn(inputs[0], pred, valid_mask = inputs[2])\n",
    "        self.add_loss(loss)\n",
    "        self.add_metric(metrics['precision'], name = 'warped_detector_precision')\n",
    "        self.add_metric(metrics['recall'], name = 'warped_detector_recall')\n",
    "        return loss\n",
    "    def compute_output_shape(self, input_shape):\n",
    "        return [1]\n",
    "    \n",
    "def net():\n",
    "    inputs = {'image':Input(shape = (240, 320, 1), name = 'image'),\n",
    "              'name': Input(shape = (None,1), name = 'name'),\n",
    "              'keypoints':Input(shape = (240,320), name = 'keypoints'),              \n",
    "              'valid_mask':Input(shape = (240,320), name = 'valid_mask'),\n",
    "              'warped':{\n",
    "                  'image':Input(shape = (240, 320, 1), name = 'warped_image'),\n",
    "                  'name': Input(shape = (None,1), name = 'warped_name'),\n",
    "                  'keypoints':Input(shape = (240, 320), name = 'warped_keypoints'),\n",
    "                  'valid_mask':Input(shape = (240, 320), name = 'warped_valid_mask'),\n",
    "                  'homography':Input(shape = (8,), name = 'homography'),\n",
    "               }}\n",
    "\n",
    "#     inputs = OrderedDict((('image',Input(shape = (240, 320, 1), name = 'image')),\n",
    "#               ('name', Input(shape = (), name = 'name')),\n",
    "#               ('keypoints',Input(shape = (240,320), name = 'keypoints')),              \n",
    "#               ('valid_mask',Input(shape = (240,320), name = 'valid_mask')),\n",
    "#               ('warped',OrderedDict((\n",
    "#                   ('image',Input(shape = (240, 320, 1), name = 'warped_image')),\n",
    "#                   ('name', Input(shape = (), name = 'warped_name')),\n",
    "#                   ('keypoints',Input(shape = (240, 320), name = 'warped_keypoints')),\n",
    "#                   ('valid_mask',Input(shape = (240, 320), name = 'warped_valid_mask')),\n",
    "#                   ('homography',Input(shape = (8,), name = 'homography')),))\n",
    "#               )))\n",
    "\n",
    "#     images_input = Input(shape = (240, 320,1), name = 'image')\n",
    "#     points_maps_input = Input(shape = (240, 320), name = 'keypoints')\n",
    "#     homography_list_input = Input(shape = (8,), name = 'homography') \n",
    "#     warped_images_input = Input(shape = (240, 320, 1), name = 'warped_image')\n",
    "\n",
    "#     valid_masks_input = Input(shape = (240, 320), name = 'warped_valid_mask')\n",
    "#     warped_points_maps_input = Input(shape = (240, 320), name = 'warped_keypoints')\n",
    "    \n",
    "    if model_config['data_format'] == 'channels_first':\n",
    "#         images_input = tf.transpose(images_input, [0, 3, 1, 2])\n",
    "        inputs['image'] = tf.transpose(inputs['image'], [0, 3, 1, 2])\n",
    "#         warped_images_input = tf.transpose(warped_images_input, [0, 3, 1, 2])\n",
    "        inputs['warped']['image'] = tf.transpose(inputs['warped']['image'], [0, 3, 1, 2])\n",
    "    homography_model = HomographyModel()\n",
    "#     homography = homography_model(homography_list_input)\n",
    "    homography = homography_model(inputs['warped']['homography'])\n",
    "    \n",
    "    encoder = shared_encoder(shape = (240, 320, 1), model_config = model_config)\n",
    "    encoder_output = encoder(inputs['image'])\n",
    "    warped_encoder_output = encoder(inputs['warped']['image'])\n",
    "    \n",
    "    detector = detector_head(shape= (30, 40, 128), model_config = model_config)\n",
    "    detector_output = detector(encoder_output)\n",
    "    warped_detector_output = detector(warped_encoder_output)\n",
    "    \n",
    "    descriptor = descriptor_head(shape= (30, 40, 128), model_config=model_config)\n",
    "    descriptor_output = descriptor(encoder_output)\n",
    "    warped_descriptor_output = descriptor(warped_encoder_output)\n",
    "    \n",
    "    if model_config['data_format'] == 'channels_first':\n",
    "        detector_output['logits'] = tf.transpose(detector_output['logits'], [0, 3, 1, 2])\n",
    "        warped_detector_output['logits'] = tf.transpose(warped_detector_output['logits'], [0, 3, 1, 2])\n",
    "        descriptor_output['descriptors_raw'] = tf.transpose(descriptor_output['descriptors_raw'], [0, 3, 1, 2])\n",
    "        warped_descriptor_output['descriptors_raw'] = tf.transpose(warped_descriptor_output['descriptors_raw'], [0, 3, 1, 2])\n",
    "\n",
    "#     detector_loss_layer = DetectorLossLayer()([points_maps_input, detector_output])\n",
    "    detector_loss_layer = DetectorLossLayer()([inputs['keypoints'],\n",
    "                                                 detector_output, inputs['valid_mask']])\n",
    "#     warped_detector_loss_layer = WarpedDetectorLossLayer()([warped_points_maps_input, \n",
    "#                                                 warped_detector_output, \n",
    "#                                                       valid_masks_input])\n",
    "    warped_detector_loss_layer = WarpedDetectorLossLayer()([inputs['warped']['keypoints'], \n",
    "                                                warped_detector_output, \n",
    "                                                      inputs['warped']['valid_mask']])\n",
    "    \n",
    "#     descriptor_loss_layer = DescriptorLossLayer()([descriptor_output['descriptors_raw'],\n",
    "#                                                    warped_descriptor_output['descriptors_raw'], \n",
    "#                                           homography, valid_masks_input])\n",
    "    descriptor_loss_layer = DescriptorLossLayer()([descriptor_output['descriptors_raw'],\n",
    "                                                   warped_descriptor_output['descriptors_raw'], \n",
    "                                          inputs['warped']['homography'], inputs['warped']['valid_mask']])\n",
    "    model = keras.models.Model(inputs = inputs,#images_input, homography_list_input, \n",
    "#                                          warped_images_input, \n",
    "#                                          valid_masks_input, \n",
    "#                                          points_maps_input, warped_points_maps_input],\n",
    "                                        \n",
    "                               outputs = [detector_loss_layer, warped_detector_loss_layer, \n",
    "                                          descriptor_loss_layer])\n",
    "    return model"
   ]
  },
  {
   "cell_type": "code",
   "execution_count": 15,
   "metadata": {},
   "outputs": [
    {
     "name": "stdout",
     "output_type": "stream",
     "text": [
      "WARNING:tensorflow:From /usr/local/lib/python3.6/dist-packages/tensorflow/python/ops/array_ops.py:5049: calling gather (from tensorflow.python.ops.array_ops) with validate_indices is deprecated and will be removed in a future version.\n",
      "Instructions for updating:\n",
      "The `validate_indices` argument has no effect. Indices are always validated on CPU and never validated on GPU.\n"
     ]
    }
   ],
   "source": [
    "model = net()"
   ]
  },
  {
   "cell_type": "code",
   "execution_count": 16,
   "metadata": {},
   "outputs": [
    {
     "data": {
      "image/png": "[encoded data removed]",
      "text/plain": [
       "<IPython.core.display.Image object>"
      ]
     },
     "execution_count": 16,
     "metadata": {},
     "output_type": "execute_result"
    }
   ],
   "source": [
    "# model.summary()\n",
    "keras.utils.plot_model(model, to_file=\"model.png\", show_shapes = False, show_dtype=False, show_layer_names=True,\n",
    "    rankdir=\"TB\", expand_nested=False, dpi=96)"
   ]
  },
  {
   "cell_type": "code",
   "execution_count": 17,
   "metadata": {},
   "outputs": [
    {
     "data": {
      "text/plain": [
       "<tensorflow.python.training.tracking.util.CheckpointLoadStatus at 0x7f35bfdd89e8>"
      ]
     },
     "execution_count": 17,
     "metadata": {},
     "output_type": "execute_result"
    }
   ],
   "source": [
    "model.load_weights('/root/Internship-Valeo/Project/results/checkpoint-superpoint-coco-07042022')"
   ]
  },
  {
   "cell_type": "code",
   "execution_count": 18,
   "metadata": {},
   "outputs": [],
   "source": [
    "# Make changes here for illumination vs viewpoint\n",
    "\n",
    "config['alteration'] = 'v'"
   ]
  },
  {
   "cell_type": "code",
   "execution_count": 19,
   "metadata": {},
   "outputs": [],
   "source": [
    "# Make changes here for illumination vs viewpoint\n",
    "\n",
    "# output_dir = '/root/Internship-Valeo/Project/exports/superpoint_hpatches-i'\n",
    "output_dir = '/root/Internship-Valeo/Project/exports/superpoint_hpatches-v'"
   ]
  },
  {
   "cell_type": "code",
   "execution_count": 20,
   "metadata": {},
   "outputs": [],
   "source": [
    "from datasets import patches_dataset\n",
    "data = patches_dataset.PatchesDataset()\n",
    "files = data._init_dataset(**config)\n",
    "# train_gen = data._get_data(files, 'training', **config)\n",
    "# train_gen = train_gen.batch(5)\n",
    "val_gen = data._get_data(files, 'validation', **config)\n",
    "# val_gen = val_gen.batch(5)"
   ]
  },
  {
   "cell_type": "code",
   "execution_count": 21,
   "metadata": {},
   "outputs": [],
   "source": [
    "from keras.models import Model\n",
    "\n",
    "model = model # include here your original model"
   ]
  },
  {
   "cell_type": "code",
   "execution_count": 22,
   "metadata": {},
   "outputs": [
    {
     "data": {
      "text/plain": [
       "{'image': <KerasTensor: shape=(None, 240, 320, 1) dtype=float32 (created by layer 'image')>,\n",
       " 'name': <KerasTensor: shape=(None, None, 1) dtype=float32 (created by layer 'name')>,\n",
       " 'keypoints': <KerasTensor: shape=(None, 240, 320) dtype=float32 (created by layer 'keypoints')>,\n",
       " 'valid_mask': <KerasTensor: shape=(None, 240, 320) dtype=float32 (created by layer 'valid_mask')>,\n",
       " 'warped': {'image': <KerasTensor: shape=(None, 240, 320, 1) dtype=float32 (created by layer 'warped_image')>,\n",
       "  'name': <KerasTensor: shape=(None, None, 1) dtype=float32 (created by layer 'warped_name')>,\n",
       "  'keypoints': <KerasTensor: shape=(None, 240, 320) dtype=float32 (created by layer 'warped_keypoints')>,\n",
       "  'valid_mask': <KerasTensor: shape=(None, 240, 320) dtype=float32 (created by layer 'warped_valid_mask')>,\n",
       "  'homography': <KerasTensor: shape=(None, 8) dtype=float32 (created by layer 'homography')>}}"
      ]
     },
     "execution_count": 22,
     "metadata": {},
     "output_type": "execute_result"
    }
   ],
   "source": [
    "model.input"
   ]
  },
  {
   "cell_type": "code",
   "execution_count": 23,
   "metadata": {},
   "outputs": [],
   "source": [
    "descriptor_model = Model(inputs=[model.input['image'], model.input['warped']['image']],                                 \n",
    "                         outputs=model.get_layer('descriptor_loss_layer').input[0:2])"
   ]
  },
  {
   "cell_type": "code",
   "execution_count": 24,
   "metadata": {},
   "outputs": [
    {
     "data": {
      "text/plain": [
       "[<KerasTensor: shape=(None, 30, 40, 256) dtype=float32 (created by layer 'descriptor_head')>,\n",
       " <KerasTensor: shape=(None, 30, 40, 256) dtype=float32 (created by layer 'descriptor_head')>,\n",
       " <KerasTensor: shape=(None, 8) dtype=float32 (created by layer 'homography')>,\n",
       " <KerasTensor: shape=(None, 240, 320) dtype=float32 (created by layer 'warped_valid_mask')>]"
      ]
     },
     "execution_count": 24,
     "metadata": {},
     "output_type": "execute_result"
    }
   ],
   "source": [
    "model.get_layer('descriptor_loss_layer').input"
   ]
  },
  {
   "cell_type": "code",
   "execution_count": 25,
   "metadata": {},
   "outputs": [],
   "source": [
    "detector_model = Model(inputs=[model.input['image'], model.input['warped']['image']],                                 \n",
    "                         outputs=[model.get_layer('detector_loss_layer').input[1]['prob'], \n",
    "                                  model.get_layer('warped_detector_loss_layer').input[1]['prob']])"
   ]
  },
  {
   "cell_type": "code",
   "execution_count": 26,
   "metadata": {},
   "outputs": [
    {
     "data": {
      "text/plain": [
       "[<KerasTensor: shape=(None, 240, 320) dtype=float32 (created by layer 'keypoints')>,\n",
       " {'logits': <KerasTensor: shape=(None, 30, 40, 65) dtype=float32 (created by layer 'detector_head')>,\n",
       "  'prob': <KerasTensor: shape=(None, 240, 320) dtype=float32 (created by layer 'detector_head')>},\n",
       " <KerasTensor: shape=(None, 240, 320) dtype=float32 (created by layer 'valid_mask')>]"
      ]
     },
     "execution_count": 26,
     "metadata": {},
     "output_type": "execute_result"
    }
   ],
   "source": [
    "model.get_layer('detector_loss_layer').input"
   ]
  },
  {
   "cell_type": "code",
   "execution_count": 27,
   "metadata": {},
   "outputs": [
    {
     "data": {
      "text/plain": [
       "[<KerasTensor: shape=(None, 240, 320) dtype=float32 (created by layer 'warped_keypoints')>,\n",
       " {'logits': <KerasTensor: shape=(None, 30, 40, 65) dtype=float32 (created by layer 'detector_head')>,\n",
       "  'prob': <KerasTensor: shape=(None, 240, 320) dtype=float32 (created by layer 'detector_head')>},\n",
       " <KerasTensor: shape=(None, 240, 320) dtype=float32 (created by layer 'warped_valid_mask')>]"
      ]
     },
     "execution_count": 27,
     "metadata": {},
     "output_type": "execute_result"
    }
   ],
   "source": [
    "model.get_layer('warped_detector_loss_layer').input"
   ]
  },
  {
   "cell_type": "code",
   "execution_count": null,
   "metadata": {},
   "outputs": [
    {
     "name": "stderr",
     "output_type": "stream",
     "text": [
      "  0%|          | 0/600 [00:00<?, ?it/s]/usr/local/lib/python3.6/dist-packages/tensorflow/python/autograph/impl/api.py:376: UserWarning: Input dict contained keys ['homography'] which did not match any model input. They will be ignored by the model.\n",
      "  return py_builtins.overload_of(f)(*args)\n",
      "  7%|▋         | 42/600 [05:46<1:14:52,  8.05s/it]"
     ]
    }
   ],
   "source": [
    "from tqdm import tqdm\n",
    "val_gen = val_gen.batch(1)\n",
    "x = iter(val_gen)\n",
    "\n",
    "pbar = tqdm(total=config1['eval_iter'] if config1['eval_iter'] > 0 else None)\n",
    "i = 0\n",
    "while True:\n",
    "    try:\n",
    "        data = x.get_next()\n",
    "    except data.end_set:\n",
    "        break\n",
    "    data1 = {'image': data['image'][0]}\n",
    "    data2 = {'image': data['warped_image'][0]}\n",
    "    \n",
    "    detector_output = detector_model.predict(data)\n",
    "    prob1 = tf.map_fn(lambda p: box_nms(\n",
    "                p, model_config['nms'], keep_top_k=model_config['top_k']), detector_output[0])\n",
    "    \n",
    "    prob2 = tf.map_fn(lambda p: box_nms(\n",
    "                p, model_config['nms'], keep_top_k=model_config['top_k']), detector_output[1])\n",
    "    \n",
    "    descriptor_output = descriptor_model.predict(data)    \n",
    "    \n",
    "    y = descriptor_output[0]\n",
    "    cfirst = model_config['data_format'] == 'channels_first'\n",
    "    cindex = 1 if cfirst else -1  # index of the channel\n",
    "\n",
    "    desc1 = tf.transpose(y, [0, 2, 3, 1]) if cfirst else y\n",
    "    desc1 = tf.image.resize(\n",
    "            desc1, model_config['grid_size'] * tf.shape(desc1)[1:3], method='bilinear')\n",
    "    desc1 = tf.transpose(desc1, [0, 3, 1, 2]) if cfirst else desc1\n",
    "    desc1 = tf.nn.l2_normalize(desc1, cindex)\n",
    "    \n",
    "    pred1 = desc1\n",
    "    \n",
    "    y = descriptor_output[1]\n",
    "    desc2 = tf.transpose(y, [0, 2, 3, 1]) if cfirst else y\n",
    "    desc2 = tf.image.resize(\n",
    "            desc2, model_config['grid_size'] * tf.shape(desc2)[1:3], method='bilinear')\n",
    "    desc2 = tf.transpose(desc2, [0, 3, 1, 2]) if cfirst else desc2\n",
    "    desc2 = tf.nn.l2_normalize(desc2, cindex)\n",
    "    \n",
    "    pred2 = desc2\n",
    "    \n",
    "    pred = {'image': data['image'][0],\n",
    "            'warped_image': data['warped_image'][0],\n",
    "            'prob': prob1,\n",
    "                    'warped_prob': prob2,\n",
    "                    'desc': pred1,\n",
    "                    'warped_desc': pred2,\n",
    "                    'homography': data['homography']}\n",
    "\n",
    "#     if not ('name' in data):\n",
    "#         pred.update(data)\n",
    "    filename = data['name'][0].decode('utf-8') if 'name' in data else str(i)\n",
    "    filepath = Path(output_dir, '{}.npz'.format(filename))\n",
    "    np.savez_compressed(filepath, **pred)\n",
    "    i += 1\n",
    "    pbar.update(1)\n",
    "    if i == config1['eval_iter']:\n",
    "        break"
   ]
  },
  {
   "cell_type": "code",
   "execution_count": null,
   "metadata": {},
   "outputs": [],
   "source": []
  }
 ],
 "metadata": {
  "kernelspec": {
   "display_name": "Python 3",
   "language": "python",
   "name": "python3"
  },
  "language_info": {
   "codemirror_mode": {
    "name": "ipython",
    "version": 3
   },
   "file_extension": ".py",
   "mimetype": "text/x-python",
   "name": "python",
   "nbconvert_exporter": "python",
   "pygments_lexer": "ipython3",
   "version": "3.6.9"
  }
 },
 "nbformat": 4,
 "nbformat_minor": 2
}
