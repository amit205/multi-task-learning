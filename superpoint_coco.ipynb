{
 "cells": [
  {
   "cell_type": "code",
   "execution_count": 1,
   "metadata": {},
   "outputs": [
    {
     "name": "stdout",
     "output_type": "stream",
     "text": [
      "2.5.0\n"
     ]
    }
   ],
   "source": [
    "import tensorflow as tf\n",
    "print(tf.__version__)"
   ]
  },
  {
   "cell_type": "code",
   "execution_count": 2,
   "metadata": {},
   "outputs": [],
   "source": [
    "# Load the TensorBoard notebook extension.\n",
    "%load_ext tensorboard"
   ]
  },
  {
   "cell_type": "code",
   "execution_count": 3,
   "metadata": {},
   "outputs": [],
   "source": [
    "import numpy as np\n",
    "import cv2\n",
    "import tarfile\n",
    "from pathlib import Path\n",
    "from tqdm import tqdm\n",
    "import shutil\n",
    "from tensorflow import keras\n",
    "from tensorflow.keras import backend as K\n",
    "from tensorflow.keras import layers as tfl\n",
    "from tensorflow.keras.layers import *\n",
    "from tensorflow_addons.image import transform as H_transform\n",
    "import matplotlib.pyplot as plt\n",
    "import os, datetime\n",
    "\n",
    "from models.utils import shared_encoder, detector_head, descriptor_head, detector_loss, descriptor_loss, model_metrics, box_nms\n",
    "from utils.tools import dict_update"
   ]
  },
  {
   "cell_type": "code",
   "execution_count": 4,
   "metadata": {},
   "outputs": [
    {
     "name": "stdout",
     "output_type": "stream",
     "text": [
      "/root/Internship-Valeo/Project\r\n"
     ]
    }
   ],
   "source": [
    "!pwd"
   ]
  },
  {
   "cell_type": "code",
   "execution_count": 5,
   "metadata": {},
   "outputs": [],
   "source": [
    "DATA_PATH = '/root/Internship-Valeo/Project/data'"
   ]
  },
  {
   "cell_type": "code",
   "execution_count": 6,
   "metadata": {},
   "outputs": [],
   "source": [
    "from datasets import synthetic_dataset\n",
    "from datasets.utils import pipeline\n",
    "from datasets.utils.pipeline import parse_primitives\n",
    "from datasets.utils import photometric_augmentation as photaug\n",
    "from models.homographies import (sample_homography, compute_valid_mask,\n",
    "                                            warp_points, filter_points)"
   ]
  },
  {
   "cell_type": "code",
   "execution_count": 7,
   "metadata": {},
   "outputs": [],
   "source": [
    "default_config = {\n",
    "        'labels': None,\n",
    "        'cache_in_memory': False,\n",
    "        'validation_size': 100,\n",
    "        'truncate': None,\n",
    "        'preprocessing': {\n",
    "            'resize': [240, 320]\n",
    "        },\n",
    "        'num_parallel_calls': 10,\n",
    "        'augmentation': {\n",
    "            'photometric': {\n",
    "                'enable': False,\n",
    "                'primitives': 'all',\n",
    "                'params': {},\n",
    "                'random_order': True,\n",
    "            },\n",
    "            'homographic': {\n",
    "                'enable': False,\n",
    "                'params': {},\n",
    "                'valid_border_margin': 0,\n",
    "            },\n",
    "        },\n",
    "        'warped_pair': {\n",
    "            'enable': False,\n",
    "            'params': {},\n",
    "            'valid_border_margin': 0,\n",
    "        },\n",
    "    }"
   ]
  },
  {
   "cell_type": "code",
   "execution_count": 8,
   "metadata": {},
   "outputs": [],
   "source": [
    "import yaml\n",
    "with open('/root/Internship-Valeo/Project/configs/superpoint_coco.yaml', 'r') as stream:\n",
    "    config = yaml.safe_load(stream)"
   ]
  },
  {
   "cell_type": "code",
   "execution_count": 9,
   "metadata": {},
   "outputs": [],
   "source": [
    "config1 = config\n",
    "config = dict_update(default_config, config['data'])"
   ]
  },
  {
   "cell_type": "code",
   "execution_count": 10,
   "metadata": {},
   "outputs": [],
   "source": [
    " default_model_config = {\n",
    "            'data_format': 'channels_first',\n",
    "            'grid_size': 8,\n",
    "            'detection_threshold': 0.4,\n",
    "            'descriptor_size': 256,\n",
    "            'batch_size': 32,\n",
    "            'learning_rate': 0.001,\n",
    "            'lambda_d': 250,\n",
    "            'descriptor_size': 256,\n",
    "            'positive_margin': 1,\n",
    "            'negative_margin': 0.2,\n",
    "            'lambda_loss': 0.0001,\n",
    "            'nms': 0,\n",
    "            'top_k': 0,\n",
    "    }"
   ]
  },
  {
   "cell_type": "code",
   "execution_count": 11,
   "metadata": {},
   "outputs": [],
   "source": [
    "model_config = dict_update(default_model_config, config1['model'])"
   ]
  },
  {
   "cell_type": "code",
   "execution_count": 12,
   "metadata": {},
   "outputs": [],
   "source": [
    "logdir = \"logs/scalars/\" + datetime.datetime.now().strftime(\"%Y%m%d-%H%M%S\")\n",
    "tensorboard_callback = keras.callbacks.TensorBoard(log_dir=logdir)"
   ]
  },
  {
   "cell_type": "code",
   "execution_count": 13,
   "metadata": {},
   "outputs": [],
   "source": [
    "# from datasets import coco\n",
    "# data = coco.Coco()\n",
    "# files = data._init_dataset(**config)\n",
    "# train_gen = data._get_data(files, 'training', **config)\n",
    "# val_gen = data._get_data(files, 'validation', **config)"
   ]
  },
  {
   "cell_type": "code",
   "execution_count": 14,
   "metadata": {},
   "outputs": [],
   "source": [
    "# code for photometric augmentation\n",
    "\n",
    "primitives_photo = parse_primitives(config['augmentation']['photometric']['primitives'], photaug.augmentations)\n",
    "\n",
    "prim_configs = [config['augmentation']['photometric']['params'].get(p, {}) for p in primitives_photo]\n",
    "\n",
    "indices = tf.range(len(primitives_photo))\n",
    "if config['augmentation']['photometric']['random_order']:\n",
    "    indices = tf.random.shuffle(indices)\n",
    "def photo_aug_step(i, image):\n",
    "    fn_pairs = [(tf.equal(indices[i], j), lambda p=p, c=c: getattr(photaug, p)(image, **c))\n",
    "                for j, (p, c) in enumerate(zip(primitives_photo, prim_configs))]\n",
    "    image = tf.case(fn_pairs)\n",
    "    return i + 1, image"
   ]
  },
  {
   "cell_type": "code",
   "execution_count": 15,
   "metadata": {},
   "outputs": [],
   "source": [
    "# read keypoints\n",
    "def _read_points(filename):\n",
    "    print(filename)\n",
    "    np.load(filename)['points'].astype(np.float32)\n",
    "#     return np.load(filename).astype(np.float32)"
   ]
  },
  {
   "cell_type": "code",
   "execution_count": 16,
   "metadata": {},
   "outputs": [],
   "source": [
    "class DataGen(keras.utils.Sequence):\n",
    "    def __init__(self, image_path, point_path, #homography_path, \n",
    "#                  warped_image_path, warped_point_path, \n",
    "                 image_size_x = 320, image_size_y = 240,\n",
    "                 is_training = True, batch_size = model_config['batch_size']):\n",
    "        \n",
    "        self.__ids = os.listdir(image_path)\n",
    "        self.__image_path = image_path\n",
    "        self.__point_path = point_path\n",
    "#         self.__homography_path = homography_path\n",
    "        \n",
    "#         self.__warped_image_path = warped_image_path\n",
    "#         self.__warped_point_path = warped_point_path\n",
    "        \n",
    "        self.__image_size_x = image_size_x\n",
    "        self.__image_size_y = image_size_y\n",
    "        self.__batch_size = batch_size\n",
    "        self.__is_training = is_training\n",
    "        self.on_epoch_end()\n",
    "        \n",
    "    def __getitem__(self, index):\n",
    "        images = []\n",
    "        points_maps = []\n",
    "        points_list = []\n",
    "        \n",
    "        homography_list = []\n",
    "        \n",
    "        warped_images = []\n",
    "        warped_points_maps = []\n",
    "        warped_points_list = []\n",
    "        \n",
    "        valid_masks = []\n",
    "        \n",
    "        if (index + 1)*self.__batch_size > len(self.__ids):\n",
    "            self.__batch_size = len(self.__ids) - index * self.__batch_size\n",
    "            \n",
    "        file_batch = self.__ids[index * self.__batch_size : (index + 1) * self.__batch_size]\n",
    "        \n",
    "        for id_name in file_batch:\n",
    "            img_file = os.path.join(self.__image_path, id_name)\n",
    "            image = cv2.imread(img_file, 0)\n",
    "            image = cv2.resize(image , (self.__image_size_x , self.__image_size_y))\n",
    "            image = np.expand_dims(image, axis = 2)\n",
    "            image_shape = tf.shape(image)[:2]\n",
    "            \n",
    "            id_name = id_name.replace('.jpg','')\n",
    "            \n",
    "#             point_file = os.path.join(self.__point_path, id_name)\n",
    "            point_file = os.path.join(self.__point_path,'{}.npz'.format(id_name))\n",
    "            points = _read_points(point_file)\n",
    "            print(points)\n",
    "#             points = np.round(points).astype(int)\n",
    "    \n",
    "            \n",
    "            if self.__is_training:\n",
    "                # add photometric_augmentation\n",
    "                _, image = tf.while_loop(lambda i, image: tf.less(i, len(primitives_photo)),\n",
    "                                 photo_aug_step, [0, image], parallel_iterations=1)              \n",
    "                \n",
    "                # read homography file\n",
    "#                 homography_file = os.path.join(self.__homography_path, id_name+'.npy')\n",
    "#                 homography = _read_points(homography_file)\n",
    "                homography = sample_homography(image_shape, config['warped_pair']['params'])[0]\n",
    "                \n",
    "                # read warped image\n",
    "#                 warped_img_file = os.path.join(self.__warped_image_path,id_name)\n",
    "#                 warped_image = cv2.imread(warped_img_file, 0)        \n",
    "                warped_image = H_transform(image, homography, interpolation='BILINEAR')\n",
    "                # compute valid mask\n",
    "                valid_mask = compute_valid_mask(image_shape, homography,\n",
    "                                         config['warped_pair']['valid_border_margin'])\n",
    "                \n",
    "                # read warped points\n",
    "#                 warped_point_file = os.path.join(self.__warped_point_path,id_name+'.npy')\n",
    "#                 warped_points = _read_points(warped_point_file)\n",
    "                warped_points = warp_points(points, homography)\n",
    "                warped_points = filter_points(warped_points, image_shape)\n",
    "#                 warped_points = np.round(warped_points).astype(int)\n",
    "    \n",
    "                warped_kp = tf.minimum(warped_points, image_shape-1)\n",
    "                warped_points_map = tf.scatter_nd(warped_kp, tf.ones([tf.shape(warped_kp)[0]], \n",
    "                                                                     dtype=tf.int32), image_shape)\n",
    "                        \n",
    "                \n",
    "                homography_list.append(homography)\n",
    "                warped_image = warped_image / 255.0\n",
    "                warped_images.append(warped_image)\n",
    "                valid_masks.append(valid_mask)\n",
    "                warped_points_list.append(warped_points)\n",
    "                warped_points_maps.append(warped_points_map)\n",
    "\n",
    "            kp = tf.minimum(points, image_shape-1)\n",
    "            points_map = tf.scatter_nd(kp, tf.ones([tf.shape(kp)[0]], dtype=tf.int32), image_shape)\n",
    "            \n",
    "            image = image / 255.0\n",
    "            images.append(image)\n",
    "            \n",
    "            points_maps.append(points_map)\n",
    "            points_list.append(points)\n",
    "            \n",
    "            \n",
    "            \n",
    "        images = np.array(images)\n",
    "        if self.__is_training:\n",
    "            warped_images = np.array(warped_images)\n",
    "            homography_list = np.array(homography_list)\n",
    "            warped_images = np.array(warped_images)\n",
    "            valid_masks = np.expand_dims(valid_masks, axis = 3)\n",
    "            dummy_loss_target = np.zeros(self.__batch_size)\n",
    "            points_maps = np.expand_dims(points_maps, axis = 3)\n",
    "            warped_points_maps = np.expand_dims(warped_points_maps, axis = 3)\n",
    "            return [images, \n",
    "                    homography_list, \n",
    "                    warped_images, \n",
    "                    valid_masks, \n",
    "                    points_maps,\n",
    "                    warped_points_maps], [dummy_loss_target, dummy_loss_target, dummy_loss_target]\n",
    "   \n",
    "           \n",
    "    def __len__(self):\n",
    "        return int(np.ceil(len(self.__ids) / float(self.__batch_size)))\n",
    "    \n",
    "    def on_epoch_end(self):\n",
    "        pass"
   ]
  },
  {
   "cell_type": "code",
   "execution_count": 17,
   "metadata": {},
   "outputs": [],
   "source": [
    "# from collections import OrderedDict"
   ]
  },
  {
   "cell_type": "code",
   "execution_count": 18,
   "metadata": {},
   "outputs": [],
   "source": [
    "class HomographyLayer(Layer):\n",
    "    def call(self, inputs):\n",
    "        return inputs\n",
    "\n",
    "def HomographyModel(shape = (8,)):\n",
    "    x = Input(shape)\n",
    "    output = HomographyLayer(name=\"homography_layer\", trainable=False)(x)\n",
    "    return keras.models.Model(inputs = x, outputs = output)\n",
    "\n",
    "class DescriptorLossLayer(Layer):\n",
    "    def __init__(self, name='descriptor_loss_layer', trainable=False):\n",
    "        super(DescriptorLossLayer, self).__init__(name=name)\n",
    "        self.loss_fn = descriptor_loss\n",
    "#         self.accuracy_fn = keras.metrics.BinaryAccuracy(name=\"accuracy\")\n",
    "\n",
    "    def call(self, inputs, targets=None, sample_weight=None):\n",
    "        loss = model_config['lambda_loss']*self.loss_fn(descriptors = inputs[0], \n",
    "                                                        warped_descriptors = inputs[1], \n",
    "                                                        homographies = inputs[2], \n",
    "                                                        valid_mask = inputs[3], **model_config)\n",
    "        self.add_loss(loss)\n",
    "#         return tf.reshape(loss, (1,))\n",
    "        return loss\n",
    "#     def compute_output_shape(self, input_shape):\n",
    "#         return [1]\n",
    "    \n",
    "class DetectorLossLayer(Layer):\n",
    "    def __init__(self, name='detector_loss_layer', trainable=False):\n",
    "        super(DetectorLossLayer, self).__init__(name=name)\n",
    "        self.loss_fn = detector_loss\n",
    "#         self.metrics_fn = model_metrics\n",
    "#         self.accuracy_fn = keras.metrics.BinaryAccuracy(name=\"accuracy\")\n",
    "\n",
    "    def call(self, inputs, targets=None, sample_weight=None):\n",
    "        loss = self.loss_fn(keypoint_map = inputs[0], logits = inputs[1]['logits'], model_config = model_config)\n",
    "        \n",
    "#         if model_config['nms']:\n",
    "#             prob = tf.map_fn(lambda p: box_nms(p, model_config['nms'],\n",
    "#                                                min_prob=model_config['detection_threshold'],\n",
    "#                                                keep_top_k=model_config['top_k']), inputs[1]['prob'])\n",
    "#         pred = tf.cast(tf.greater_equal(prob, model_config['detection_threshold']), tf.float32)\n",
    "        \n",
    "#         metrics = self.metrics_fn(inputs[0], pred)\n",
    "        self.add_loss(loss)\n",
    "#         self.add_metric(metrics['precision'], name = 'precision')\n",
    "#         self.add_metric(metrics['recall'], name = 'recall')\n",
    "        return loss\n",
    "#     def compute_output_shape(self, input_shape):\n",
    "#         return [1]\n",
    "\n",
    "class WarpedDetectorLossLayer(Layer):\n",
    "    def __init__(self, name='warped_detector_loss_layer', trainable=False):\n",
    "        super(WarpedDetectorLossLayer, self).__init__(name=name)\n",
    "        self.loss_fn = detector_loss\n",
    "#         self.metrics_fn = model_metrics\n",
    "#         self.accuracy_fn = keras.metrics.BinaryAccuracy(name=\"accuracy\")\n",
    "\n",
    "    def call(self, inputs, targets=None, sample_weight=None):\n",
    "        loss = self.loss_fn(keypoint_map = inputs[0], logits = inputs[1]['logits'], \n",
    "                            valid_mask = inputs[2], model_config = model_config)\n",
    "#         if model_config['nms']:\n",
    "#             prob = tf.map_fn(lambda p: box_nms(p, model_config['nms'],\n",
    "#                                                min_prob=model_config['detection_threshold'],\n",
    "#                                                keep_top_k=model_config['top_k']), inputs[1]['prob'])\n",
    "#         pred = tf.cast(tf.greater_equal(prob, model_config['detection_threshold']), tf.float32)\n",
    "        \n",
    "#         metrics = self.metrics_fn(inputs[0], pred, valid_mask = inputs[2])\n",
    "        self.add_loss(loss)\n",
    "#         self.add_metric(metrics['precision'], name = 'precision')\n",
    "#         self.add_metric(metrics['recall'], name = 'recall')\n",
    "        return loss\n",
    "#     def compute_output_shape(self, input_shape):\n",
    "#         return [1]\n",
    "    \n",
    "def net():\n",
    "#     inputs = {'image':Input(shape = (240, 320, 1), name = 'image'),\n",
    "# #               'name': Input(shape = (None,1), name = 'name'),\n",
    "#               'keypoints':Input(shape = (240,320), name = 'keypoints'),              \n",
    "#               'valid_mask':Input(shape = (240,320), name = 'valid_mask'),\n",
    "#               'warped':{\n",
    "#                   'image':Input(shape = (240, 320, 1), name = 'warped_image'),\n",
    "# #                   'name': Input(shape = (None,1), name = 'warped_name'),\n",
    "#                   'keypoints':Input(shape = (240, 320), name = 'warped_keypoints'),\n",
    "#                   'valid_mask':Input(shape = (240, 320), name = 'warped_valid_mask'),\n",
    "#                   'homography':Input(shape = (8,), name = 'homography'),\n",
    "#                }}\n",
    "\n",
    "#     inputs = OrderedDict((('image',Input(shape = (240, 320, 1), name = 'image')),\n",
    "#               ('name', Input(shape = (), name = 'name')),\n",
    "#               ('keypoints',Input(shape = (240,320), name = 'keypoints')),              \n",
    "#               ('valid_mask',Input(shape = (240,320), name = 'valid_mask')),\n",
    "#               ('warped',OrderedDict((\n",
    "#                   ('image',Input(shape = (240, 320, 1), name = 'warped_image')),\n",
    "#                   ('name', Input(shape = (), name = 'warped_name')),\n",
    "#                   ('keypoints',Input(shape = (240, 320), name = 'warped_keypoints')),\n",
    "#                   ('valid_mask',Input(shape = (240, 320), name = 'warped_valid_mask')),\n",
    "#                   ('homography',Input(shape = (8,), name = 'homography')),))\n",
    "#               )))\n",
    "\n",
    "    images_input = Input(shape = (240, 320,1), name = 'image')\n",
    "    points_maps_input = Input(shape = (240, 320), name = 'keypoints')\n",
    "    homography_list_input = Input(shape = (8,), name = 'homography') \n",
    "    warped_images_input = Input(shape = (240, 320, 1), name = 'warped_image')\n",
    "\n",
    "    valid_masks_input = Input(shape = (240, 320), name = 'warped_valid_mask')\n",
    "    warped_points_maps_input = Input(shape = (240, 320), name = 'warped_keypoints')\n",
    "    \n",
    "    if model_config['data_format'] == 'channels_first':\n",
    "        images_input1 = tf.transpose(images_input, [0, 3, 1, 2])\n",
    "#         images_input1 = tf.transpose(inputs['image'], [0, 3, 1, 2])\n",
    "        warped_images_input1 = tf.transpose(warped_images_input, [0, 3, 1, 2])\n",
    "#         warped_images_input1 = tf.transpose(inputs['warped']['image'], [0, 3, 1, 2])\n",
    "    homography_model = HomographyModel()\n",
    "    homography = homography_model(homography_list_input)\n",
    "#     homography = homography_model(inputs['warped']['homography'])\n",
    "    \n",
    "    encoder = shared_encoder(shape = (1, 240, 320), model_config = model_config)\n",
    "    encoder_output = encoder(images_input1)\n",
    "    warped_encoder_output = encoder(warped_images_input1)\n",
    "    \n",
    "    detector = detector_head(shape= (128, 30, 40), model_config = model_config)\n",
    "    detector_output = detector(encoder_output)\n",
    "    warped_detector_output = detector(warped_encoder_output)\n",
    "    \n",
    "    descriptor = descriptor_head(shape= (128, 30, 40), model_config=model_config)\n",
    "    descriptor_output = descriptor(encoder_output)\n",
    "    warped_descriptor_output = descriptor(warped_encoder_output)\n",
    "    \n",
    "    if model_config['data_format'] == 'channels_first':\n",
    "        detector_output['logits'] = tf.transpose(detector_output['logits'], [0, 3, 1, 2])\n",
    "        warped_detector_output['logits'] = tf.transpose(warped_detector_output['logits'], [0, 3, 1, 2])\n",
    "        descriptor_output['descriptors_raw'] = tf.transpose(descriptor_output['descriptors_raw'], [0, 3, 1, 2])\n",
    "        warped_descriptor_output['descriptors_raw'] = tf.transpose(warped_descriptor_output['descriptors_raw'], [0, 3, 1, 2])\n",
    "\n",
    "    detector_loss_layer = DetectorLossLayer()([points_maps_input, detector_output])\n",
    "#     detector_loss_layer = DetectorLossLayer()([inputs['keypoints'], detector_output])\n",
    "    warped_detector_loss_layer = WarpedDetectorLossLayer()([warped_points_maps_input, \n",
    "                                                warped_detector_output, \n",
    "                                                      valid_masks_input])\n",
    "#     warped_detector_loss_layer = WarpedDetectorLossLayer()([inputs['warped']['keypoints'], \n",
    "#                                                 warped_detector_output, \n",
    "#                                                       inputs['warped']['valid_mask']])\n",
    "    \n",
    "    descriptor_loss_layer = DescriptorLossLayer()([descriptor_output['descriptors_raw'],\n",
    "                                                   warped_descriptor_output['descriptors_raw'], \n",
    "                                          homography, valid_masks_input])\n",
    "#     descriptor_loss_layer = DescriptorLossLayer()([descriptor_output['descriptors_raw'],\n",
    "#                                                    warped_descriptor_output['descriptors_raw'], \n",
    "#                                           inputs['warped']['homography'], inputs['warped']['valid_mask']])\n",
    "    model = keras.models.Model(inputs = [images_input, homography_list_input, \n",
    "                                         warped_images_input, \n",
    "                                         valid_masks_input, \n",
    "                                         points_maps_input, warped_points_maps_input],\n",
    "                                        \n",
    "                               outputs = [detector_loss_layer, warped_detector_loss_layer, \n",
    "                                          descriptor_loss_layer])\n",
    "    return model"
   ]
  },
  {
   "cell_type": "code",
   "execution_count": 19,
   "metadata": {},
   "outputs": [],
   "source": [
    "model = net()"
   ]
  },
  {
   "cell_type": "code",
   "execution_count": 20,
   "metadata": {},
   "outputs": [
    {
     "data": {
      "image/png": "[encoded data removed]",
      "text/plain": [
       "<IPython.core.display.Image object>"
      ]
     },
     "execution_count": 20,
     "metadata": {},
     "output_type": "execute_result"
    }
   ],
   "source": [
    "# model.summary()\n",
    "keras.utils.plot_model(model, to_file=\"model.png\", show_shapes=False, show_dtype=False, show_layer_names=True,\n",
    "    rankdir=\"TB\", expand_nested=False, dpi=96)"
   ]
  },
  {
   "cell_type": "code",
   "execution_count": 21,
   "metadata": {},
   "outputs": [],
   "source": [
    "def detect_loss(dummy_target, y_pred):\n",
    "#     return tf.squeeze(y_pred)\n",
    "    return y_pred\n",
    "\n",
    "def descript_loss(dummy_target, y_pred):\n",
    "#     return tf.squeeze(y_pred)\n",
    "    return y_pred\n",
    "\n",
    "def dummy_metrics(dummy_target, y_pred):\n",
    "#     return tf.squeeze(y_pred)\n",
    "    return y_pred\n",
    "\n",
    "def dummy_metrics1(dummy_target, y_pred):\n",
    "#     return tf.squeeze(y_pred)\n",
    "    return y_pred\n",
    "\n",
    "model.compile(optimizer = keras.optimizers.Adam(learning_rate = model_config['learning_rate']),\n",
    "              loss = [detect_loss,detect_loss, descript_loss],\n",
    "             loss_weights=[1., 1., 1.])\n",
    "#                        metrics = [model_metrics, dummy_metrics, dummy_metrics1])"
   ]
  },
  {
   "cell_type": "code",
   "execution_count": 22,
   "metadata": {},
   "outputs": [],
   "source": [
    "# model_checkpoint_callback = keras.callbacks.ModelCheckpoint(\n",
    "#         # Path where to save the model\n",
    "#         # The two parameters below mean that we will overwrite\n",
    "#         # the current checkpoint if and only if\n",
    "#         # the `val_loss` score has improved.\n",
    "#         # The saved model name will include the current epoch.\n",
    "#         filepath=\"/root/Internship-Valeo/Project/results/superpoint050222_{epoch}\",\n",
    "#         save_best_only=True,  # Only save a model if `val_loss` has improved.\n",
    "#         monitor=\"val_loss\",\n",
    "#         verbose=1,)\n",
    "\n",
    "# TerminateOnNaN = tf.keras.callbacks.TerminateOnNaN()"
   ]
  },
  {
   "cell_type": "code",
   "execution_count": 23,
   "metadata": {},
   "outputs": [],
   "source": [
    "image_path_train = '/root/Internship-Valeo/Project/data/COCO/anntrain2014'\n",
    "point_path_train = '/root/Internship-Valeo/Project/data/COCO/magic_point-coco-export/pointstrain2014'\n",
    "# homography_path_train = '/root/Internship-Valeo/Project/data/COCO/homographies_train'\n",
    "\n",
    "# warped_image_path_train = '/root/Internship-Valeo/Project/data/COCO/warptrain2014'\n",
    "# warped_point_path_train = '/root/Internship-Valeo/Project/data/COCO/warped_pointstrain2014'\n"
   ]
  },
  {
   "cell_type": "code",
   "execution_count": 24,
   "metadata": {},
   "outputs": [],
   "source": [
    "train_gen = DataGen(image_path = image_path_train, point_path = point_path_train, \n",
    "#                    homography_path = homography_path_train,  \n",
    "#                    warped_image_path = warped_image_path_train, warped_point_path = warped_point_path_train, \n",
    "                    \n",
    "                 image_size_x = 320, image_size_y = 240,\n",
    "                 is_training = True, batch_size = model_config['batch_size'])\n",
    "\n",
    "\n",
    "train_steps =  len(os.listdir(image_path_train))/model_config['batch_size']"
   ]
  },
  {
   "cell_type": "code",
   "execution_count": 25,
   "metadata": {},
   "outputs": [],
   "source": [
    "# image_path_val = '/root/Internship-Valeo/Project/data/COCO/annval2014'\n",
    "# point_path_val = '/root/Internship-Valeo/Project/data/COCO/pointsval2014'\n",
    "# homography_path_val = '/root/Internship-Valeo/Project/data/COCO/homographies_val'\n",
    "\n",
    "# warped_image_path_val = '/root/Internship-Valeo/Project/data/COCO/warpval2014'\n",
    "# warped_point_path_val = '/root/Internship-Valeo/Project/data/COCO/warped_pointsval2014'"
   ]
  },
  {
   "cell_type": "code",
   "execution_count": 26,
   "metadata": {},
   "outputs": [],
   "source": [
    "# val_gen = DataGen(image_path = image_path_val, point_path = point_path_val, \n",
    "#                    homography_path = homography_path_val, \n",
    "#                    warped_image_path = warped_image_path_val, warped_point_path = warped_point_path_val, \n",
    "                   \n",
    "#                  image_size_x = 320, image_size_y = 240,\n",
    "#                  is_training = True, batch_size = model_config['batch_size'])"
   ]
  },
  {
   "cell_type": "code",
   "execution_count": 27,
   "metadata": {},
   "outputs": [],
   "source": [
    "# train_image_path = DATA_PATH + '/COCO/anntrain2014'\n",
    "# # train_gen = train_gen.repeat()\n",
    "# train_gen = train_gen.batch(model_config['batch_size'])\n",
    "# val_gen = val_gen.take(config['validation_size'])\n",
    "# val_gen = val_gen.batch(model_config['eval_batch_size'])"
   ]
  },
  {
   "cell_type": "code",
   "execution_count": 28,
   "metadata": {},
   "outputs": [
    {
     "name": "stdout",
     "output_type": "stream",
     "text": [
      "/root/Internship-Valeo/Project/data/COCO/magic_point-coco-export/pointstrain2014/b'COCO_train2014_000000533809'.npz\n",
      "None\n"
     ]
    },
    {
     "ename": "ValueError",
     "evalue": "Attempt to convert a value (None) with an unsupported type (<class 'NoneType'>) to a Tensor.",
     "output_type": "error",
     "traceback": [
      "\u001b[0;31m---------------------------------------------------------------------------\u001b[0m",
      "\u001b[0;31mValueError\u001b[0m                                Traceback (most recent call last)",
      "\u001b[0;32m<ipython-input-28-3d6c83c7a686>\u001b[0m in \u001b[0;36m<module>\u001b[0;34m\u001b[0m\n\u001b[1;32m      4\u001b[0m                      \u001b[0msteps_per_epoch\u001b[0m \u001b[0;34m=\u001b[0m \u001b[0;36m1000\u001b[0m\u001b[0;34m,\u001b[0m \u001b[0mepochs\u001b[0m\u001b[0;34m=\u001b[0m\u001b[0;36m25\u001b[0m\u001b[0;34m,\u001b[0m\u001b[0;34m\u001b[0m\u001b[0;34m\u001b[0m\u001b[0m\n\u001b[1;32m      5\u001b[0m                     callbacks=[#model_checkpoint_callback, TerminateOnNaN, \n\u001b[0;32m----> 6\u001b[0;31m                         tensorboard_callback])\n\u001b[0m",
      "\u001b[0;32m/usr/local/lib/python3.6/dist-packages/tensorflow/python/keras/engine/training.py\u001b[0m in \u001b[0;36mfit\u001b[0;34m(self, x, y, batch_size, epochs, verbose, callbacks, validation_split, validation_data, shuffle, class_weight, sample_weight, initial_epoch, steps_per_epoch, validation_steps, validation_batch_size, validation_freq, max_queue_size, workers, use_multiprocessing)\u001b[0m\n\u001b[1;32m   1145\u001b[0m           \u001b[0muse_multiprocessing\u001b[0m\u001b[0;34m=\u001b[0m\u001b[0muse_multiprocessing\u001b[0m\u001b[0;34m,\u001b[0m\u001b[0;34m\u001b[0m\u001b[0;34m\u001b[0m\u001b[0m\n\u001b[1;32m   1146\u001b[0m           \u001b[0mmodel\u001b[0m\u001b[0;34m=\u001b[0m\u001b[0mself\u001b[0m\u001b[0;34m,\u001b[0m\u001b[0;34m\u001b[0m\u001b[0;34m\u001b[0m\u001b[0m\n\u001b[0;32m-> 1147\u001b[0;31m           steps_per_execution=self._steps_per_execution)\n\u001b[0m\u001b[1;32m   1148\u001b[0m \u001b[0;34m\u001b[0m\u001b[0m\n\u001b[1;32m   1149\u001b[0m       \u001b[0;31m# Container that configures and calls `tf.keras.Callback`s.\u001b[0m\u001b[0;34m\u001b[0m\u001b[0;34m\u001b[0m\u001b[0;34m\u001b[0m\u001b[0m\n",
      "\u001b[0;32m/usr/local/lib/python3.6/dist-packages/tensorflow/python/keras/engine/data_adapter.py\u001b[0m in \u001b[0;36mget_data_handler\u001b[0;34m(*args, **kwargs)\u001b[0m\n\u001b[1;32m   1362\u001b[0m   \u001b[0;32mif\u001b[0m \u001b[0mgetattr\u001b[0m\u001b[0;34m(\u001b[0m\u001b[0mkwargs\u001b[0m\u001b[0;34m[\u001b[0m\u001b[0;34m\"model\"\u001b[0m\u001b[0;34m]\u001b[0m\u001b[0;34m,\u001b[0m \u001b[0;34m\"_cluster_coordinator\"\u001b[0m\u001b[0;34m,\u001b[0m \u001b[0;32mNone\u001b[0m\u001b[0;34m)\u001b[0m\u001b[0;34m:\u001b[0m\u001b[0;34m\u001b[0m\u001b[0;34m\u001b[0m\u001b[0m\n\u001b[1;32m   1363\u001b[0m     \u001b[0;32mreturn\u001b[0m \u001b[0m_ClusterCoordinatorDataHandler\u001b[0m\u001b[0;34m(\u001b[0m\u001b[0;34m*\u001b[0m\u001b[0margs\u001b[0m\u001b[0;34m,\u001b[0m \u001b[0;34m**\u001b[0m\u001b[0mkwargs\u001b[0m\u001b[0;34m)\u001b[0m\u001b[0;34m\u001b[0m\u001b[0;34m\u001b[0m\u001b[0m\n\u001b[0;32m-> 1364\u001b[0;31m   \u001b[0;32mreturn\u001b[0m \u001b[0mDataHandler\u001b[0m\u001b[0;34m(\u001b[0m\u001b[0;34m*\u001b[0m\u001b[0margs\u001b[0m\u001b[0;34m,\u001b[0m \u001b[0;34m**\u001b[0m\u001b[0mkwargs\u001b[0m\u001b[0;34m)\u001b[0m\u001b[0;34m\u001b[0m\u001b[0;34m\u001b[0m\u001b[0m\n\u001b[0m\u001b[1;32m   1365\u001b[0m \u001b[0;34m\u001b[0m\u001b[0m\n\u001b[1;32m   1366\u001b[0m \u001b[0;34m\u001b[0m\u001b[0m\n",
      "\u001b[0;32m/usr/local/lib/python3.6/dist-packages/tensorflow/python/keras/engine/data_adapter.py\u001b[0m in \u001b[0;36m__init__\u001b[0;34m(self, x, y, sample_weight, batch_size, steps_per_epoch, initial_epoch, epochs, shuffle, class_weight, max_queue_size, workers, use_multiprocessing, model, steps_per_execution, distribute)\u001b[0m\n\u001b[1;32m   1164\u001b[0m         \u001b[0muse_multiprocessing\u001b[0m\u001b[0;34m=\u001b[0m\u001b[0muse_multiprocessing\u001b[0m\u001b[0;34m,\u001b[0m\u001b[0;34m\u001b[0m\u001b[0;34m\u001b[0m\u001b[0m\n\u001b[1;32m   1165\u001b[0m         \u001b[0mdistribution_strategy\u001b[0m\u001b[0;34m=\u001b[0m\u001b[0mds_context\u001b[0m\u001b[0;34m.\u001b[0m\u001b[0mget_strategy\u001b[0m\u001b[0;34m(\u001b[0m\u001b[0;34m)\u001b[0m\u001b[0;34m,\u001b[0m\u001b[0;34m\u001b[0m\u001b[0;34m\u001b[0m\u001b[0m\n\u001b[0;32m-> 1166\u001b[0;31m         model=model)\n\u001b[0m\u001b[1;32m   1167\u001b[0m \u001b[0;34m\u001b[0m\u001b[0m\n\u001b[1;32m   1168\u001b[0m     \u001b[0mstrategy\u001b[0m \u001b[0;34m=\u001b[0m \u001b[0mds_context\u001b[0m\u001b[0;34m.\u001b[0m\u001b[0mget_strategy\u001b[0m\u001b[0;34m(\u001b[0m\u001b[0;34m)\u001b[0m\u001b[0;34m\u001b[0m\u001b[0;34m\u001b[0m\u001b[0m\n",
      "\u001b[0;32m/usr/local/lib/python3.6/dist-packages/tensorflow/python/keras/engine/data_adapter.py\u001b[0m in \u001b[0;36m__init__\u001b[0;34m(self, x, y, sample_weights, shuffle, workers, use_multiprocessing, max_queue_size, model, **kwargs)\u001b[0m\n\u001b[1;32m    937\u001b[0m         \u001b[0mmax_queue_size\u001b[0m\u001b[0;34m=\u001b[0m\u001b[0mmax_queue_size\u001b[0m\u001b[0;34m,\u001b[0m\u001b[0;34m\u001b[0m\u001b[0;34m\u001b[0m\u001b[0m\n\u001b[1;32m    938\u001b[0m         \u001b[0mmodel\u001b[0m\u001b[0;34m=\u001b[0m\u001b[0mmodel\u001b[0m\u001b[0;34m,\u001b[0m\u001b[0;34m\u001b[0m\u001b[0;34m\u001b[0m\u001b[0m\n\u001b[0;32m--> 939\u001b[0;31m         **kwargs)\n\u001b[0m\u001b[1;32m    940\u001b[0m \u001b[0;34m\u001b[0m\u001b[0m\n\u001b[1;32m    941\u001b[0m   \u001b[0;34m@\u001b[0m\u001b[0mstaticmethod\u001b[0m\u001b[0;34m\u001b[0m\u001b[0;34m\u001b[0m\u001b[0m\n",
      "\u001b[0;32m/usr/local/lib/python3.6/dist-packages/tensorflow/python/keras/engine/data_adapter.py\u001b[0m in \u001b[0;36m__init__\u001b[0;34m(self, x, y, sample_weights, workers, use_multiprocessing, max_queue_size, model, **kwargs)\u001b[0m\n\u001b[1;32m    807\u001b[0m     \u001b[0;31m# Since we have to know the dtype of the python generator when we build the\u001b[0m\u001b[0;34m\u001b[0m\u001b[0;34m\u001b[0m\u001b[0;34m\u001b[0m\u001b[0m\n\u001b[1;32m    808\u001b[0m     \u001b[0;31m# dataset, we have to look at a batch to infer the structure.\u001b[0m\u001b[0;34m\u001b[0m\u001b[0;34m\u001b[0m\u001b[0;34m\u001b[0m\u001b[0m\n\u001b[0;32m--> 809\u001b[0;31m     \u001b[0mpeek\u001b[0m\u001b[0;34m,\u001b[0m \u001b[0mx\u001b[0m \u001b[0;34m=\u001b[0m \u001b[0mself\u001b[0m\u001b[0;34m.\u001b[0m\u001b[0m_peek_and_restore\u001b[0m\u001b[0;34m(\u001b[0m\u001b[0mx\u001b[0m\u001b[0;34m)\u001b[0m\u001b[0;34m\u001b[0m\u001b[0;34m\u001b[0m\u001b[0m\n\u001b[0m\u001b[1;32m    810\u001b[0m     \u001b[0mpeek\u001b[0m \u001b[0;34m=\u001b[0m \u001b[0mself\u001b[0m\u001b[0;34m.\u001b[0m\u001b[0m_standardize_batch\u001b[0m\u001b[0;34m(\u001b[0m\u001b[0mpeek\u001b[0m\u001b[0;34m)\u001b[0m\u001b[0;34m\u001b[0m\u001b[0;34m\u001b[0m\u001b[0m\n\u001b[1;32m    811\u001b[0m     \u001b[0mpeek\u001b[0m \u001b[0;34m=\u001b[0m \u001b[0m_process_tensorlike\u001b[0m\u001b[0;34m(\u001b[0m\u001b[0mpeek\u001b[0m\u001b[0;34m)\u001b[0m\u001b[0;34m\u001b[0m\u001b[0;34m\u001b[0m\u001b[0m\n",
      "\u001b[0;32m/usr/local/lib/python3.6/dist-packages/tensorflow/python/keras/engine/data_adapter.py\u001b[0m in \u001b[0;36m_peek_and_restore\u001b[0;34m(x)\u001b[0m\n\u001b[1;32m    941\u001b[0m   \u001b[0;34m@\u001b[0m\u001b[0mstaticmethod\u001b[0m\u001b[0;34m\u001b[0m\u001b[0;34m\u001b[0m\u001b[0m\n\u001b[1;32m    942\u001b[0m   \u001b[0;32mdef\u001b[0m \u001b[0m_peek_and_restore\u001b[0m\u001b[0;34m(\u001b[0m\u001b[0mx\u001b[0m\u001b[0;34m)\u001b[0m\u001b[0;34m:\u001b[0m\u001b[0;34m\u001b[0m\u001b[0;34m\u001b[0m\u001b[0m\n\u001b[0;32m--> 943\u001b[0;31m     \u001b[0;32mreturn\u001b[0m \u001b[0mx\u001b[0m\u001b[0;34m[\u001b[0m\u001b[0;36m0\u001b[0m\u001b[0;34m]\u001b[0m\u001b[0;34m,\u001b[0m \u001b[0mx\u001b[0m\u001b[0;34m\u001b[0m\u001b[0;34m\u001b[0m\u001b[0m\n\u001b[0m\u001b[1;32m    944\u001b[0m \u001b[0;34m\u001b[0m\u001b[0m\n\u001b[1;32m    945\u001b[0m   def _handle_multiprocessing(self, x, workers, use_multiprocessing,\n",
      "\u001b[0;32m<ipython-input-16-45d750402642>\u001b[0m in \u001b[0;36m__getitem__\u001b[0;34m(self, index)\u001b[0m\n\u001b[1;32m     74\u001b[0m \u001b[0;31m#                 warped_point_file = os.path.join(self.__warped_point_path,id_name+'.npy')\u001b[0m\u001b[0;34m\u001b[0m\u001b[0;34m\u001b[0m\u001b[0;34m\u001b[0m\u001b[0m\n\u001b[1;32m     75\u001b[0m \u001b[0;31m#                 warped_points = _read_points(warped_point_file)\u001b[0m\u001b[0;34m\u001b[0m\u001b[0;34m\u001b[0m\u001b[0;34m\u001b[0m\u001b[0m\n\u001b[0;32m---> 76\u001b[0;31m                 \u001b[0mwarped_points\u001b[0m \u001b[0;34m=\u001b[0m \u001b[0mwarp_points\u001b[0m\u001b[0;34m(\u001b[0m\u001b[0mpoints\u001b[0m\u001b[0;34m,\u001b[0m \u001b[0mhomography\u001b[0m\u001b[0;34m)\u001b[0m\u001b[0;34m\u001b[0m\u001b[0;34m\u001b[0m\u001b[0m\n\u001b[0m\u001b[1;32m     77\u001b[0m                 \u001b[0mwarped_points\u001b[0m \u001b[0;34m=\u001b[0m \u001b[0mfilter_points\u001b[0m\u001b[0;34m(\u001b[0m\u001b[0mwarped_points\u001b[0m\u001b[0;34m,\u001b[0m \u001b[0mimage_shape\u001b[0m\u001b[0;34m)\u001b[0m\u001b[0;34m\u001b[0m\u001b[0;34m\u001b[0m\u001b[0m\n\u001b[1;32m     78\u001b[0m \u001b[0;31m#                 warped_points = np.round(warped_points).astype(int)\u001b[0m\u001b[0;34m\u001b[0m\u001b[0;34m\u001b[0m\u001b[0;34m\u001b[0m\u001b[0m\n",
      "\u001b[0;32m~/Internship-Valeo/Project/models/homographies.py\u001b[0m in \u001b[0;36mwarp_points\u001b[0;34m(points, homography)\u001b[0m\n\u001b[1;32m    294\u001b[0m \u001b[0;34m\u001b[0m\u001b[0m\n\u001b[1;32m    295\u001b[0m     \u001b[0;31m# Get the points to the homogeneous format\u001b[0m\u001b[0;34m\u001b[0m\u001b[0;34m\u001b[0m\u001b[0;34m\u001b[0m\u001b[0m\n\u001b[0;32m--> 296\u001b[0;31m     \u001b[0mnum_points\u001b[0m \u001b[0;34m=\u001b[0m \u001b[0mtf\u001b[0m\u001b[0;34m.\u001b[0m\u001b[0mshape\u001b[0m\u001b[0;34m(\u001b[0m\u001b[0mpoints\u001b[0m\u001b[0;34m)\u001b[0m\u001b[0;34m[\u001b[0m\u001b[0;36m0\u001b[0m\u001b[0;34m]\u001b[0m\u001b[0;34m\u001b[0m\u001b[0;34m\u001b[0m\u001b[0m\n\u001b[0m\u001b[1;32m    297\u001b[0m     \u001b[0mpoints\u001b[0m \u001b[0;34m=\u001b[0m \u001b[0mtf\u001b[0m\u001b[0;34m.\u001b[0m\u001b[0mcast\u001b[0m\u001b[0;34m(\u001b[0m\u001b[0mpoints\u001b[0m\u001b[0;34m,\u001b[0m \u001b[0mtf\u001b[0m\u001b[0;34m.\u001b[0m\u001b[0mfloat32\u001b[0m\u001b[0;34m)\u001b[0m\u001b[0;34m[\u001b[0m\u001b[0;34m:\u001b[0m\u001b[0;34m,\u001b[0m \u001b[0;34m:\u001b[0m\u001b[0;34m:\u001b[0m\u001b[0;34m-\u001b[0m\u001b[0;36m1\u001b[0m\u001b[0;34m]\u001b[0m\u001b[0;34m\u001b[0m\u001b[0;34m\u001b[0m\u001b[0m\n\u001b[1;32m    298\u001b[0m     \u001b[0mpoints\u001b[0m \u001b[0;34m=\u001b[0m \u001b[0mtf\u001b[0m\u001b[0;34m.\u001b[0m\u001b[0mconcat\u001b[0m\u001b[0;34m(\u001b[0m\u001b[0;34m[\u001b[0m\u001b[0mpoints\u001b[0m\u001b[0;34m,\u001b[0m \u001b[0mtf\u001b[0m\u001b[0;34m.\u001b[0m\u001b[0mones\u001b[0m\u001b[0;34m(\u001b[0m\u001b[0;34m[\u001b[0m\u001b[0mnum_points\u001b[0m\u001b[0;34m,\u001b[0m \u001b[0;36m1\u001b[0m\u001b[0;34m]\u001b[0m\u001b[0;34m,\u001b[0m \u001b[0mdtype\u001b[0m\u001b[0;34m=\u001b[0m\u001b[0mtf\u001b[0m\u001b[0;34m.\u001b[0m\u001b[0mfloat32\u001b[0m\u001b[0;34m)\u001b[0m\u001b[0;34m]\u001b[0m\u001b[0;34m,\u001b[0m \u001b[0;34m-\u001b[0m\u001b[0;36m1\u001b[0m\u001b[0;34m)\u001b[0m\u001b[0;34m\u001b[0m\u001b[0;34m\u001b[0m\u001b[0m\n",
      "\u001b[0;32m/usr/local/lib/python3.6/dist-packages/tensorflow/python/util/dispatch.py\u001b[0m in \u001b[0;36mwrapper\u001b[0;34m(*args, **kwargs)\u001b[0m\n\u001b[1;32m    204\u001b[0m     \u001b[0;34m\"\"\"Call target, and fall back on dispatchers if there is a TypeError.\"\"\"\u001b[0m\u001b[0;34m\u001b[0m\u001b[0;34m\u001b[0m\u001b[0m\n\u001b[1;32m    205\u001b[0m     \u001b[0;32mtry\u001b[0m\u001b[0;34m:\u001b[0m\u001b[0;34m\u001b[0m\u001b[0;34m\u001b[0m\u001b[0m\n\u001b[0;32m--> 206\u001b[0;31m       \u001b[0;32mreturn\u001b[0m \u001b[0mtarget\u001b[0m\u001b[0;34m(\u001b[0m\u001b[0;34m*\u001b[0m\u001b[0margs\u001b[0m\u001b[0;34m,\u001b[0m \u001b[0;34m**\u001b[0m\u001b[0mkwargs\u001b[0m\u001b[0;34m)\u001b[0m\u001b[0;34m\u001b[0m\u001b[0;34m\u001b[0m\u001b[0m\n\u001b[0m\u001b[1;32m    207\u001b[0m     \u001b[0;32mexcept\u001b[0m \u001b[0;34m(\u001b[0m\u001b[0mTypeError\u001b[0m\u001b[0;34m,\u001b[0m \u001b[0mValueError\u001b[0m\u001b[0;34m)\u001b[0m\u001b[0;34m:\u001b[0m\u001b[0;34m\u001b[0m\u001b[0;34m\u001b[0m\u001b[0m\n\u001b[1;32m    208\u001b[0m       \u001b[0;31m# Note: convert_to_eager_tensor currently raises a ValueError, not a\u001b[0m\u001b[0;34m\u001b[0m\u001b[0;34m\u001b[0m\u001b[0;34m\u001b[0m\u001b[0m\n",
      "\u001b[0;32m/usr/local/lib/python3.6/dist-packages/tensorflow/python/ops/array_ops.py\u001b[0m in \u001b[0;36mshape_v2\u001b[0;34m(input, out_type, name)\u001b[0m\n\u001b[1;32m    621\u001b[0m     \u001b[0mA\u001b[0m\u001b[0;31m \u001b[0m\u001b[0;31m`\u001b[0m\u001b[0mTensor\u001b[0m\u001b[0;31m`\u001b[0m \u001b[0mof\u001b[0m \u001b[0mtype\u001b[0m\u001b[0;31m \u001b[0m\u001b[0;31m`\u001b[0m\u001b[0mout_type\u001b[0m\u001b[0;31m`\u001b[0m\u001b[0;34m.\u001b[0m\u001b[0;34m\u001b[0m\u001b[0;34m\u001b[0m\u001b[0m\n\u001b[1;32m    622\u001b[0m   \"\"\"\n\u001b[0;32m--> 623\u001b[0;31m   \u001b[0;32mreturn\u001b[0m \u001b[0mshape\u001b[0m\u001b[0;34m(\u001b[0m\u001b[0minput\u001b[0m\u001b[0;34m,\u001b[0m \u001b[0mname\u001b[0m\u001b[0;34m,\u001b[0m \u001b[0mout_type\u001b[0m\u001b[0;34m)\u001b[0m\u001b[0;34m\u001b[0m\u001b[0;34m\u001b[0m\u001b[0m\n\u001b[0m\u001b[1;32m    624\u001b[0m \u001b[0;34m\u001b[0m\u001b[0m\n\u001b[1;32m    625\u001b[0m \u001b[0;34m\u001b[0m\u001b[0m\n",
      "\u001b[0;32m/usr/local/lib/python3.6/dist-packages/tensorflow/python/util/dispatch.py\u001b[0m in \u001b[0;36mwrapper\u001b[0;34m(*args, **kwargs)\u001b[0m\n\u001b[1;32m    204\u001b[0m     \u001b[0;34m\"\"\"Call target, and fall back on dispatchers if there is a TypeError.\"\"\"\u001b[0m\u001b[0;34m\u001b[0m\u001b[0;34m\u001b[0m\u001b[0m\n\u001b[1;32m    205\u001b[0m     \u001b[0;32mtry\u001b[0m\u001b[0;34m:\u001b[0m\u001b[0;34m\u001b[0m\u001b[0;34m\u001b[0m\u001b[0m\n\u001b[0;32m--> 206\u001b[0;31m       \u001b[0;32mreturn\u001b[0m \u001b[0mtarget\u001b[0m\u001b[0;34m(\u001b[0m\u001b[0;34m*\u001b[0m\u001b[0margs\u001b[0m\u001b[0;34m,\u001b[0m \u001b[0;34m**\u001b[0m\u001b[0mkwargs\u001b[0m\u001b[0;34m)\u001b[0m\u001b[0;34m\u001b[0m\u001b[0;34m\u001b[0m\u001b[0m\n\u001b[0m\u001b[1;32m    207\u001b[0m     \u001b[0;32mexcept\u001b[0m \u001b[0;34m(\u001b[0m\u001b[0mTypeError\u001b[0m\u001b[0;34m,\u001b[0m \u001b[0mValueError\u001b[0m\u001b[0;34m)\u001b[0m\u001b[0;34m:\u001b[0m\u001b[0;34m\u001b[0m\u001b[0;34m\u001b[0m\u001b[0m\n\u001b[1;32m    208\u001b[0m       \u001b[0;31m# Note: convert_to_eager_tensor currently raises a ValueError, not a\u001b[0m\u001b[0;34m\u001b[0m\u001b[0;34m\u001b[0m\u001b[0;34m\u001b[0m\u001b[0m\n",
      "\u001b[0;32m/usr/local/lib/python3.6/dist-packages/tensorflow/python/ops/array_ops.py\u001b[0m in \u001b[0;36mshape\u001b[0;34m(input, name, out_type)\u001b[0m\n\u001b[1;32m    648\u001b[0m     \u001b[0mA\u001b[0m\u001b[0;31m \u001b[0m\u001b[0;31m`\u001b[0m\u001b[0mTensor\u001b[0m\u001b[0;31m`\u001b[0m \u001b[0mof\u001b[0m \u001b[0mtype\u001b[0m\u001b[0;31m \u001b[0m\u001b[0;31m`\u001b[0m\u001b[0mout_type\u001b[0m\u001b[0;31m`\u001b[0m\u001b[0;34m.\u001b[0m\u001b[0;34m\u001b[0m\u001b[0;34m\u001b[0m\u001b[0m\n\u001b[1;32m    649\u001b[0m   \"\"\"\n\u001b[0;32m--> 650\u001b[0;31m   \u001b[0;32mreturn\u001b[0m \u001b[0mshape_internal\u001b[0m\u001b[0;34m(\u001b[0m\u001b[0minput\u001b[0m\u001b[0;34m,\u001b[0m \u001b[0mname\u001b[0m\u001b[0;34m,\u001b[0m \u001b[0moptimize\u001b[0m\u001b[0;34m=\u001b[0m\u001b[0;32mTrue\u001b[0m\u001b[0;34m,\u001b[0m \u001b[0mout_type\u001b[0m\u001b[0;34m=\u001b[0m\u001b[0mout_type\u001b[0m\u001b[0;34m)\u001b[0m\u001b[0;34m\u001b[0m\u001b[0;34m\u001b[0m\u001b[0m\n\u001b[0m\u001b[1;32m    651\u001b[0m \u001b[0;34m\u001b[0m\u001b[0m\n\u001b[1;32m    652\u001b[0m \u001b[0;34m\u001b[0m\u001b[0m\n",
      "\u001b[0;32m/usr/local/lib/python3.6/dist-packages/tensorflow/python/ops/array_ops.py\u001b[0m in \u001b[0;36mshape_internal\u001b[0;34m(input, name, optimize, out_type)\u001b[0m\n\u001b[1;32m    676\u001b[0m         \u001b[0;32mif\u001b[0m \u001b[0moptimize\u001b[0m \u001b[0;32mand\u001b[0m \u001b[0minput_shape\u001b[0m\u001b[0;34m.\u001b[0m\u001b[0mis_fully_defined\u001b[0m\u001b[0;34m(\u001b[0m\u001b[0;34m)\u001b[0m\u001b[0;34m:\u001b[0m\u001b[0;34m\u001b[0m\u001b[0;34m\u001b[0m\u001b[0m\n\u001b[1;32m    677\u001b[0m           \u001b[0;32mreturn\u001b[0m \u001b[0mconstant\u001b[0m\u001b[0;34m(\u001b[0m\u001b[0minput_shape\u001b[0m\u001b[0;34m.\u001b[0m\u001b[0mas_list\u001b[0m\u001b[0;34m(\u001b[0m\u001b[0;34m)\u001b[0m\u001b[0;34m,\u001b[0m \u001b[0mout_type\u001b[0m\u001b[0;34m,\u001b[0m \u001b[0mname\u001b[0m\u001b[0;34m=\u001b[0m\u001b[0mname\u001b[0m\u001b[0;34m)\u001b[0m\u001b[0;34m\u001b[0m\u001b[0;34m\u001b[0m\u001b[0m\n\u001b[0;32m--> 678\u001b[0;31m       \u001b[0;32mreturn\u001b[0m \u001b[0mgen_array_ops\u001b[0m\u001b[0;34m.\u001b[0m\u001b[0mshape\u001b[0m\u001b[0;34m(\u001b[0m\u001b[0minput\u001b[0m\u001b[0;34m,\u001b[0m \u001b[0mname\u001b[0m\u001b[0;34m=\u001b[0m\u001b[0mname\u001b[0m\u001b[0;34m,\u001b[0m \u001b[0mout_type\u001b[0m\u001b[0;34m=\u001b[0m\u001b[0mout_type\u001b[0m\u001b[0;34m)\u001b[0m\u001b[0;34m\u001b[0m\u001b[0;34m\u001b[0m\u001b[0m\n\u001b[0m\u001b[1;32m    679\u001b[0m \u001b[0;34m\u001b[0m\u001b[0m\n\u001b[1;32m    680\u001b[0m \u001b[0;34m\u001b[0m\u001b[0m\n",
      "\u001b[0;32m/usr/local/lib/python3.6/dist-packages/tensorflow/python/ops/gen_array_ops.py\u001b[0m in \u001b[0;36mshape\u001b[0;34m(input, out_type, name)\u001b[0m\n\u001b[1;32m   9184\u001b[0m     \u001b[0;32mtry\u001b[0m\u001b[0;34m:\u001b[0m\u001b[0;34m\u001b[0m\u001b[0;34m\u001b[0m\u001b[0m\n\u001b[1;32m   9185\u001b[0m       return shape_eager_fallback(\n\u001b[0;32m-> 9186\u001b[0;31m           input, out_type=out_type, name=name, ctx=_ctx)\n\u001b[0m\u001b[1;32m   9187\u001b[0m     \u001b[0;32mexcept\u001b[0m \u001b[0m_core\u001b[0m\u001b[0;34m.\u001b[0m\u001b[0m_SymbolicException\u001b[0m\u001b[0;34m:\u001b[0m\u001b[0;34m\u001b[0m\u001b[0;34m\u001b[0m\u001b[0m\n\u001b[1;32m   9188\u001b[0m       \u001b[0;32mpass\u001b[0m  \u001b[0;31m# Add nodes to the TensorFlow graph.\u001b[0m\u001b[0;34m\u001b[0m\u001b[0;34m\u001b[0m\u001b[0m\n",
      "\u001b[0;32m/usr/local/lib/python3.6/dist-packages/tensorflow/python/ops/gen_array_ops.py\u001b[0m in \u001b[0;36mshape_eager_fallback\u001b[0;34m(input, out_type, name, ctx)\u001b[0m\n\u001b[1;32m   9210\u001b[0m     \u001b[0mout_type\u001b[0m \u001b[0;34m=\u001b[0m \u001b[0m_dtypes\u001b[0m\u001b[0;34m.\u001b[0m\u001b[0mint32\u001b[0m\u001b[0;34m\u001b[0m\u001b[0;34m\u001b[0m\u001b[0m\n\u001b[1;32m   9211\u001b[0m   \u001b[0mout_type\u001b[0m \u001b[0;34m=\u001b[0m \u001b[0m_execute\u001b[0m\u001b[0;34m.\u001b[0m\u001b[0mmake_type\u001b[0m\u001b[0;34m(\u001b[0m\u001b[0mout_type\u001b[0m\u001b[0;34m,\u001b[0m \u001b[0;34m\"out_type\"\u001b[0m\u001b[0;34m)\u001b[0m\u001b[0;34m\u001b[0m\u001b[0;34m\u001b[0m\u001b[0m\n\u001b[0;32m-> 9212\u001b[0;31m   \u001b[0m_attr_T\u001b[0m\u001b[0;34m,\u001b[0m \u001b[0;34m(\u001b[0m\u001b[0minput\u001b[0m\u001b[0;34m,\u001b[0m\u001b[0;34m)\u001b[0m \u001b[0;34m=\u001b[0m \u001b[0m_execute\u001b[0m\u001b[0;34m.\u001b[0m\u001b[0margs_to_matching_eager\u001b[0m\u001b[0;34m(\u001b[0m\u001b[0;34m[\u001b[0m\u001b[0minput\u001b[0m\u001b[0;34m]\u001b[0m\u001b[0;34m,\u001b[0m \u001b[0mctx\u001b[0m\u001b[0;34m,\u001b[0m \u001b[0;34m[\u001b[0m\u001b[0;34m]\u001b[0m\u001b[0;34m)\u001b[0m\u001b[0;34m\u001b[0m\u001b[0;34m\u001b[0m\u001b[0m\n\u001b[0m\u001b[1;32m   9213\u001b[0m   \u001b[0m_inputs_flat\u001b[0m \u001b[0;34m=\u001b[0m \u001b[0;34m[\u001b[0m\u001b[0minput\u001b[0m\u001b[0;34m]\u001b[0m\u001b[0;34m\u001b[0m\u001b[0;34m\u001b[0m\u001b[0m\n\u001b[1;32m   9214\u001b[0m   \u001b[0m_attrs\u001b[0m \u001b[0;34m=\u001b[0m \u001b[0;34m(\u001b[0m\u001b[0;34m\"T\"\u001b[0m\u001b[0;34m,\u001b[0m \u001b[0m_attr_T\u001b[0m\u001b[0;34m,\u001b[0m \u001b[0;34m\"out_type\"\u001b[0m\u001b[0;34m,\u001b[0m \u001b[0mout_type\u001b[0m\u001b[0;34m)\u001b[0m\u001b[0;34m\u001b[0m\u001b[0;34m\u001b[0m\u001b[0m\n",
      "\u001b[0;32m/usr/local/lib/python3.6/dist-packages/tensorflow/python/eager/execute.py\u001b[0m in \u001b[0;36margs_to_matching_eager\u001b[0;34m(l, ctx, allowed_dtypes, default_dtype)\u001b[0m\n\u001b[1;32m    272\u001b[0m       \u001b[0;32mif\u001b[0m \u001b[0mtensor\u001b[0m \u001b[0;32mis\u001b[0m \u001b[0;32mNone\u001b[0m\u001b[0;34m:\u001b[0m\u001b[0;34m\u001b[0m\u001b[0;34m\u001b[0m\u001b[0m\n\u001b[1;32m    273\u001b[0m         tensor = ops.convert_to_tensor(\n\u001b[0;32m--> 274\u001b[0;31m             t, dtype, preferred_dtype=default_dtype, ctx=ctx)\n\u001b[0m\u001b[1;32m    275\u001b[0m \u001b[0;34m\u001b[0m\u001b[0m\n\u001b[1;32m    276\u001b[0m       \u001b[0mret\u001b[0m\u001b[0;34m.\u001b[0m\u001b[0mappend\u001b[0m\u001b[0;34m(\u001b[0m\u001b[0mtensor\u001b[0m\u001b[0;34m)\u001b[0m\u001b[0;34m\u001b[0m\u001b[0;34m\u001b[0m\u001b[0m\n",
      "\u001b[0;32m/usr/local/lib/python3.6/dist-packages/tensorflow/python/profiler/trace.py\u001b[0m in \u001b[0;36mwrapped\u001b[0;34m(*args, **kwargs)\u001b[0m\n\u001b[1;32m    161\u001b[0m         \u001b[0;32mwith\u001b[0m \u001b[0mTrace\u001b[0m\u001b[0;34m(\u001b[0m\u001b[0mtrace_name\u001b[0m\u001b[0;34m,\u001b[0m \u001b[0;34m**\u001b[0m\u001b[0mtrace_kwargs\u001b[0m\u001b[0;34m)\u001b[0m\u001b[0;34m:\u001b[0m\u001b[0;34m\u001b[0m\u001b[0;34m\u001b[0m\u001b[0m\n\u001b[1;32m    162\u001b[0m           \u001b[0;32mreturn\u001b[0m \u001b[0mfunc\u001b[0m\u001b[0;34m(\u001b[0m\u001b[0;34m*\u001b[0m\u001b[0margs\u001b[0m\u001b[0;34m,\u001b[0m \u001b[0;34m**\u001b[0m\u001b[0mkwargs\u001b[0m\u001b[0;34m)\u001b[0m\u001b[0;34m\u001b[0m\u001b[0;34m\u001b[0m\u001b[0m\n\u001b[0;32m--> 163\u001b[0;31m       \u001b[0;32mreturn\u001b[0m \u001b[0mfunc\u001b[0m\u001b[0;34m(\u001b[0m\u001b[0;34m*\u001b[0m\u001b[0margs\u001b[0m\u001b[0;34m,\u001b[0m \u001b[0;34m**\u001b[0m\u001b[0mkwargs\u001b[0m\u001b[0;34m)\u001b[0m\u001b[0;34m\u001b[0m\u001b[0;34m\u001b[0m\u001b[0m\n\u001b[0m\u001b[1;32m    164\u001b[0m \u001b[0;34m\u001b[0m\u001b[0m\n\u001b[1;32m    165\u001b[0m     \u001b[0;32mreturn\u001b[0m \u001b[0mwrapped\u001b[0m\u001b[0;34m\u001b[0m\u001b[0;34m\u001b[0m\u001b[0m\n",
      "\u001b[0;32m/usr/local/lib/python3.6/dist-packages/tensorflow/python/framework/ops.py\u001b[0m in \u001b[0;36mconvert_to_tensor\u001b[0;34m(value, dtype, name, as_ref, preferred_dtype, dtype_hint, ctx, accepted_result_types)\u001b[0m\n\u001b[1;32m   1564\u001b[0m \u001b[0;34m\u001b[0m\u001b[0m\n\u001b[1;32m   1565\u001b[0m     \u001b[0;32mif\u001b[0m \u001b[0mret\u001b[0m \u001b[0;32mis\u001b[0m \u001b[0;32mNone\u001b[0m\u001b[0;34m:\u001b[0m\u001b[0;34m\u001b[0m\u001b[0;34m\u001b[0m\u001b[0m\n\u001b[0;32m-> 1566\u001b[0;31m       \u001b[0mret\u001b[0m \u001b[0;34m=\u001b[0m \u001b[0mconversion_func\u001b[0m\u001b[0;34m(\u001b[0m\u001b[0mvalue\u001b[0m\u001b[0;34m,\u001b[0m \u001b[0mdtype\u001b[0m\u001b[0;34m=\u001b[0m\u001b[0mdtype\u001b[0m\u001b[0;34m,\u001b[0m \u001b[0mname\u001b[0m\u001b[0;34m=\u001b[0m\u001b[0mname\u001b[0m\u001b[0;34m,\u001b[0m \u001b[0mas_ref\u001b[0m\u001b[0;34m=\u001b[0m\u001b[0mas_ref\u001b[0m\u001b[0;34m)\u001b[0m\u001b[0;34m\u001b[0m\u001b[0;34m\u001b[0m\u001b[0m\n\u001b[0m\u001b[1;32m   1567\u001b[0m \u001b[0;34m\u001b[0m\u001b[0m\n\u001b[1;32m   1568\u001b[0m     \u001b[0;32mif\u001b[0m \u001b[0mret\u001b[0m \u001b[0;32mis\u001b[0m \u001b[0mNotImplemented\u001b[0m\u001b[0;34m:\u001b[0m\u001b[0;34m\u001b[0m\u001b[0;34m\u001b[0m\u001b[0m\n",
      "\u001b[0;32m/usr/local/lib/python3.6/dist-packages/tensorflow/python/framework/constant_op.py\u001b[0m in \u001b[0;36m_constant_tensor_conversion_function\u001b[0;34m(v, dtype, name, as_ref)\u001b[0m\n\u001b[1;32m    337\u001b[0m                                          as_ref=False):\n\u001b[1;32m    338\u001b[0m   \u001b[0m_\u001b[0m \u001b[0;34m=\u001b[0m \u001b[0mas_ref\u001b[0m\u001b[0;34m\u001b[0m\u001b[0;34m\u001b[0m\u001b[0m\n\u001b[0;32m--> 339\u001b[0;31m   \u001b[0;32mreturn\u001b[0m \u001b[0mconstant\u001b[0m\u001b[0;34m(\u001b[0m\u001b[0mv\u001b[0m\u001b[0;34m,\u001b[0m \u001b[0mdtype\u001b[0m\u001b[0;34m=\u001b[0m\u001b[0mdtype\u001b[0m\u001b[0;34m,\u001b[0m \u001b[0mname\u001b[0m\u001b[0;34m=\u001b[0m\u001b[0mname\u001b[0m\u001b[0;34m)\u001b[0m\u001b[0;34m\u001b[0m\u001b[0;34m\u001b[0m\u001b[0m\n\u001b[0m\u001b[1;32m    340\u001b[0m \u001b[0;34m\u001b[0m\u001b[0m\n\u001b[1;32m    341\u001b[0m \u001b[0;34m\u001b[0m\u001b[0m\n",
      "\u001b[0;32m/usr/local/lib/python3.6/dist-packages/tensorflow/python/framework/constant_op.py\u001b[0m in \u001b[0;36mconstant\u001b[0;34m(value, dtype, shape, name)\u001b[0m\n\u001b[1;32m    263\u001b[0m   \"\"\"\n\u001b[1;32m    264\u001b[0m   return _constant_impl(value, dtype, shape, name, verify_shape=False,\n\u001b[0;32m--> 265\u001b[0;31m                         allow_broadcast=True)\n\u001b[0m\u001b[1;32m    266\u001b[0m \u001b[0;34m\u001b[0m\u001b[0m\n\u001b[1;32m    267\u001b[0m \u001b[0;34m\u001b[0m\u001b[0m\n",
      "\u001b[0;32m/usr/local/lib/python3.6/dist-packages/tensorflow/python/framework/constant_op.py\u001b[0m in \u001b[0;36m_constant_impl\u001b[0;34m(value, dtype, shape, name, verify_shape, allow_broadcast)\u001b[0m\n\u001b[1;32m    274\u001b[0m       \u001b[0;32mwith\u001b[0m \u001b[0mtrace\u001b[0m\u001b[0;34m.\u001b[0m\u001b[0mTrace\u001b[0m\u001b[0;34m(\u001b[0m\u001b[0;34m\"tf.constant\"\u001b[0m\u001b[0;34m)\u001b[0m\u001b[0;34m:\u001b[0m\u001b[0;34m\u001b[0m\u001b[0;34m\u001b[0m\u001b[0m\n\u001b[1;32m    275\u001b[0m         \u001b[0;32mreturn\u001b[0m \u001b[0m_constant_eager_impl\u001b[0m\u001b[0;34m(\u001b[0m\u001b[0mctx\u001b[0m\u001b[0;34m,\u001b[0m \u001b[0mvalue\u001b[0m\u001b[0;34m,\u001b[0m \u001b[0mdtype\u001b[0m\u001b[0;34m,\u001b[0m \u001b[0mshape\u001b[0m\u001b[0;34m,\u001b[0m \u001b[0mverify_shape\u001b[0m\u001b[0;34m)\u001b[0m\u001b[0;34m\u001b[0m\u001b[0;34m\u001b[0m\u001b[0m\n\u001b[0;32m--> 276\u001b[0;31m     \u001b[0;32mreturn\u001b[0m \u001b[0m_constant_eager_impl\u001b[0m\u001b[0;34m(\u001b[0m\u001b[0mctx\u001b[0m\u001b[0;34m,\u001b[0m \u001b[0mvalue\u001b[0m\u001b[0;34m,\u001b[0m \u001b[0mdtype\u001b[0m\u001b[0;34m,\u001b[0m \u001b[0mshape\u001b[0m\u001b[0;34m,\u001b[0m \u001b[0mverify_shape\u001b[0m\u001b[0;34m)\u001b[0m\u001b[0;34m\u001b[0m\u001b[0;34m\u001b[0m\u001b[0m\n\u001b[0m\u001b[1;32m    277\u001b[0m \u001b[0;34m\u001b[0m\u001b[0m\n\u001b[1;32m    278\u001b[0m   \u001b[0mg\u001b[0m \u001b[0;34m=\u001b[0m \u001b[0mops\u001b[0m\u001b[0;34m.\u001b[0m\u001b[0mget_default_graph\u001b[0m\u001b[0;34m(\u001b[0m\u001b[0;34m)\u001b[0m\u001b[0;34m\u001b[0m\u001b[0;34m\u001b[0m\u001b[0m\n",
      "\u001b[0;32m/usr/local/lib/python3.6/dist-packages/tensorflow/python/framework/constant_op.py\u001b[0m in \u001b[0;36m_constant_eager_impl\u001b[0;34m(ctx, value, dtype, shape, verify_shape)\u001b[0m\n\u001b[1;32m    299\u001b[0m \u001b[0;32mdef\u001b[0m \u001b[0m_constant_eager_impl\u001b[0m\u001b[0;34m(\u001b[0m\u001b[0mctx\u001b[0m\u001b[0;34m,\u001b[0m \u001b[0mvalue\u001b[0m\u001b[0;34m,\u001b[0m \u001b[0mdtype\u001b[0m\u001b[0;34m,\u001b[0m \u001b[0mshape\u001b[0m\u001b[0;34m,\u001b[0m \u001b[0mverify_shape\u001b[0m\u001b[0;34m)\u001b[0m\u001b[0;34m:\u001b[0m\u001b[0;34m\u001b[0m\u001b[0;34m\u001b[0m\u001b[0m\n\u001b[1;32m    300\u001b[0m   \u001b[0;34m\"\"\"Implementation of eager constant.\"\"\"\u001b[0m\u001b[0;34m\u001b[0m\u001b[0;34m\u001b[0m\u001b[0m\n\u001b[0;32m--> 301\u001b[0;31m   \u001b[0mt\u001b[0m \u001b[0;34m=\u001b[0m \u001b[0mconvert_to_eager_tensor\u001b[0m\u001b[0;34m(\u001b[0m\u001b[0mvalue\u001b[0m\u001b[0;34m,\u001b[0m \u001b[0mctx\u001b[0m\u001b[0;34m,\u001b[0m \u001b[0mdtype\u001b[0m\u001b[0;34m)\u001b[0m\u001b[0;34m\u001b[0m\u001b[0;34m\u001b[0m\u001b[0m\n\u001b[0m\u001b[1;32m    302\u001b[0m   \u001b[0;32mif\u001b[0m \u001b[0mshape\u001b[0m \u001b[0;32mis\u001b[0m \u001b[0;32mNone\u001b[0m\u001b[0;34m:\u001b[0m\u001b[0;34m\u001b[0m\u001b[0;34m\u001b[0m\u001b[0m\n\u001b[1;32m    303\u001b[0m     \u001b[0;32mreturn\u001b[0m \u001b[0mt\u001b[0m\u001b[0;34m\u001b[0m\u001b[0;34m\u001b[0m\u001b[0m\n",
      "\u001b[0;32m/usr/local/lib/python3.6/dist-packages/tensorflow/python/framework/constant_op.py\u001b[0m in \u001b[0;36mconvert_to_eager_tensor\u001b[0;34m(value, ctx, dtype)\u001b[0m\n\u001b[1;32m     96\u001b[0m       \u001b[0mdtype\u001b[0m \u001b[0;34m=\u001b[0m \u001b[0mdtypes\u001b[0m\u001b[0;34m.\u001b[0m\u001b[0mas_dtype\u001b[0m\u001b[0;34m(\u001b[0m\u001b[0mdtype\u001b[0m\u001b[0;34m)\u001b[0m\u001b[0;34m.\u001b[0m\u001b[0mas_datatype_enum\u001b[0m\u001b[0;34m\u001b[0m\u001b[0;34m\u001b[0m\u001b[0m\n\u001b[1;32m     97\u001b[0m   \u001b[0mctx\u001b[0m\u001b[0;34m.\u001b[0m\u001b[0mensure_initialized\u001b[0m\u001b[0;34m(\u001b[0m\u001b[0;34m)\u001b[0m\u001b[0;34m\u001b[0m\u001b[0;34m\u001b[0m\u001b[0m\n\u001b[0;32m---> 98\u001b[0;31m   \u001b[0;32mreturn\u001b[0m \u001b[0mops\u001b[0m\u001b[0;34m.\u001b[0m\u001b[0mEagerTensor\u001b[0m\u001b[0;34m(\u001b[0m\u001b[0mvalue\u001b[0m\u001b[0;34m,\u001b[0m \u001b[0mctx\u001b[0m\u001b[0;34m.\u001b[0m\u001b[0mdevice_name\u001b[0m\u001b[0;34m,\u001b[0m \u001b[0mdtype\u001b[0m\u001b[0;34m)\u001b[0m\u001b[0;34m\u001b[0m\u001b[0;34m\u001b[0m\u001b[0m\n\u001b[0m\u001b[1;32m     99\u001b[0m \u001b[0;34m\u001b[0m\u001b[0m\n\u001b[1;32m    100\u001b[0m \u001b[0;34m\u001b[0m\u001b[0m\n",
      "\u001b[0;31mValueError\u001b[0m: Attempt to convert a value (None) with an unsupported type (<class 'NoneType'>) to a Tensor."
     ]
    }
   ],
   "source": [
    "# steps_per_epoch = len(os.listdir(train_image_path))//model_config['batch_size']\n",
    "# epochs = config1['train_iter']//steps_per_epoch\n",
    "history = model.fit(train_gen , batch_size = 1, \n",
    "                     steps_per_epoch = 1000, epochs=25, \n",
    "                    callbacks=[#model_checkpoint_callback, TerminateOnNaN, \n",
    "                        tensorboard_callback])"
   ]
  },
  {
   "cell_type": "code",
   "execution_count": null,
   "metadata": {},
   "outputs": [],
   "source": [
    "# model.save('/root/Internship-Valeo/Project/results/checkpoint-superpoint-coco-14022022-latest')"
   ]
  },
  {
   "cell_type": "code",
   "execution_count": null,
   "metadata": {},
   "outputs": [],
   "source": [
    "# model.load_weights('/root/Internship-Valeo/Project/results/checkpoint-superpoint-coco')"
   ]
  },
  {
   "cell_type": "code",
   "execution_count": null,
   "metadata": {},
   "outputs": [],
   "source": [
    "x,y = train_gen.__getitem__(0)"
   ]
  },
  {
   "cell_type": "code",
   "execution_count": null,
   "metadata": {},
   "outputs": [],
   "source": [
    "x = iter(train_gen).get_next()"
   ]
  },
  {
   "cell_type": "code",
   "execution_count": null,
   "metadata": {},
   "outputs": [],
   "source": [
    "plt.imshow(x['image'], cmap = 'gray')"
   ]
  },
  {
   "cell_type": "code",
   "execution_count": null,
   "metadata": {},
   "outputs": [],
   "source": [
    "plt.imshow(x['warped_image'], cmap = 'gray')"
   ]
  },
  {
   "cell_type": "code",
   "execution_count": null,
   "metadata": {},
   "outputs": [],
   "source": [
    "plt.imshow(x['warped_valid_mask'], cmap = 'gray')"
   ]
  },
  {
   "cell_type": "code",
   "execution_count": null,
   "metadata": {},
   "outputs": [],
   "source": [
    "plt.imshow(x['warped_keypoints'], cmap = 'gray')"
   ]
  },
  {
   "cell_type": "code",
   "execution_count": null,
   "metadata": {},
   "outputs": [],
   "source": [
    "x['homography']"
   ]
  },
  {
   "cell_type": "code",
   "execution_count": null,
   "metadata": {},
   "outputs": [],
   "source": [
    "x[1][0]"
   ]
  },
  {
   "cell_type": "code",
   "execution_count": null,
   "metadata": {},
   "outputs": [],
   "source": [
    "plt.imshow(x[2][0]*255, cmap = 'gray')"
   ]
  },
  {
   "cell_type": "code",
   "execution_count": null,
   "metadata": {},
   "outputs": [],
   "source": [
    "plt.imshow(x[3][0], cmap = 'gray')"
   ]
  },
  {
   "cell_type": "code",
   "execution_count": null,
   "metadata": {},
   "outputs": [],
   "source": [
    "plt.imshow(x[4][0], cmap = 'gray')"
   ]
  },
  {
   "cell_type": "code",
   "execution_count": null,
   "metadata": {},
   "outputs": [],
   "source": [
    "plt.imshow(x[5][0], cmap = 'gray')"
   ]
  },
  {
   "cell_type": "code",
   "execution_count": null,
   "metadata": {},
   "outputs": [],
   "source": [
    "x, y = val_gen.__getitem__(0)"
   ]
  },
  {
   "cell_type": "code",
   "execution_count": null,
   "metadata": {},
   "outputs": [],
   "source": [
    "plt.imshow(x[0][0]*255, cmap = 'gray')"
   ]
  },
  {
   "cell_type": "code",
   "execution_count": null,
   "metadata": {},
   "outputs": [],
   "source": [
    "x[1][0]"
   ]
  },
  {
   "cell_type": "code",
   "execution_count": null,
   "metadata": {},
   "outputs": [],
   "source": [
    "plt.imshow(x[2][0]*255, cmap = 'gray')"
   ]
  },
  {
   "cell_type": "code",
   "execution_count": null,
   "metadata": {},
   "outputs": [],
   "source": [
    "plt.imshow(x[3][0]*255, cmap = 'gray')"
   ]
  },
  {
   "cell_type": "code",
   "execution_count": null,
   "metadata": {},
   "outputs": [],
   "source": [
    "plt.imshow(x[4][0]*255, cmap = 'gray')"
   ]
  },
  {
   "cell_type": "code",
   "execution_count": null,
   "metadata": {},
   "outputs": [],
   "source": [
    "plt.imshow(x[5][0]*255, cmap = 'gray')"
   ]
  },
  {
   "cell_type": "code",
   "execution_count": 30,
   "metadata": {},
   "outputs": [
    {
     "data": {
      "text/plain": [
       "array([[  5, 117],\n",
       "       [  5, 271],\n",
       "       [  6, 134],\n",
       "       [  8, 224],\n",
       "       [  9, 130],\n",
       "       [ 10, 155],\n",
       "       [ 15, 160],\n",
       "       [ 15, 175],\n",
       "       [ 17, 270],\n",
       "       [ 18, 183],\n",
       "       [ 20, 263],\n",
       "       [ 21, 201],\n",
       "       [ 21, 304],\n",
       "       [ 22, 196],\n",
       "       [ 25, 217],\n",
       "       [ 26, 287],\n",
       "       [ 29,  21],\n",
       "       [ 30, 316],\n",
       "       [ 32, 286],\n",
       "       [ 33, 208],\n",
       "       [ 34, 216],\n",
       "       [ 35, 189],\n",
       "       [ 36, 165],\n",
       "       [ 37, 136],\n",
       "       [ 38,  96],\n",
       "       [ 38, 115],\n",
       "       [ 38, 287],\n",
       "       [ 39, 109],\n",
       "       [ 39, 252],\n",
       "       [ 40,  81],\n",
       "       [ 41,  31],\n",
       "       [ 41,  54],\n",
       "       [ 42,  14],\n",
       "       [ 42, 206],\n",
       "       [ 42, 214],\n",
       "       [ 43,  27],\n",
       "       [ 44, 192],\n",
       "       [ 45, 216],\n",
       "       [ 46, 260],\n",
       "       [ 46, 280],\n",
       "       [ 47, 190],\n",
       "       [ 48, 230],\n",
       "       [ 48, 270],\n",
       "       [ 50,  30],\n",
       "       [ 51,  23],\n",
       "       [ 52, 215],\n",
       "       [ 52, 242],\n",
       "       [ 53, 221],\n",
       "       [ 54, 164],\n",
       "       [ 56, 278],\n",
       "       [ 57, 184],\n",
       "       [ 57, 230],\n",
       "       [ 58, 203],\n",
       "       [ 59,  24],\n",
       "       [ 59,  31],\n",
       "       [ 59, 267],\n",
       "       [ 59, 276],\n",
       "       [ 60,  55],\n",
       "       [ 60,  82],\n",
       "       [ 60, 137],\n",
       "       [ 60, 168],\n",
       "       [ 61, 110],\n",
       "       [ 61, 270],\n",
       "       [ 63,   5],\n",
       "       [ 63, 264],\n",
       "       [ 64, 126],\n",
       "       [ 64, 165],\n",
       "       [ 66,   7],\n",
       "       [ 67, 182],\n",
       "       [ 68, 271],\n",
       "       [ 69, 170],\n",
       "       [ 72, 110],\n",
       "       [ 72, 126],\n",
       "       [ 72, 161],\n",
       "       [ 73, 251],\n",
       "       [ 74,  29],\n",
       "       [ 74,  56],\n",
       "       [ 74, 169],\n",
       "       [ 74, 185],\n",
       "       [ 74, 191],\n",
       "       [ 75,   7],\n",
       "       [ 75, 273],\n",
       "       [ 77, 131],\n",
       "       [ 77, 241],\n",
       "       [ 78, 160],\n",
       "       [ 79, 194],\n",
       "       [ 79, 259],\n",
       "       [ 79, 273],\n",
       "       [ 80, 206],\n",
       "       [ 83, 223],\n",
       "       [ 83, 250],\n",
       "       [ 85, 300],\n",
       "       [ 86, 234],\n",
       "       [ 86, 253],\n",
       "       [ 87, 276],\n",
       "       [ 87, 303],\n",
       "       [ 88, 222],\n",
       "       [ 88, 247],\n",
       "       [ 89,   6],\n",
       "       [ 89,  37],\n",
       "       [ 89, 158],\n",
       "       [ 89, 197],\n",
       "       [ 90,  68],\n",
       "       [ 91,  64],\n",
       "       [ 91, 204],\n",
       "       [ 91, 251],\n",
       "       [ 92, 240],\n",
       "       [ 93,   4],\n",
       "       [ 93, 171],\n",
       "       [ 93, 199],\n",
       "       [ 93, 224],\n",
       "       [ 93, 246],\n",
       "       [ 94, 216],\n",
       "       [ 95, 184],\n",
       "       [ 96, 164],\n",
       "       [ 96, 197],\n",
       "       [ 97, 225],\n",
       "       [100, 195],\n",
       "       [100, 266],\n",
       "       [100, 277],\n",
       "       [103, 182],\n",
       "       [105, 158],\n",
       "       [108, 261],\n",
       "       [110, 276],\n",
       "       [111, 241],\n",
       "       [111, 280],\n",
       "       [112, 150],\n",
       "       [112, 251],\n",
       "       [113, 157],\n",
       "       [113, 216],\n",
       "       [115, 208],\n",
       "       [115, 228],\n",
       "       [115, 270],\n",
       "       [116, 242],\n",
       "       [121, 278],\n",
       "       [126, 221],\n",
       "       [131, 285],\n",
       "       [135, 230],\n",
       "       [135, 285],\n",
       "       [136, 246],\n",
       "       [137, 263],\n",
       "       [138, 283],\n",
       "       [139, 266],\n",
       "       [141, 162],\n",
       "       [141, 202],\n",
       "       [144, 207],\n",
       "       [144, 227],\n",
       "       [146, 279],\n",
       "       [149, 163],\n",
       "       [150, 180],\n",
       "       [151, 203],\n",
       "       [151, 271],\n",
       "       [152, 137],\n",
       "       [152, 160],\n",
       "       [155,  12],\n",
       "       [156,   5],\n",
       "       [156, 193],\n",
       "       [158, 160],\n",
       "       [158, 262],\n",
       "       [159, 169],\n",
       "       [159, 227],\n",
       "       [162, 231],\n",
       "       [163, 184],\n",
       "       [164, 167],\n",
       "       [165, 172],\n",
       "       [166, 216],\n",
       "       [167, 182],\n",
       "       [173, 209],\n",
       "       [174, 169],\n",
       "       [179, 234],\n",
       "       [179, 242],\n",
       "       [180, 215],\n",
       "       [183, 241],\n",
       "       [184, 163],\n",
       "       [185, 233],\n",
       "       [187, 220],\n",
       "       [189, 241],\n",
       "       [193, 118],\n",
       "       [195, 230],\n",
       "       [195, 275],\n",
       "       [197, 241],\n",
       "       [198, 183],\n",
       "       [201, 204],\n",
       "       [202, 217],\n",
       "       [205, 167],\n",
       "       [205, 213],\n",
       "       [205, 219],\n",
       "       [207, 127],\n",
       "       [208, 198],\n",
       "       [209, 240],\n",
       "       [210, 156],\n",
       "       [211, 128],\n",
       "       [212, 237],\n",
       "       [213, 178],\n",
       "       [217,  90],\n",
       "       [217,  94],\n",
       "       [218, 228],\n",
       "       [218, 250],\n",
       "       [219, 148],\n",
       "       [220, 144],\n",
       "       [221, 193],\n",
       "       [221, 211],\n",
       "       [222, 248],\n",
       "       [224, 198],\n",
       "       [224, 242],\n",
       "       [226,   6],\n",
       "       [231, 118],\n",
       "       [233, 115]])"
      ]
     },
     "execution_count": 30,
     "metadata": {},
     "output_type": "execute_result"
    }
   ],
   "source": [
    "np.load(Path('/root/Internship-Valeo/Project/data/COCO/magic_point-coco-export/pointstrain2014/b\\'COCO_train2014_000000533809\\'.npz'))['points']"
   ]
  },
  {
   "cell_type": "code",
   "execution_count": null,
   "metadata": {},
   "outputs": [],
   "source": []
  }
 ],
 "metadata": {
  "kernelspec": {
   "display_name": "Python 3",
   "language": "python",
   "name": "python3"
  },
  "language_info": {
   "codemirror_mode": {
    "name": "ipython",
    "version": 3
   },
   "file_extension": ".py",
   "mimetype": "text/x-python",
   "name": "python",
   "nbconvert_exporter": "python",
   "pygments_lexer": "ipython3",
   "version": "3.6.9"
  }
 },
 "nbformat": 4,
 "nbformat_minor": 2
}
