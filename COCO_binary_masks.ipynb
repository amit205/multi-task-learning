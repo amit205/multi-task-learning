{
 "cells": [
  {
   "cell_type": "markdown",
   "metadata": {},
   "source": [
    "# Code to generate binary masks for COCO dataset"
   ]
  },
  {
   "cell_type": "code",
   "execution_count": 4,
   "metadata": {},
   "outputs": [],
   "source": [
    "from pycocotools import coco, cocoeval, _mask\n",
    "from pycocotools import mask as maskUtils \n",
    "import array\n",
    "import numpy as np\n",
    "# import skimage.io as io\n",
    "import matplotlib.pyplot as plt\n",
    "import pylab\n",
    "import os\n",
    "pylab.rcParams['figure.figsize'] = (8.0, 10.0)\n",
    "%matplotlib inline"
   ]
  },
  {
   "cell_type": "code",
   "execution_count": 5,
   "metadata": {},
   "outputs": [
    {
     "name": "stdout",
     "output_type": "stream",
     "text": [
      "loading annotations into memory...\n",
      "Done (t=10.81s)\n",
      "creating index...\n",
      "index created!\n",
      "loading annotations into memory...\n",
      "Done (t=5.75s)\n",
      "creating index...\n",
      "index created!\n",
      "Number of images containing the filter classes: 45174\n"
     ]
    }
   ],
   "source": [
    "# CATEGORY_NAMES=['bicycle', 'car', 'motorcycle', 'airplane', 'bus', 'train','truck', 'boat',\n",
    "#                 'bird','cat','dog','horse','sheep','cow', 'elephant', 'bear', 'zebra','giraffe']\n",
    "\n",
    "CATEGORY_NAMES = ['person']\n",
    "ANNOTATION_FILE_VAL = '/root/Internship-Valeo/data/COCO/annotations_trainval2014/annotations/instances_val2014.json'\n",
    "ANNOTATION_FILE_TRAIN = '/root/Internship-Valeo/data/COCO/annotations_trainval2014/annotations/instances_train2014.json'\n",
    "\n",
    "\n",
    "coco_train = coco.COCO(ANNOTATION_FILE_TRAIN)\n",
    "coco_val = coco.COCO(ANNOTATION_FILE_VAL)\n",
    "\n",
    "imgIds_train = []\n",
    "if CATEGORY_NAMES!=None:\n",
    "    # iterate for each individual class in the list\n",
    "    for className in CATEGORY_NAMES:\n",
    "        # get all images containing given super class\n",
    "        catIds_train = coco_train.getCatIds(catNms=className)\n",
    "        imgIds_train += coco_train.getImgIds(catIds=catIds_train)\n",
    "        \n",
    "else:\n",
    "    imgIds_train = coco_train.getImgIds()\n",
    "\n",
    "# Now, filter out the repeated images    \n",
    "unique_imgIds_train = []\n",
    "for i in range(len(imgIds_train)):\n",
    "    if imgIds_train[i] not in unique_imgIds_train:\n",
    "        unique_imgIds_train.append(imgIds_train[i])\n",
    "\n",
    "images_train = coco_train.loadImgs(unique_imgIds_train)\n",
    "dataset_size = len(images_train)\n",
    "\n",
    "print(\"Number of images containing the filter classes:\", dataset_size)"
   ]
  },
  {
   "cell_type": "code",
   "execution_count": 6,
   "metadata": {},
   "outputs": [
    {
     "name": "stdout",
     "output_type": "stream",
     "text": [
      "Number of images containing the filter classes: 21634\n"
     ]
    }
   ],
   "source": [
    "imgIds_val = []\n",
    "if CATEGORY_NAMES!=None:\n",
    "    # iterate for each individual class in the list\n",
    "    for className in CATEGORY_NAMES:\n",
    "        # get all images containing given super class\n",
    "        catIds_val = coco_val.getCatIds(catNms=className)\n",
    "        imgIds_val += coco_val.getImgIds(catIds=catIds_val)\n",
    "\n",
    "else:\n",
    "    imgIds_val = coco_val.getImgIds()\n",
    "    \n",
    "\n",
    "    \n",
    "# Now, filter out the repeated images      \n",
    "unique_imgIds_val = []\n",
    "for i in range(len(imgIds_val)):\n",
    "    if imgIds_val[i] not in unique_imgIds_val:\n",
    "        unique_imgIds_val.append(imgIds_val[i])\n",
    "\n",
    "images_val = coco_val.loadImgs(unique_imgIds_val)\n",
    "dataset_size = len(images_val)\n",
    "\n",
    "print(\"Number of images containing the filter classes:\", dataset_size)"
   ]
  },
  {
   "cell_type": "code",
   "execution_count": 7,
   "metadata": {},
   "outputs": [],
   "source": [
    "from random import shuffle\n",
    "\n",
    "\n",
    "shuffle(imgIds_train)\n",
    "shuffle(imgIds_val)\n",
    "\n",
    "# imgIds_train = imgIds_train[0:6000]\n",
    "# imgIds_val = imgIds_val[0:600]"
   ]
  },
  {
   "cell_type": "code",
   "execution_count": 8,
   "metadata": {},
   "outputs": [],
   "source": [
    "train_images = [\"COCO_train2014_{0:012d}.jpg\".format(ids) for ids in unique_imgIds_train]\n",
    "val_images = [\"COCO_val2014_{0:012d}.jpg\".format(ids) for ids in unique_imgIds_val]"
   ]
  },
  {
   "cell_type": "code",
   "execution_count": 9,
   "metadata": {},
   "outputs": [
    {
     "name": "stdout",
     "output_type": "stream",
     "text": [
      "45174 21634\n"
     ]
    }
   ],
   "source": [
    "print(len(train_images) , len(val_images))"
   ]
  },
  {
   "cell_type": "code",
   "execution_count": 10,
   "metadata": {},
   "outputs": [],
   "source": [
    "train_dir = '/root/Internship-Valeo/Project/data/COCO/anntrain2014'"
   ]
  },
  {
   "cell_type": "code",
   "execution_count": 13,
   "metadata": {},
   "outputs": [],
   "source": [
    "if os.listdir(train_dir) is not None:\n",
    "    for f in os.listdir(train_dir):\n",
    "        os.remove(train_dir+'/'+f)"
   ]
  },
  {
   "cell_type": "code",
   "execution_count": 14,
   "metadata": {},
   "outputs": [],
   "source": [
    "val_dir = '/root/Internship-Valeo/Project/data/COCO/annval2014'"
   ]
  },
  {
   "cell_type": "code",
   "execution_count": 15,
   "metadata": {},
   "outputs": [],
   "source": [
    "if os.listdir(val_dir) is not None:\n",
    "    for f in os.listdir(val_dir):\n",
    "        os.remove(val_dir+'/'+f)"
   ]
  },
  {
   "cell_type": "code",
   "execution_count": 16,
   "metadata": {},
   "outputs": [],
   "source": [
    "import shutil\n",
    "source_dir = '/root/Internship-Valeo/data/COCO/train2014'\n",
    "for f in train_images:\n",
    "    shutil.copy(source_dir+'/'+f, train_dir)"
   ]
  },
  {
   "cell_type": "code",
   "execution_count": 17,
   "metadata": {},
   "outputs": [],
   "source": [
    "source_dir = '/root/Internship-Valeo/data/COCO/val2014'\n",
    "for f in val_images:\n",
    "    shutil.copy(source_dir+'/'+f, val_dir)"
   ]
  },
  {
   "cell_type": "code",
   "execution_count": 18,
   "metadata": {},
   "outputs": [
    {
     "name": "stdout",
     "output_type": "stream",
     "text": [
      "45174\n"
     ]
    }
   ],
   "source": [
    "print(len(os.listdir(train_dir)))"
   ]
  },
  {
   "cell_type": "code",
   "execution_count": 19,
   "metadata": {},
   "outputs": [],
   "source": [
    "from PIL import Image"
   ]
  },
  {
   "cell_type": "code",
   "execution_count": 20,
   "metadata": {},
   "outputs": [
    {
     "name": "stdout",
     "output_type": "stream",
     "text": [
      "45174\n"
     ]
    }
   ],
   "source": [
    "count = 0 \n",
    "\n",
    "catIds_train = coco_train.getCatIds(catNms=CATEGORY_NAMES) \n",
    "\n",
    "for ID in unique_imgIds_train:\n",
    "    file_path = \"/root/Internship-Valeo/Project/data/COCO/masktrain2014/COCO_train2014_{0:012d}.jpg\".format(ID)\n",
    "  \n",
    "    sampleImgIds = coco_train.getImgIds(imgIds = [ID])\n",
    "    sampleImgDict = coco_train.loadImgs(sampleImgIds[np.random.randint(0,len(sampleImgIds))])[0]\n",
    "\n",
    "    annIds = coco_train.getAnnIds(imgIds=sampleImgDict['id'], catIds=catIds_train, iscrowd=0)\n",
    "    anns = coco_train.loadAnns(annIds)\n",
    "\n",
    "\n",
    "    mask = coco_train.annToMask(anns[0])\n",
    "    for i in range(len(anns)):\n",
    "        mask = mask | coco_train.annToMask(anns[i])\n",
    "    mask = Image.fromarray(mask * 255 , mode = \"L\")\n",
    "    mask.save(file_path)\n",
    "    count = count + 1\n",
    "print(count)"
   ]
  },
  {
   "cell_type": "code",
   "execution_count": 21,
   "metadata": {},
   "outputs": [],
   "source": [
    "# !mkdir maskval2014"
   ]
  },
  {
   "cell_type": "code",
   "execution_count": 22,
   "metadata": {
    "scrolled": true
   },
   "outputs": [
    {
     "name": "stdout",
     "output_type": "stream",
     "text": [
      "21634\n"
     ]
    }
   ],
   "source": [
    "count = 0\n",
    "\n",
    "catIds_val = coco_val.getCatIds(catNms=CATEGORY_NAMES) \n",
    "\n",
    "for ID in unique_imgIds_val:\n",
    "    file_path = \"/root/Internship-Valeo/Project/data/COCO/maskval2014/COCO_val2014_{0:012d}.jpg\".format(ID)\n",
    "  \n",
    "    sampleImgIds = coco_val.getImgIds(imgIds = [ID])\n",
    "    sampleImgDict = coco_val.loadImgs(sampleImgIds[np.random.randint(0,len(sampleImgIds))])[0]\n",
    "\n",
    "    annIds = coco_val.getAnnIds(imgIds=sampleImgDict['id'], catIds=catIds_val, iscrowd=0)\n",
    "    anns = coco_val.loadAnns(annIds)\n",
    "\n",
    "\n",
    "    mask = coco_val.annToMask(anns[0])\n",
    "    for i in range(len(anns)):\n",
    "        mask = mask | coco_val.annToMask(anns[i])\n",
    "    mask = Image.fromarray(mask * 255 , mode = \"L\")\n",
    "    mask.save(file_path)\n",
    "    count = count + 1\n",
    "print(count)"
   ]
  },
  {
   "cell_type": "code",
   "execution_count": null,
   "metadata": {},
   "outputs": [],
   "source": []
  }
 ],
 "metadata": {
  "kernelspec": {
   "display_name": "Python 3",
   "language": "python",
   "name": "python3"
  },
  "language_info": {
   "codemirror_mode": {
    "name": "ipython",
    "version": 3
   },
   "file_extension": ".py",
   "mimetype": "text/x-python",
   "name": "python",
   "nbconvert_exporter": "python",
   "pygments_lexer": "ipython3",
   "version": "3.6.9"
  }
 },
 "nbformat": 4,
 "nbformat_minor": 4
}
