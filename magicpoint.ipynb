{
 "cells": [
  {
   "cell_type": "code",
   "execution_count": null,
   "metadata": {},
   "outputs": [],
   "source": [
    "# !/usr/bin/python3 -m pip install --upgrade pip\n",
    "# !pip install opencv-python\n",
    "# !apt update\n",
    "# !apt install ffmpeg libsm6 libxext6  -y\n",
    "# !pip install tensorflow-addons\n",
    "# !pip install tqdm"
   ]
  },
  {
   "cell_type": "code",
   "execution_count": 1,
   "metadata": {},
   "outputs": [
    {
     "name": "stdout",
     "output_type": "stream",
     "text": [
      "2.5.0\n"
     ]
    }
   ],
   "source": [
    "import tensorflow as tf\n",
    "print(tf.__version__)"
   ]
  },
  {
   "cell_type": "code",
   "execution_count": 96,
   "metadata": {},
   "outputs": [],
   "source": [
    "import numpy as np\n",
    "import cv2\n",
    "import tarfile\n",
    "from pathlib import Path\n",
    "from tqdm import tqdm\n",
    "import shutil\n",
    "from tensorflow import keras\n",
    "from tensorflow.keras import backend as K\n",
    "from tensorflow.keras import layers as tfl\n",
    "from tensorflow.keras.layers import *"
   ]
  },
  {
   "cell_type": "code",
   "execution_count": 3,
   "metadata": {},
   "outputs": [
    {
     "name": "stdout",
     "output_type": "stream",
     "text": [
      "/root/Internship-Valeo/Project\r\n"
     ]
    }
   ],
   "source": [
    "!pwd"
   ]
  },
  {
   "cell_type": "code",
   "execution_count": 4,
   "metadata": {},
   "outputs": [],
   "source": [
    "DATA_PATH = '/root/Internship-Valeo/Project/data'\n",
    "TMPDIR = '/root/Internship-Valeo/Project/tmp'"
   ]
  },
  {
   "cell_type": "code",
   "execution_count": 5,
   "metadata": {},
   "outputs": [],
   "source": [
    "from datasets import synthetic_dataset\n",
    "from datasets.utils import pipeline\n",
    "from datasets.utils.pipeline import parse_primitives"
   ]
  },
  {
   "cell_type": "code",
   "execution_count": 6,
   "metadata": {},
   "outputs": [],
   "source": [
    "config = {\n",
    "            'primitives': 'all',\n",
    "            'truncate': {},\n",
    "            'validation_size': -1,\n",
    "            'test_size': -1,\n",
    "            'on-the-fly': False,\n",
    "            'cache_in_memory': False,\n",
    "            'suffix': None,\n",
    "            'add_augmentation_to_test_set': False,\n",
    "            'num_parallel_calls': 10,\n",
    "            'generation': {\n",
    "                'split_sizes': {'training': 10000, 'validation': 200, 'test': 500},\n",
    "                'image_size': [960, 1280],\n",
    "                'random_seed': 0,\n",
    "                'params': {\n",
    "                    'generate_background': {\n",
    "                        'min_kernel_size': 150, 'max_kernel_size': 500,\n",
    "                        'min_rad_ratio': 0.02, 'max_rad_ratio': 0.031},\n",
    "                    'draw_stripes': {'transform_params': (0.1, 0.1)},\n",
    "                    'draw_multiple_polygons': {'kernel_boundaries': (50, 100)}\n",
    "                },\n",
    "            },\n",
    "            'preprocessing': {\n",
    "                'resize': [240, 320],\n",
    "                'blur_size': 11,\n",
    "            },\n",
    "            'augmentation': {\n",
    "                'photometric': {\n",
    "                    'enable': False,\n",
    "                    'primitives': 'all',\n",
    "                    'params': {},\n",
    "                    'random_order': True,\n",
    "                },\n",
    "                'homographic': {\n",
    "                    'enable': False,\n",
    "                    'params': {},\n",
    "                    'valid_border_margin': 0,\n",
    "                },\n",
    "            }\n",
    "    }\n",
    "drawing_primitives = [\n",
    "            'draw_lines',\n",
    "            'draw_polygon',\n",
    "            'draw_multiple_polygons',\n",
    "            'draw_ellipses',\n",
    "            'draw_star',\n",
    "            'draw_checkerboard',\n",
    "            'draw_stripes',\n",
    "            'draw_cube',\n",
    "            'gaussian_noise'\n",
    "    ]"
   ]
  },
  {
   "cell_type": "code",
   "execution_count": 7,
   "metadata": {},
   "outputs": [],
   "source": [
    "def dump_primitive_data(primitive, tar_path, config):\n",
    "    temp_dir = Path(TMPDIR, primitive)\n",
    "\n",
    "    synthetic_dataset.set_random_state(np.random.RandomState(\n",
    "                config['generation']['random_seed']))\n",
    "    for split, size in config['generation']['split_sizes'].items():\n",
    "        im_dir, pts_dir = [Path(temp_dir, i, split) for i in ['images', 'points']]\n",
    "        im_dir.mkdir(parents=True, exist_ok=True)\n",
    "        pts_dir.mkdir(parents=True, exist_ok=True)\n",
    "\n",
    "        for i in tqdm(range(size), desc=split, leave=False):\n",
    "            image = synthetic_dataset.generate_background(\n",
    "                        config['generation']['image_size'],\n",
    "                        **config['generation']['params']['generate_background'])\n",
    "            points = np.array(getattr(synthetic_dataset, primitive)(\n",
    "                        image, **config['generation']['params'].get(primitive, {})))\n",
    "            points = np.flip(points, 1)  # reverse convention with opencv\n",
    "\n",
    "            b = config['preprocessing']['blur_size']\n",
    "            image = cv2.GaussianBlur(image, (b, b), 0)\n",
    "            points = (points * np.array(config['preprocessing']['resize'], np.float)\n",
    "                          / np.array(config['generation']['image_size'], np.float))\n",
    "            image = cv2.resize(image, tuple(config['preprocessing']['resize'][::-1]),\n",
    "                                   interpolation=cv2.INTER_LINEAR)\n",
    "\n",
    "            cv2.imwrite(str(Path(im_dir, '{}.png'.format(i))), image)\n",
    "            np.save(Path(pts_dir, '{}.npy'.format(i)), points)\n",
    "\n",
    "    # Pack into a tar file\n",
    "    tar = tarfile.open(tar_path, mode='w:gz')\n",
    "    tar.add(temp_dir, arcname=primitive)\n",
    "    tar.close()\n",
    "    shutil.rmtree(temp_dir)"
   ]
  },
  {
   "cell_type": "code",
   "execution_count": null,
   "metadata": {},
   "outputs": [],
   "source": [
    "primitives = parse_primitives(config['primitives'], drawing_primitives)\n",
    "basepath = Path(\n",
    "                DATA_PATH, 'synthetic_shapes' +\n",
    "                ('_{}'.format(config['suffix']) if config['suffix'] is not None else ''))\n",
    "basepath.mkdir(parents=True, exist_ok=True)\n",
    "\n",
    "splits = {s: {'images': [], 'points': []}\n",
    "                  for s in ['training', 'validation', 'test']}"
   ]
  },
  {
   "cell_type": "code",
   "execution_count": 8,
   "metadata": {},
   "outputs": [
    {
     "name": "stderr",
     "output_type": "stream",
     "text": [
      "                                                               \r"
     ]
    }
   ],
   "source": [
    "# for primitive in primitives:\n",
    "#     tar_path = Path(basepath, '{}.tar.gz'.format(primitive))\n",
    "#     if not tar_path.exists():\n",
    "#         dump_primitive_data(primitive, tar_path, config)"
   ]
  },
  {
   "cell_type": "code",
   "execution_count": 9,
   "metadata": {},
   "outputs": [],
   "source": [
    "for primitive in primitives:\n",
    "    # Untar locally\n",
    "    tar_path = Path(basepath, '{}.tar.gz'.format(primitive))\n",
    "    tar = tarfile.open(tar_path)\n",
    "    temp_dir = Path(TMPDIR)\n",
    "    tar.extractall(path=temp_dir)\n",
    "    tar.close()\n",
    "    # Gather filenames in all splits, optionally truncate\n",
    "    truncate = config['truncate'].get(primitive, 1)\n",
    "    path = Path(temp_dir, primitive)\n",
    "    for s in splits:\n",
    "        e = [str(p) for p in Path(path, 'images', s).iterdir()]\n",
    "        f = [p.replace('images', 'points') for p in e]\n",
    "        f = [p.replace('.png', '.npy') for p in f]\n",
    "        splits[s]['images'].extend(e[:int(truncate*len(e))])\n",
    "        splits[s]['points'].extend(f[:int(truncate*len(f))])"
   ]
  },
  {
   "cell_type": "code",
   "execution_count": 14,
   "metadata": {},
   "outputs": [],
   "source": [
    "# Shuffle\n",
    "for s in splits:\n",
    "    perm = np.random.RandomState(0).permutation(len(splits[s]['images']))\n",
    "    for obj in ['images', 'points']:\n",
    "        splits[s][obj] = np.array(splits[s][obj])[perm].tolist()"
   ]
  },
  {
   "cell_type": "code",
   "execution_count": 22,
   "metadata": {},
   "outputs": [
    {
     "data": {
      "text/plain": [
       "(90000, 4500, 1800)"
      ]
     },
     "execution_count": 22,
     "metadata": {},
     "output_type": "execute_result"
    }
   ],
   "source": [
    "len(splits['training']['images']), len(splits['test']['images']), len(splits['validation']['images'])"
   ]
  },
  {
   "cell_type": "code",
   "execution_count": 44,
   "metadata": {},
   "outputs": [],
   "source": [
    "# read keypoints\n",
    "def _read_points(filename):\n",
    "    return np.load(filename).astype(np.float32)"
   ]
  },
  {
   "cell_type": "code",
   "execution_count": 212,
   "metadata": {},
   "outputs": [],
   "source": [
    "class SyntheticShapes(keras.utils.Sequence):\n",
    "    def __init__(self, image_files, point_files, batch_size =8, **config):\n",
    "        self.__image_files, self.__point_files = image_files, point_files\n",
    "        self.__batch_size = batch_size\n",
    "    \n",
    "    def __getitem__(self, index):\n",
    "        images = []\n",
    "        points_maps = []\n",
    "        batch_img_files = self.__image_files[index * self.__batch_size:(index + 1) * self.__batch_size]\n",
    "        batch_point_files = self.__point_files[index * self.__batch_size:(index + 1) * self.__batch_size]\n",
    "        for img_file, point_file, itr in zip(batch_img_files, batch_point_files, range(self.__batch_size)):\n",
    "            image = cv2.imread(img_file, 0)\n",
    "            image = image / 255.0\n",
    "            points = _read_points(point_file)\n",
    "            points_map = np.zeros((image.shape[0],image.shape[1]))\n",
    "            points = np.round(points).astype(int)\n",
    "            for i in range(len(points)):\n",
    "                points_map[points[i][0],points[i][1]] = 1\n",
    "            images.append(image)\n",
    "            points_maps.append(points_map)\n",
    "            \n",
    "#         images = np.asarray(images).astype(np.float32)\n",
    "        images = np.array(images)\n",
    "        points_maps = np.array(points_maps)\n",
    "#         points_maps = np.asarray(points_maps).astype(np.float32)\n",
    "\n",
    "        return images, points_maps\n",
    "    \n",
    "    def __len__(self):\n",
    "        return int(np.ceil(len(self.__image_files) / float(self.__batch_size)))"
   ]
  },
  {
   "cell_type": "code",
   "execution_count": 213,
   "metadata": {},
   "outputs": [],
   "source": [
    "#         data = data.map(lambda image, kp: {'image': image, 'keypoints': kp})\n",
    "#         data = data.map(pipeline.add_dummy_valid_mask)\n",
    "\n",
    "#         # Apply augmentation\n",
    "#         if split_name == 'training' or config['add_augmentation_to_test_set']:\n",
    "#             if config['augmentation']['photometric']['enable']:\n",
    "#                 data = data.map_parallel(lambda d: pipeline.photometric_augmentation(\n",
    "#                     d, **config['augmentation']['photometric']))\n",
    "#             if config['augmentation']['homographic']['enable']:\n",
    "#                 data = data.map_parallel(lambda d: pipeline.homographic_augmentation(\n",
    "#                     d, **config['augmentation']['homographic']))\n",
    "\n",
    "#         # Convert the point coordinates to a dense keypoint map\n",
    "#         data = data.map_parallel(pipeline.add_keypoint_map)"
   ]
  },
  {
   "cell_type": "code",
   "execution_count": 214,
   "metadata": {},
   "outputs": [],
   "source": [
    "model_config = {\n",
    "            'data_format': 'channels_last',\n",
    "            'grid_size': 8,\n",
    "            'detection_threshold': 0.4,\n",
    "            'descriptor_size': 256,\n",
    "            'batch_size': 32,\n",
    "            'learning_rate': 0.001,\n",
    "            'lambda_d': 250,\n",
    "            'descriptor_size': 256,\n",
    "            'positive_margin': 1,\n",
    "            'negative_margin': 0.2,\n",
    "            'lambda_loss': 0.0001,\n",
    "            'nms': 0,\n",
    "            'top_k': 0\n",
    "    }"
   ]
  },
  {
   "cell_type": "code",
   "execution_count": 215,
   "metadata": {},
   "outputs": [],
   "source": [
    "def vgg_block(inputs, filters, kernel_size, name, data_format, training=False,\n",
    "              batch_normalization=True, kernel_reg=0., **params):\n",
    "    x = tfl.Convolution2D(filters, kernel_size, kernel_initializer='he_uniform',\n",
    "                       kernel_regularizer=tf.keras.regularizers.L2(kernel_reg),\n",
    "                       data_format=data_format, **params)(inputs)\n",
    "    if batch_normalization:\n",
    "        x = tfl.BatchNormalization(\n",
    "                    fused=True,\n",
    "                    axis=1 if data_format == 'channels_first' else -1)(x)\n",
    "    return x"
   ]
  },
  {
   "cell_type": "code",
   "execution_count": 216,
   "metadata": {},
   "outputs": [],
   "source": [
    "def shared_encoder(inputs, model_config):\n",
    "    params_conv = {'padding': 'SAME', 'data_format': model_config['data_format'],\n",
    "                   'batch_normalization': True,\n",
    "                   'kernel_reg': model_config.get('kernel_reg', 0.)}\n",
    "    cfirst = model_config['data_format'] == 'channels_first'\n",
    "    cindex = 1 if cfirst else -1  # index of the channel\n",
    "    pool_size=(2, 2)\n",
    "    kernel = 3\n",
    "    # Encoder\n",
    "    conv1 = vgg_block(inputs, 64, (kernel, kernel), 'conv1_1', **params_conv)\n",
    "    conv2 = vgg_block(conv1, 64, (kernel, kernel), 'conv1_2', **params_conv)\n",
    "    pool1 = MaxPooling2D(pool_size, name=\"block1_pool\")(conv2)\n",
    "\n",
    "    conv3 = vgg_block(pool1, 64, (kernel, kernel), 'conv2_1', **params_conv)\n",
    "    conv4 = vgg_block(conv3, 64, (kernel, kernel), 'conv2_2', **params_conv)\n",
    "    pool2 = MaxPooling2D(pool_size, name=\"block2_pool\")(conv4)\n",
    "\n",
    "    conv5 = vgg_block(pool2, 128, (kernel, kernel), 'conv3_1', **params_conv)\n",
    "    conv6 = vgg_block(conv5, 128, (kernel, kernel), 'conv3_2', **params_conv)\n",
    "    pool3 = MaxPooling2D(pool_size, name=\"block3_pool\")(conv6)\n",
    "\n",
    "    conv7 = vgg_block(pool3, 128, (kernel, kernel), 'conv4_1', **params_conv)\n",
    "    conv8 = vgg_block(conv7, 128, (kernel, kernel), 'conv4_2', **params_conv)\n",
    "    return conv8"
   ]
  },
  {
   "cell_type": "code",
   "execution_count": 217,
   "metadata": {},
   "outputs": [],
   "source": [
    "def detector_head(inputs, model_config):\n",
    "    params_conv = {'padding': 'SAME', 'data_format': model_config['data_format'],\n",
    "                   'batch_normalization': True,\n",
    "                   'kernel_reg': model_config.get('kernel_reg', 0.)}\n",
    "    cfirst = model_config['data_format'] == 'channels_first'\n",
    "    cindex = 1 if cfirst else -1  # index of the channel\n",
    "\n",
    "\n",
    "    x = vgg_block(inputs, 256, 3, 'conv1',\n",
    "                      activation=tf.nn.relu, **params_conv)\n",
    "    x = vgg_block(x, 1+pow(model_config['grid_size'], 2), 1, 'conv2',\n",
    "                      activation=None, **params_conv)\n",
    "\n",
    "    prob = tf.nn.softmax(x, axis=cindex)\n",
    "    # Strip the extra “no interest point” dustbin\n",
    "    prob = prob[:, :-1, :, :] if cfirst else prob[:, :, :, :-1]\n",
    "    prob = tf.nn.depth_to_space(\n",
    "              prob, model_config['grid_size'], data_format='NCHW' if cfirst else 'NHWC')\n",
    "    prob = tf.squeeze(prob, axis=cindex)\n",
    "\n",
    "    return {'logits': x, 'prob': prob}"
   ]
  },
  {
   "cell_type": "code",
   "execution_count": 218,
   "metadata": {},
   "outputs": [],
   "source": [
    "def net(input_shape = (240, 320, 1)):\n",
    "    inputs = Input(shape = input_shape)\n",
    "    encoder_output = shared_encoder(inputs, model_config)\n",
    "    output = detector_head(encoder_output, model_config)\n",
    "    model = keras.models.Model(inputs = inputs , outputs = output)\n",
    "    return model"
   ]
  },
  {
   "cell_type": "code",
   "execution_count": 219,
   "metadata": {},
   "outputs": [],
   "source": [
    "model = net(input_shape = (240, 320, 1))"
   ]
  },
  {
   "cell_type": "code",
   "execution_count": 220,
   "metadata": {},
   "outputs": [
    {
     "name": "stdout",
     "output_type": "stream",
     "text": [
      "Model: \"model_4\"\n",
      "_________________________________________________________________\n",
      "Layer (type)                 Output Shape              Param #   \n",
      "=================================================================\n",
      "input_11 (InputLayer)        [(None, 240, 320, 1)]     0         \n",
      "_________________________________________________________________\n",
      "conv2d_69 (Conv2D)           (None, 240, 320, 64)      640       \n",
      "_________________________________________________________________\n",
      "batch_normalization_68 (Batc (None, 240, 320, 64)      256       \n",
      "_________________________________________________________________\n",
      "conv2d_70 (Conv2D)           (None, 240, 320, 64)      36928     \n",
      "_________________________________________________________________\n",
      "batch_normalization_69 (Batc (None, 240, 320, 64)      256       \n",
      "_________________________________________________________________\n",
      "block1_pool (MaxPooling2D)   (None, 120, 160, 64)      0         \n",
      "_________________________________________________________________\n",
      "conv2d_71 (Conv2D)           (None, 120, 160, 64)      36928     \n",
      "_________________________________________________________________\n",
      "batch_normalization_70 (Batc (None, 120, 160, 64)      256       \n",
      "_________________________________________________________________\n",
      "conv2d_72 (Conv2D)           (None, 120, 160, 64)      36928     \n",
      "_________________________________________________________________\n",
      "batch_normalization_71 (Batc (None, 120, 160, 64)      256       \n",
      "_________________________________________________________________\n",
      "block2_pool (MaxPooling2D)   (None, 60, 80, 64)        0         \n",
      "_________________________________________________________________\n",
      "conv2d_73 (Conv2D)           (None, 60, 80, 128)       73856     \n",
      "_________________________________________________________________\n",
      "batch_normalization_72 (Batc (None, 60, 80, 128)       512       \n",
      "_________________________________________________________________\n",
      "conv2d_74 (Conv2D)           (None, 60, 80, 128)       147584    \n",
      "_________________________________________________________________\n",
      "batch_normalization_73 (Batc (None, 60, 80, 128)       512       \n",
      "_________________________________________________________________\n",
      "block3_pool (MaxPooling2D)   (None, 30, 40, 128)       0         \n",
      "_________________________________________________________________\n",
      "conv2d_75 (Conv2D)           (None, 30, 40, 128)       147584    \n",
      "_________________________________________________________________\n",
      "batch_normalization_74 (Batc (None, 30, 40, 128)       512       \n",
      "_________________________________________________________________\n",
      "conv2d_76 (Conv2D)           (None, 30, 40, 128)       147584    \n",
      "_________________________________________________________________\n",
      "batch_normalization_75 (Batc (None, 30, 40, 128)       512       \n",
      "_________________________________________________________________\n",
      "conv2d_77 (Conv2D)           (None, 30, 40, 256)       295168    \n",
      "_________________________________________________________________\n",
      "batch_normalization_76 (Batc (None, 30, 40, 256)       1024      \n",
      "_________________________________________________________________\n",
      "conv2d_78 (Conv2D)           (None, 30, 40, 65)        16705     \n",
      "_________________________________________________________________\n",
      "batch_normalization_77 (Batc (None, 30, 40, 65)        260       \n",
      "_________________________________________________________________\n",
      "tf.nn.softmax_5 (TFOpLambda) (None, 30, 40, 65)        0         \n",
      "_________________________________________________________________\n",
      "tf.__operators__.getitem_5 ( (None, 30, 40, 64)        0         \n",
      "_________________________________________________________________\n",
      "tf.nn.depth_to_space_4 (TFOp (None, 240, 320, 1)       0         \n",
      "_________________________________________________________________\n",
      "tf.compat.v1.squeeze_4 (TFOp (None, 240, 320)          0         \n",
      "=================================================================\n",
      "Total params: 944,261\n",
      "Trainable params: 942,083\n",
      "Non-trainable params: 2,178\n",
      "_________________________________________________________________\n"
     ]
    }
   ],
   "source": [
    "model.summary()"
   ]
  },
  {
   "cell_type": "code",
   "execution_count": 221,
   "metadata": {},
   "outputs": [],
   "source": [
    "# def detector_loss(keypoint_map, logits, valid_mask=None, **config):\n",
    "#     # Convert the boolean labels to indices including the \"no interest point\" dustbin\n",
    "#     labels = tf.to_float(keypoint_map[..., tf.newaxis])  # for GPU\n",
    "#     labels = tf.nn.space_to_depth(labels, model_config['grid_size'])\n",
    "#     shape = tf.concat([tf.shape(labels)[:3], [1]], axis=0)\n",
    "#     labels = tf.concat([2*labels, tf.ones(shape)], 3)\n",
    "#     # Add a small random matrix to randomly break ties in argmax\n",
    "#     labels = tf.argmax(labels + tf.random_uniform(tf.shape(labels), 0, 0.1),\n",
    "#                        axis=3)\n",
    "\n",
    "#     # Mask the pixels if bordering artifacts appear\n",
    "#     valid_mask = tf.ones_like(keypoint_map) if valid_mask is None else valid_mask\n",
    "#     valid_mask = tf.to_float(valid_mask[..., tf.newaxis])  # for GPU\n",
    "#     valid_mask = tf.space_to_depth(valid_mask, model_config['grid_size'])\n",
    "#     valid_mask = tf.reduce_prod(valid_mask, axis=3)  # AND along the channel dim\n",
    "\n",
    "#     loss = tf.losses.sparse_softmax_cross_entropy(\n",
    "#             labels=labels, logits=logits, weights=valid_mask)\n",
    "#     return loss\n",
    "\n",
    "# def _loss(self, outputs, inputs, **config):\n",
    "#     if config['data_format'] == 'channels_first':\n",
    "#         outputs['logits'] = tf.transpose(outputs['logits'], [0, 2, 3, 1])\n",
    "#         return detector_loss(inputs['keypoint_map'], outputs['logits'],\n",
    "#                              valid_mask=inputs['valid_mask'], **config)"
   ]
  },
  {
   "cell_type": "code",
   "execution_count": 241,
   "metadata": {},
   "outputs": [],
   "source": [
    "model.compile(optimizer = keras.optimizers.Adam(learning_rate = 1e-4),\n",
    "              loss = tf.nn.softmax_cross_entropy_with_logits, metrics = ['Precision'])"
   ]
  },
  {
   "cell_type": "code",
   "execution_count": 242,
   "metadata": {},
   "outputs": [
    {
     "name": "stdout",
     "output_type": "stream",
     "text": [
      "Epoch 1/5\n"
     ]
    },
    {
     "ename": "ValueError",
     "evalue": "in user code:\n\n    /usr/local/lib/python3.6/dist-packages/tensorflow/python/keras/engine/training.py:855 train_function  *\n        return step_function(self, iterator)\n    /usr/local/lib/python3.6/dist-packages/tensorflow/python/keras/engine/training.py:845 step_function  **\n        outputs = model.distribute_strategy.run(run_step, args=(data,))\n    /usr/local/lib/python3.6/dist-packages/tensorflow/python/distribute/distribute_lib.py:1285 run\n        return self._extended.call_for_each_replica(fn, args=args, kwargs=kwargs)\n    /usr/local/lib/python3.6/dist-packages/tensorflow/python/distribute/distribute_lib.py:2833 call_for_each_replica\n        return self._call_for_each_replica(fn, args, kwargs)\n    /usr/local/lib/python3.6/dist-packages/tensorflow/python/distribute/distribute_lib.py:3608 _call_for_each_replica\n        return fn(*args, **kwargs)\n    /usr/local/lib/python3.6/dist-packages/tensorflow/python/keras/engine/training.py:838 run_step  **\n        outputs = model.train_step(data)\n    /usr/local/lib/python3.6/dist-packages/tensorflow/python/keras/engine/training.py:800 train_step\n        self.compiled_metrics.update_state(y, y_pred, sample_weight)\n    /usr/local/lib/python3.6/dist-packages/tensorflow/python/keras/engine/compile_utils.py:460 update_state\n        metric_obj.update_state(y_t, y_p, sample_weight=mask)\n    /usr/local/lib/python3.6/dist-packages/tensorflow/python/keras/utils/metrics_utils.py:86 decorated\n        update_op = update_state_fn(*args, **kwargs)\n    /usr/local/lib/python3.6/dist-packages/tensorflow/python/keras/metrics.py:177 update_state_fn\n        return ag_update_state(*args, **kwargs)\n    /usr/local/lib/python3.6/dist-packages/tensorflow/python/keras/metrics.py:1337 update_state  **\n        sample_weight=sample_weight)\n    /usr/local/lib/python3.6/dist-packages/tensorflow/python/keras/utils/metrics_utils.py:366 update_confusion_matrix_variables\n        y_pred.shape.assert_is_compatible_with(y_true.shape)\n    /usr/local/lib/python3.6/dist-packages/tensorflow/python/framework/tensor_shape.py:1161 assert_is_compatible_with\n        raise ValueError(\"Shapes %s and %s are incompatible\" % (self, other))\n\n    ValueError: Shapes (None, 30, 40, 65) and (None, None, None) are incompatible\n",
     "output_type": "error",
     "traceback": [
      "\u001b[0;31m---------------------------------------------------------------------------\u001b[0m",
      "\u001b[0;31mValueError\u001b[0m                                Traceback (most recent call last)",
      "\u001b[0;32m<ipython-input-242-bf962658c9a9>\u001b[0m in \u001b[0;36m<module>\u001b[0;34m\u001b[0m\n\u001b[1;32m      7\u001b[0m \u001b[0mtrain_steps\u001b[0m \u001b[0;34m=\u001b[0m  \u001b[0mlen\u001b[0m\u001b[0;34m(\u001b[0m\u001b[0msplits\u001b[0m\u001b[0;34m[\u001b[0m\u001b[0;34m'training'\u001b[0m\u001b[0;34m]\u001b[0m\u001b[0;34m[\u001b[0m\u001b[0;34m'images'\u001b[0m\u001b[0;34m]\u001b[0m\u001b[0;34m)\u001b[0m\u001b[0;34m/\u001b[0m\u001b[0mbatch_size\u001b[0m\u001b[0;34m\u001b[0m\u001b[0;34m\u001b[0m\u001b[0m\n\u001b[1;32m      8\u001b[0m \u001b[0;34m\u001b[0m\u001b[0m\n\u001b[0;32m----> 9\u001b[0;31m \u001b[0mmodel\u001b[0m\u001b[0;34m.\u001b[0m\u001b[0mfit\u001b[0m\u001b[0;34m(\u001b[0m\u001b[0mtrain_gen\u001b[0m \u001b[0;34m,\u001b[0m \u001b[0mvalidation_data\u001b[0m \u001b[0;34m=\u001b[0m \u001b[0mval_gen\u001b[0m\u001b[0;34m,\u001b[0m \u001b[0msteps_per_epoch\u001b[0m \u001b[0;34m=\u001b[0m \u001b[0mtrain_steps\u001b[0m\u001b[0;34m,\u001b[0m \u001b[0mepochs\u001b[0m\u001b[0;34m=\u001b[0m\u001b[0mepochs\u001b[0m\u001b[0;34m)\u001b[0m\u001b[0;34m\u001b[0m\u001b[0;34m\u001b[0m\u001b[0m\n\u001b[0m",
      "\u001b[0;32m/usr/local/lib/python3.6/dist-packages/tensorflow/python/keras/engine/training.py\u001b[0m in \u001b[0;36mfit\u001b[0;34m(self, x, y, batch_size, epochs, verbose, callbacks, validation_split, validation_data, shuffle, class_weight, sample_weight, initial_epoch, steps_per_epoch, validation_steps, validation_batch_size, validation_freq, max_queue_size, workers, use_multiprocessing)\u001b[0m\n\u001b[1;32m   1181\u001b[0m                 _r=1):\n\u001b[1;32m   1182\u001b[0m               \u001b[0mcallbacks\u001b[0m\u001b[0;34m.\u001b[0m\u001b[0mon_train_batch_begin\u001b[0m\u001b[0;34m(\u001b[0m\u001b[0mstep\u001b[0m\u001b[0;34m)\u001b[0m\u001b[0;34m\u001b[0m\u001b[0;34m\u001b[0m\u001b[0m\n\u001b[0;32m-> 1183\u001b[0;31m               \u001b[0mtmp_logs\u001b[0m \u001b[0;34m=\u001b[0m \u001b[0mself\u001b[0m\u001b[0;34m.\u001b[0m\u001b[0mtrain_function\u001b[0m\u001b[0;34m(\u001b[0m\u001b[0miterator\u001b[0m\u001b[0;34m)\u001b[0m\u001b[0;34m\u001b[0m\u001b[0;34m\u001b[0m\u001b[0m\n\u001b[0m\u001b[1;32m   1184\u001b[0m               \u001b[0;32mif\u001b[0m \u001b[0mdata_handler\u001b[0m\u001b[0;34m.\u001b[0m\u001b[0mshould_sync\u001b[0m\u001b[0;34m:\u001b[0m\u001b[0;34m\u001b[0m\u001b[0;34m\u001b[0m\u001b[0m\n\u001b[1;32m   1185\u001b[0m                 \u001b[0mcontext\u001b[0m\u001b[0;34m.\u001b[0m\u001b[0masync_wait\u001b[0m\u001b[0;34m(\u001b[0m\u001b[0;34m)\u001b[0m\u001b[0;34m\u001b[0m\u001b[0;34m\u001b[0m\u001b[0m\n",
      "\u001b[0;32m/usr/local/lib/python3.6/dist-packages/tensorflow/python/eager/def_function.py\u001b[0m in \u001b[0;36m__call__\u001b[0;34m(self, *args, **kwds)\u001b[0m\n\u001b[1;32m    887\u001b[0m \u001b[0;34m\u001b[0m\u001b[0m\n\u001b[1;32m    888\u001b[0m       \u001b[0;32mwith\u001b[0m \u001b[0mOptionalXlaContext\u001b[0m\u001b[0;34m(\u001b[0m\u001b[0mself\u001b[0m\u001b[0;34m.\u001b[0m\u001b[0m_jit_compile\u001b[0m\u001b[0;34m)\u001b[0m\u001b[0;34m:\u001b[0m\u001b[0;34m\u001b[0m\u001b[0;34m\u001b[0m\u001b[0m\n\u001b[0;32m--> 889\u001b[0;31m         \u001b[0mresult\u001b[0m \u001b[0;34m=\u001b[0m \u001b[0mself\u001b[0m\u001b[0;34m.\u001b[0m\u001b[0m_call\u001b[0m\u001b[0;34m(\u001b[0m\u001b[0;34m*\u001b[0m\u001b[0margs\u001b[0m\u001b[0;34m,\u001b[0m \u001b[0;34m**\u001b[0m\u001b[0mkwds\u001b[0m\u001b[0;34m)\u001b[0m\u001b[0;34m\u001b[0m\u001b[0;34m\u001b[0m\u001b[0m\n\u001b[0m\u001b[1;32m    890\u001b[0m \u001b[0;34m\u001b[0m\u001b[0m\n\u001b[1;32m    891\u001b[0m       \u001b[0mnew_tracing_count\u001b[0m \u001b[0;34m=\u001b[0m \u001b[0mself\u001b[0m\u001b[0;34m.\u001b[0m\u001b[0mexperimental_get_tracing_count\u001b[0m\u001b[0;34m(\u001b[0m\u001b[0;34m)\u001b[0m\u001b[0;34m\u001b[0m\u001b[0;34m\u001b[0m\u001b[0m\n",
      "\u001b[0;32m/usr/local/lib/python3.6/dist-packages/tensorflow/python/eager/def_function.py\u001b[0m in \u001b[0;36m_call\u001b[0;34m(self, *args, **kwds)\u001b[0m\n\u001b[1;32m    931\u001b[0m       \u001b[0;31m# This is the first call of __call__, so we have to initialize.\u001b[0m\u001b[0;34m\u001b[0m\u001b[0;34m\u001b[0m\u001b[0;34m\u001b[0m\u001b[0m\n\u001b[1;32m    932\u001b[0m       \u001b[0minitializers\u001b[0m \u001b[0;34m=\u001b[0m \u001b[0;34m[\u001b[0m\u001b[0;34m]\u001b[0m\u001b[0;34m\u001b[0m\u001b[0;34m\u001b[0m\u001b[0m\n\u001b[0;32m--> 933\u001b[0;31m       \u001b[0mself\u001b[0m\u001b[0;34m.\u001b[0m\u001b[0m_initialize\u001b[0m\u001b[0;34m(\u001b[0m\u001b[0margs\u001b[0m\u001b[0;34m,\u001b[0m \u001b[0mkwds\u001b[0m\u001b[0;34m,\u001b[0m \u001b[0madd_initializers_to\u001b[0m\u001b[0;34m=\u001b[0m\u001b[0minitializers\u001b[0m\u001b[0;34m)\u001b[0m\u001b[0;34m\u001b[0m\u001b[0;34m\u001b[0m\u001b[0m\n\u001b[0m\u001b[1;32m    934\u001b[0m     \u001b[0;32mfinally\u001b[0m\u001b[0;34m:\u001b[0m\u001b[0;34m\u001b[0m\u001b[0;34m\u001b[0m\u001b[0m\n\u001b[1;32m    935\u001b[0m       \u001b[0;31m# At this point we know that the initialization is complete (or less\u001b[0m\u001b[0;34m\u001b[0m\u001b[0;34m\u001b[0m\u001b[0;34m\u001b[0m\u001b[0m\n",
      "\u001b[0;32m/usr/local/lib/python3.6/dist-packages/tensorflow/python/eager/def_function.py\u001b[0m in \u001b[0;36m_initialize\u001b[0;34m(self, args, kwds, add_initializers_to)\u001b[0m\n\u001b[1;32m    762\u001b[0m     self._concrete_stateful_fn = (\n\u001b[1;32m    763\u001b[0m         self._stateful_fn._get_concrete_function_internal_garbage_collected(  # pylint: disable=protected-access\n\u001b[0;32m--> 764\u001b[0;31m             *args, **kwds))\n\u001b[0m\u001b[1;32m    765\u001b[0m \u001b[0;34m\u001b[0m\u001b[0m\n\u001b[1;32m    766\u001b[0m     \u001b[0;32mdef\u001b[0m \u001b[0minvalid_creator_scope\u001b[0m\u001b[0;34m(\u001b[0m\u001b[0;34m*\u001b[0m\u001b[0munused_args\u001b[0m\u001b[0;34m,\u001b[0m \u001b[0;34m**\u001b[0m\u001b[0munused_kwds\u001b[0m\u001b[0;34m)\u001b[0m\u001b[0;34m:\u001b[0m\u001b[0;34m\u001b[0m\u001b[0;34m\u001b[0m\u001b[0m\n",
      "\u001b[0;32m/usr/local/lib/python3.6/dist-packages/tensorflow/python/eager/function.py\u001b[0m in \u001b[0;36m_get_concrete_function_internal_garbage_collected\u001b[0;34m(self, *args, **kwargs)\u001b[0m\n\u001b[1;32m   3048\u001b[0m       \u001b[0margs\u001b[0m\u001b[0;34m,\u001b[0m \u001b[0mkwargs\u001b[0m \u001b[0;34m=\u001b[0m \u001b[0;32mNone\u001b[0m\u001b[0;34m,\u001b[0m \u001b[0;32mNone\u001b[0m\u001b[0;34m\u001b[0m\u001b[0;34m\u001b[0m\u001b[0m\n\u001b[1;32m   3049\u001b[0m     \u001b[0;32mwith\u001b[0m \u001b[0mself\u001b[0m\u001b[0;34m.\u001b[0m\u001b[0m_lock\u001b[0m\u001b[0;34m:\u001b[0m\u001b[0;34m\u001b[0m\u001b[0;34m\u001b[0m\u001b[0m\n\u001b[0;32m-> 3050\u001b[0;31m       \u001b[0mgraph_function\u001b[0m\u001b[0;34m,\u001b[0m \u001b[0m_\u001b[0m \u001b[0;34m=\u001b[0m \u001b[0mself\u001b[0m\u001b[0;34m.\u001b[0m\u001b[0m_maybe_define_function\u001b[0m\u001b[0;34m(\u001b[0m\u001b[0margs\u001b[0m\u001b[0;34m,\u001b[0m \u001b[0mkwargs\u001b[0m\u001b[0;34m)\u001b[0m\u001b[0;34m\u001b[0m\u001b[0;34m\u001b[0m\u001b[0m\n\u001b[0m\u001b[1;32m   3051\u001b[0m     \u001b[0;32mreturn\u001b[0m \u001b[0mgraph_function\u001b[0m\u001b[0;34m\u001b[0m\u001b[0;34m\u001b[0m\u001b[0m\n\u001b[1;32m   3052\u001b[0m \u001b[0;34m\u001b[0m\u001b[0m\n",
      "\u001b[0;32m/usr/local/lib/python3.6/dist-packages/tensorflow/python/eager/function.py\u001b[0m in \u001b[0;36m_maybe_define_function\u001b[0;34m(self, args, kwargs)\u001b[0m\n\u001b[1;32m   3442\u001b[0m \u001b[0;34m\u001b[0m\u001b[0m\n\u001b[1;32m   3443\u001b[0m           \u001b[0mself\u001b[0m\u001b[0;34m.\u001b[0m\u001b[0m_function_cache\u001b[0m\u001b[0;34m.\u001b[0m\u001b[0mmissed\u001b[0m\u001b[0;34m.\u001b[0m\u001b[0madd\u001b[0m\u001b[0;34m(\u001b[0m\u001b[0mcall_context_key\u001b[0m\u001b[0;34m)\u001b[0m\u001b[0;34m\u001b[0m\u001b[0;34m\u001b[0m\u001b[0m\n\u001b[0;32m-> 3444\u001b[0;31m           \u001b[0mgraph_function\u001b[0m \u001b[0;34m=\u001b[0m \u001b[0mself\u001b[0m\u001b[0;34m.\u001b[0m\u001b[0m_create_graph_function\u001b[0m\u001b[0;34m(\u001b[0m\u001b[0margs\u001b[0m\u001b[0;34m,\u001b[0m \u001b[0mkwargs\u001b[0m\u001b[0;34m)\u001b[0m\u001b[0;34m\u001b[0m\u001b[0;34m\u001b[0m\u001b[0m\n\u001b[0m\u001b[1;32m   3445\u001b[0m           \u001b[0mself\u001b[0m\u001b[0;34m.\u001b[0m\u001b[0m_function_cache\u001b[0m\u001b[0;34m.\u001b[0m\u001b[0mprimary\u001b[0m\u001b[0;34m[\u001b[0m\u001b[0mcache_key\u001b[0m\u001b[0;34m]\u001b[0m \u001b[0;34m=\u001b[0m \u001b[0mgraph_function\u001b[0m\u001b[0;34m\u001b[0m\u001b[0;34m\u001b[0m\u001b[0m\n\u001b[1;32m   3446\u001b[0m \u001b[0;34m\u001b[0m\u001b[0m\n",
      "\u001b[0;32m/usr/local/lib/python3.6/dist-packages/tensorflow/python/eager/function.py\u001b[0m in \u001b[0;36m_create_graph_function\u001b[0;34m(self, args, kwargs, override_flat_arg_shapes)\u001b[0m\n\u001b[1;32m   3287\u001b[0m             \u001b[0marg_names\u001b[0m\u001b[0;34m=\u001b[0m\u001b[0marg_names\u001b[0m\u001b[0;34m,\u001b[0m\u001b[0;34m\u001b[0m\u001b[0;34m\u001b[0m\u001b[0m\n\u001b[1;32m   3288\u001b[0m             \u001b[0moverride_flat_arg_shapes\u001b[0m\u001b[0;34m=\u001b[0m\u001b[0moverride_flat_arg_shapes\u001b[0m\u001b[0;34m,\u001b[0m\u001b[0;34m\u001b[0m\u001b[0;34m\u001b[0m\u001b[0m\n\u001b[0;32m-> 3289\u001b[0;31m             capture_by_value=self._capture_by_value),\n\u001b[0m\u001b[1;32m   3290\u001b[0m         \u001b[0mself\u001b[0m\u001b[0;34m.\u001b[0m\u001b[0m_function_attributes\u001b[0m\u001b[0;34m,\u001b[0m\u001b[0;34m\u001b[0m\u001b[0;34m\u001b[0m\u001b[0m\n\u001b[1;32m   3291\u001b[0m         \u001b[0mfunction_spec\u001b[0m\u001b[0;34m=\u001b[0m\u001b[0mself\u001b[0m\u001b[0;34m.\u001b[0m\u001b[0mfunction_spec\u001b[0m\u001b[0;34m,\u001b[0m\u001b[0;34m\u001b[0m\u001b[0;34m\u001b[0m\u001b[0m\n",
      "\u001b[0;32m/usr/local/lib/python3.6/dist-packages/tensorflow/python/framework/func_graph.py\u001b[0m in \u001b[0;36mfunc_graph_from_py_func\u001b[0;34m(name, python_func, args, kwargs, signature, func_graph, autograph, autograph_options, add_control_dependencies, arg_names, op_return_value, collections, capture_by_value, override_flat_arg_shapes)\u001b[0m\n\u001b[1;32m    997\u001b[0m         \u001b[0m_\u001b[0m\u001b[0;34m,\u001b[0m \u001b[0moriginal_func\u001b[0m \u001b[0;34m=\u001b[0m \u001b[0mtf_decorator\u001b[0m\u001b[0;34m.\u001b[0m\u001b[0munwrap\u001b[0m\u001b[0;34m(\u001b[0m\u001b[0mpython_func\u001b[0m\u001b[0;34m)\u001b[0m\u001b[0;34m\u001b[0m\u001b[0;34m\u001b[0m\u001b[0m\n\u001b[1;32m    998\u001b[0m \u001b[0;34m\u001b[0m\u001b[0m\n\u001b[0;32m--> 999\u001b[0;31m       \u001b[0mfunc_outputs\u001b[0m \u001b[0;34m=\u001b[0m \u001b[0mpython_func\u001b[0m\u001b[0;34m(\u001b[0m\u001b[0;34m*\u001b[0m\u001b[0mfunc_args\u001b[0m\u001b[0;34m,\u001b[0m \u001b[0;34m**\u001b[0m\u001b[0mfunc_kwargs\u001b[0m\u001b[0;34m)\u001b[0m\u001b[0;34m\u001b[0m\u001b[0;34m\u001b[0m\u001b[0m\n\u001b[0m\u001b[1;32m   1000\u001b[0m \u001b[0;34m\u001b[0m\u001b[0m\n\u001b[1;32m   1001\u001b[0m       \u001b[0;31m# invariant: `func_outputs` contains only Tensors, CompositeTensors,\u001b[0m\u001b[0;34m\u001b[0m\u001b[0;34m\u001b[0m\u001b[0;34m\u001b[0m\u001b[0m\n",
      "\u001b[0;32m/usr/local/lib/python3.6/dist-packages/tensorflow/python/eager/def_function.py\u001b[0m in \u001b[0;36mwrapped_fn\u001b[0;34m(*args, **kwds)\u001b[0m\n\u001b[1;32m    670\u001b[0m         \u001b[0;31m# the function a weak reference to itself to avoid a reference cycle.\u001b[0m\u001b[0;34m\u001b[0m\u001b[0;34m\u001b[0m\u001b[0;34m\u001b[0m\u001b[0m\n\u001b[1;32m    671\u001b[0m         \u001b[0;32mwith\u001b[0m \u001b[0mOptionalXlaContext\u001b[0m\u001b[0;34m(\u001b[0m\u001b[0mcompile_with_xla\u001b[0m\u001b[0;34m)\u001b[0m\u001b[0;34m:\u001b[0m\u001b[0;34m\u001b[0m\u001b[0;34m\u001b[0m\u001b[0m\n\u001b[0;32m--> 672\u001b[0;31m           \u001b[0mout\u001b[0m \u001b[0;34m=\u001b[0m \u001b[0mweak_wrapped_fn\u001b[0m\u001b[0;34m(\u001b[0m\u001b[0;34m)\u001b[0m\u001b[0;34m.\u001b[0m\u001b[0m__wrapped__\u001b[0m\u001b[0;34m(\u001b[0m\u001b[0;34m*\u001b[0m\u001b[0margs\u001b[0m\u001b[0;34m,\u001b[0m \u001b[0;34m**\u001b[0m\u001b[0mkwds\u001b[0m\u001b[0;34m)\u001b[0m\u001b[0;34m\u001b[0m\u001b[0;34m\u001b[0m\u001b[0m\n\u001b[0m\u001b[1;32m    673\u001b[0m         \u001b[0;32mreturn\u001b[0m \u001b[0mout\u001b[0m\u001b[0;34m\u001b[0m\u001b[0;34m\u001b[0m\u001b[0m\n\u001b[1;32m    674\u001b[0m \u001b[0;34m\u001b[0m\u001b[0m\n",
      "\u001b[0;32m/usr/local/lib/python3.6/dist-packages/tensorflow/python/framework/func_graph.py\u001b[0m in \u001b[0;36mwrapper\u001b[0;34m(*args, **kwargs)\u001b[0m\n\u001b[1;32m    984\u001b[0m           \u001b[0;32mexcept\u001b[0m \u001b[0mException\u001b[0m \u001b[0;32mas\u001b[0m \u001b[0me\u001b[0m\u001b[0;34m:\u001b[0m  \u001b[0;31m# pylint:disable=broad-except\u001b[0m\u001b[0;34m\u001b[0m\u001b[0;34m\u001b[0m\u001b[0m\n\u001b[1;32m    985\u001b[0m             \u001b[0;32mif\u001b[0m \u001b[0mhasattr\u001b[0m\u001b[0;34m(\u001b[0m\u001b[0me\u001b[0m\u001b[0;34m,\u001b[0m \u001b[0;34m\"ag_error_metadata\"\u001b[0m\u001b[0;34m)\u001b[0m\u001b[0;34m:\u001b[0m\u001b[0;34m\u001b[0m\u001b[0;34m\u001b[0m\u001b[0m\n\u001b[0;32m--> 986\u001b[0;31m               \u001b[0;32mraise\u001b[0m \u001b[0me\u001b[0m\u001b[0;34m.\u001b[0m\u001b[0mag_error_metadata\u001b[0m\u001b[0;34m.\u001b[0m\u001b[0mto_exception\u001b[0m\u001b[0;34m(\u001b[0m\u001b[0me\u001b[0m\u001b[0;34m)\u001b[0m\u001b[0;34m\u001b[0m\u001b[0;34m\u001b[0m\u001b[0m\n\u001b[0m\u001b[1;32m    987\u001b[0m             \u001b[0;32melse\u001b[0m\u001b[0;34m:\u001b[0m\u001b[0;34m\u001b[0m\u001b[0;34m\u001b[0m\u001b[0m\n\u001b[1;32m    988\u001b[0m               \u001b[0;32mraise\u001b[0m\u001b[0;34m\u001b[0m\u001b[0;34m\u001b[0m\u001b[0m\n",
      "\u001b[0;31mValueError\u001b[0m: in user code:\n\n    /usr/local/lib/python3.6/dist-packages/tensorflow/python/keras/engine/training.py:855 train_function  *\n        return step_function(self, iterator)\n    /usr/local/lib/python3.6/dist-packages/tensorflow/python/keras/engine/training.py:845 step_function  **\n        outputs = model.distribute_strategy.run(run_step, args=(data,))\n    /usr/local/lib/python3.6/dist-packages/tensorflow/python/distribute/distribute_lib.py:1285 run\n        return self._extended.call_for_each_replica(fn, args=args, kwargs=kwargs)\n    /usr/local/lib/python3.6/dist-packages/tensorflow/python/distribute/distribute_lib.py:2833 call_for_each_replica\n        return self._call_for_each_replica(fn, args, kwargs)\n    /usr/local/lib/python3.6/dist-packages/tensorflow/python/distribute/distribute_lib.py:3608 _call_for_each_replica\n        return fn(*args, **kwargs)\n    /usr/local/lib/python3.6/dist-packages/tensorflow/python/keras/engine/training.py:838 run_step  **\n        outputs = model.train_step(data)\n    /usr/local/lib/python3.6/dist-packages/tensorflow/python/keras/engine/training.py:800 train_step\n        self.compiled_metrics.update_state(y, y_pred, sample_weight)\n    /usr/local/lib/python3.6/dist-packages/tensorflow/python/keras/engine/compile_utils.py:460 update_state\n        metric_obj.update_state(y_t, y_p, sample_weight=mask)\n    /usr/local/lib/python3.6/dist-packages/tensorflow/python/keras/utils/metrics_utils.py:86 decorated\n        update_op = update_state_fn(*args, **kwargs)\n    /usr/local/lib/python3.6/dist-packages/tensorflow/python/keras/metrics.py:177 update_state_fn\n        return ag_update_state(*args, **kwargs)\n    /usr/local/lib/python3.6/dist-packages/tensorflow/python/keras/metrics.py:1337 update_state  **\n        sample_weight=sample_weight)\n    /usr/local/lib/python3.6/dist-packages/tensorflow/python/keras/utils/metrics_utils.py:366 update_confusion_matrix_variables\n        y_pred.shape.assert_is_compatible_with(y_true.shape)\n    /usr/local/lib/python3.6/dist-packages/tensorflow/python/framework/tensor_shape.py:1161 assert_is_compatible_with\n        raise ValueError(\"Shapes %s and %s are incompatible\" % (self, other))\n\n    ValueError: Shapes (None, 30, 40, 65) and (None, None, None) are incompatible\n"
     ]
    }
   ],
   "source": [
    "train_gen = SyntheticShapes(splits['training']['images'], splits['training']['points'])\n",
    "val_gen = SyntheticShapes(splits['validation']['images'], splits['validation']['points'])\n",
    "\n",
    "batch_size = 8\n",
    "epochs = 5\n",
    "\n",
    "train_steps =  len(splits['training']['images'])/batch_size\n",
    "\n",
    "model.fit(train_gen , validation_data = val_gen, steps_per_epoch = train_steps, epochs=epochs)"
   ]
  },
  {
   "cell_type": "code",
   "execution_count": 224,
   "metadata": {},
   "outputs": [],
   "source": [
    "x, y = train_gen.__getitem__(0)"
   ]
  },
  {
   "cell_type": "code",
   "execution_count": 225,
   "metadata": {},
   "outputs": [
    {
     "data": {
      "text/plain": [
       "<matplotlib.image.AxesImage at 0x7f28e60984a8>"
      ]
     },
     "execution_count": 225,
     "metadata": {},
     "output_type": "execute_result"
    },
    {
     "data": {
      "image/png": "[encoded data removed]",
      "text/plain": [
       "<Figure size 432x288 with 1 Axes>"
      ]
     },
     "metadata": {
      "needs_background": "light"
     },
     "output_type": "display_data"
    }
   ],
   "source": [
    "import matplotlib.pyplot as plt\n",
    "plt.imshow(x[0])"
   ]
  },
  {
   "cell_type": "code",
   "execution_count": 226,
   "metadata": {},
   "outputs": [
    {
     "data": {
      "text/plain": [
       "<matplotlib.image.AxesImage at 0x7f28e5c61e10>"
      ]
     },
     "execution_count": 226,
     "metadata": {},
     "output_type": "execute_result"
    },
    {
     "data": {
      "image/png": "[encoded data removed]",
      "text/plain": [
       "<Figure size 432x288 with 1 Axes>"
      ]
     },
     "metadata": {
      "needs_background": "light"
     },
     "output_type": "display_data"
    }
   ],
   "source": [
    "plt.imshow(y[0])"
   ]
  },
  {
   "cell_type": "code",
   "execution_count": null,
   "metadata": {},
   "outputs": [],
   "source": []
  }
 ],
 "metadata": {
  "kernelspec": {
   "display_name": "Python 3",
   "language": "python",
   "name": "python3"
  },
  "language_info": {
   "codemirror_mode": {
    "name": "ipython",
    "version": 3
   },
   "file_extension": ".py",
   "mimetype": "text/x-python",
   "name": "python",
   "nbconvert_exporter": "python",
   "pygments_lexer": "ipython3",
   "version": "3.6.9"
  }
 },
 "nbformat": 4,
 "nbformat_minor": 2
}
