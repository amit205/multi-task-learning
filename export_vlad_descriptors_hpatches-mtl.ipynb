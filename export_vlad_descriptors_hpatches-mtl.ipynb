{
 "cells": [
  {
   "cell_type": "code",
   "execution_count": 1,
   "metadata": {},
   "outputs": [
    {
     "name": "stdout",
     "output_type": "stream",
     "text": [
      "2.5.0\n"
     ]
    }
   ],
   "source": [
    "import tensorflow as tf\n",
    "print(tf.__version__)"
   ]
  },
  {
   "cell_type": "code",
   "execution_count": 2,
   "metadata": {},
   "outputs": [],
   "source": [
    "import numpy as np\n",
    "import cv2\n",
    "import tarfile\n",
    "from pathlib import Path\n",
    "from tqdm import tqdm\n",
    "import shutil\n",
    "from tensorflow import keras\n",
    "from tensorflow.keras import backend as K\n",
    "from tensorflow.keras import layers as tfl\n",
    "from tensorflow.keras.layers import *\n",
    "from tensorflow_addons.image import transform as H_transform\n",
    "import matplotlib.pyplot as plt\n",
    "import os, datetime\n",
    "\n",
    "from models.utils import detector_head, descriptor_head, detector_loss, descriptor_loss, model_metrics, box_nms\n",
    "from utils.tools import dict_update"
   ]
  },
  {
   "cell_type": "code",
   "execution_count": 3,
   "metadata": {},
   "outputs": [],
   "source": [
    "seed = 1"
   ]
  },
  {
   "cell_type": "code",
   "execution_count": 4,
   "metadata": {},
   "outputs": [
    {
     "name": "stdout",
     "output_type": "stream",
     "text": [
      "/root/Internship-Valeo/Project\r\n"
     ]
    }
   ],
   "source": [
    "!pwd"
   ]
  },
  {
   "cell_type": "code",
   "execution_count": 5,
   "metadata": {},
   "outputs": [],
   "source": [
    "DATA_PATH = '/root/Internship-Valeo/Project/data'"
   ]
  },
  {
   "cell_type": "code",
   "execution_count": 6,
   "metadata": {},
   "outputs": [],
   "source": [
    "from datasets import synthetic_dataset\n",
    "from datasets.utils import pipeline\n",
    "from datasets.utils.pipeline import parse_primitives\n",
    "from datasets.utils import photometric_augmentation as photaug\n",
    "from models.homographies import (sample_homography, compute_valid_mask,\n",
    "                                            warp_points, filter_points, flat2mat, mat2flat)\n",
    "from models.utils import box_nms"
   ]
  },
  {
   "cell_type": "code",
   "execution_count": 7,
   "metadata": {},
   "outputs": [],
   "source": [
    "# read keypoints\n",
    "def _read_points(filename):\n",
    "    return np.load(filename).astype(np.float32)"
   ]
  },
  {
   "cell_type": "code",
   "execution_count": 8,
   "metadata": {},
   "outputs": [],
   "source": [
    "default_config = {\n",
    "        'dataset': 'hpatches',  # or 'coco'\n",
    "        'alteration': 'all',  # 'all', 'i' for illumination or 'v' for viewpoint\n",
    "        'cache_in_memory': False,\n",
    "        'truncate': None,\n",
    "        'preprocessing': {\n",
    "            'resize': False\n",
    "        }\n",
    "    }"
   ]
  },
  {
   "cell_type": "code",
   "execution_count": 9,
   "metadata": {},
   "outputs": [],
   "source": [
    "import yaml\n",
    "with open('/root/Internship-Valeo/Project/configs/superpoint_hpatches.yaml', 'r') as stream:\n",
    "    config = yaml.safe_load(stream)"
   ]
  },
  {
   "cell_type": "code",
   "execution_count": 10,
   "metadata": {},
   "outputs": [],
   "source": [
    "config1 = config\n",
    "config = dict_update(default_config, config['data'])"
   ]
  },
  {
   "cell_type": "code",
   "execution_count": 11,
   "metadata": {},
   "outputs": [],
   "source": [
    "default_model_config = {\n",
    "            'data_format': 'channels_first',\n",
    "            'grid_size': 8,\n",
    "            'detection_threshold': 0.4,\n",
    "            'descriptor_size': 256,\n",
    "            'batch_size': 32,\n",
    "            'learning_rate': 0.001,\n",
    "            'lambda_d': 250,\n",
    "            'descriptor_size': 256,\n",
    "            'positive_margin': 1,\n",
    "            'negative_margin': 0.2,\n",
    "            'lambda_loss': 0.0001,\n",
    "            'nms': 0,\n",
    "            'top_k': 0,\n",
    "    }"
   ]
  },
  {
   "cell_type": "code",
   "execution_count": 12,
   "metadata": {},
   "outputs": [],
   "source": [
    "model_config = dict_update(default_model_config, config1['model'])"
   ]
  },
  {
   "cell_type": "code",
   "execution_count": 13,
   "metadata": {},
   "outputs": [
    {
     "data": {
      "text/plain": [
       "'channels_last'"
      ]
     },
     "execution_count": 13,
     "metadata": {},
     "output_type": "execute_result"
    }
   ],
   "source": [
    "model_config['data_format']"
   ]
  },
  {
   "cell_type": "code",
   "execution_count": 14,
   "metadata": {},
   "outputs": [],
   "source": [
    "def vgg_block(inputs, filters, kernel_size, name, data_format, training=False,\n",
    "              batch_normalization=True, kernel_reg=0., **params):\n",
    "    x = tfl.Convolution2D(filters, kernel_size,\n",
    "                       kernel_regularizer=tf.keras.regularizers.L2(kernel_reg),\n",
    "                       data_format=data_format, **params)(inputs)\n",
    "    if batch_normalization:\n",
    "        x = tfl.BatchNormalization(\n",
    "                    fused=True,\n",
    "                    axis=1 if data_format == 'channels_first' else -1)(x)\n",
    "    return x"
   ]
  },
  {
   "cell_type": "code",
   "execution_count": 15,
   "metadata": {},
   "outputs": [],
   "source": [
    "def shared_encoder(model_config, shape = (240, 320,1)):\n",
    "    params_conv = {'padding': 'SAME', 'data_format': model_config['data_format'],\n",
    "                   'batch_normalization': True, 'activation': tf.nn.relu,\n",
    "                   'kernel_reg': model_config.get('kernel_reg', 0.)}\n",
    "    cfirst = model_config['data_format'] == 'channels_first'\n",
    "    cindex = 1 if cfirst else -1  # index of the channel\n",
    "    pool_size=(2, 2)\n",
    "    kernel = 3\n",
    "    inputs = Input(shape)\n",
    "    # Encoder\n",
    "    conv1 = vgg_block(inputs, 64, (kernel, kernel), 'conv1_1', **params_conv)\n",
    "    conv2 = vgg_block(conv1, 64, (kernel, kernel), 'conv1_2', **params_conv)\n",
    "    pool1 = MaxPooling2D(pool_size, name=\"block1_pool\")(conv2)\n",
    "\n",
    "    conv3 = vgg_block(pool1, 64, (kernel, kernel), 'conv2_1', **params_conv)\n",
    "    conv4 = vgg_block(conv3, 64, (kernel, kernel), 'conv2_2', **params_conv)\n",
    "    pool2 = MaxPooling2D(pool_size, name=\"block2_pool\")(conv4)\n",
    "\n",
    "    conv5 = vgg_block(pool2, 128, (kernel, kernel), 'conv3_1', **params_conv)\n",
    "    conv6 = vgg_block(conv5, 128, (kernel, kernel), 'conv3_2', **params_conv)\n",
    "    pool3 = MaxPooling2D(pool_size, name=\"block3_pool\")(conv6)\n",
    "\n",
    "    conv7 = vgg_block(pool3, 128, (kernel, kernel), 'conv4_1', **params_conv)\n",
    "    conv8 = vgg_block(conv7, 128, (kernel, kernel), 'conv4_2', **params_conv)\n",
    "    pool4 = MaxPooling2D(pool_size, name=\"block4_pool\")(conv8)\n",
    "    return keras.models.Model(inputs = inputs, outputs = {'pool4':pool4, 'conv8':conv8, 'conv7':conv7, 'conv6':conv6, \n",
    "                                                          'conv5':conv5, 'conv4':conv4, 'conv3':conv3, \n",
    "                                                          'conv2':conv2, 'conv1':conv1}, name = 'shared_encoder')"
   ]
  },
  {
   "cell_type": "code",
   "execution_count": 16,
   "metadata": {},
   "outputs": [],
   "source": [
    "def segmentation_head(shape_pool4 = (15, 20, 128), shape_conv8 = (30, 40, 128),\n",
    "                      shape_conv7 = (30, 40, 128), shape_conv6 = (60, 80, 128),\n",
    "                      shape_conv5 = (60, 80, 128), shape_conv4 = (120, 160, 64),\n",
    "                      shape_conv3 = (120, 160, 64), shape_conv2 = (240, 320, 64),\n",
    "                      shape_conv1 = (240, 320, 64), kernel = 3):\n",
    "    input_pool4 = Input(shape_pool4)\n",
    "    input_conv8 = Input(shape_conv8)\n",
    "    input_conv7 = Input(shape_conv7)\n",
    "    input_conv6 = Input(shape_conv6)\n",
    "    input_conv5 = Input(shape_conv5)\n",
    "    input_conv4 = Input(shape_conv4)\n",
    "    input_conv3 = Input(shape_conv3)\n",
    "    input_conv2 = Input(shape_conv2)\n",
    "    input_conv1 = Input(shape_conv1)\n",
    "    \n",
    "    conv9 = Conv2DTranspose(128, (kernel, kernel),strides=(2,2),\n",
    "                              padding=\"same\", kernel_initializer='he_uniform')(input_pool4)\n",
    "    conv9 = BatchNormalization()(conv9)\n",
    "    conv9 = Activation(\"relu\")(conv9)\n",
    "    conv9 = concatenate( [input_conv8 , conv9]  , axis = -1)\n",
    "    conv10 = Conv2DTranspose(128, (kernel, kernel), \n",
    "                              padding=\"same\", kernel_initializer='he_uniform')(conv9)\n",
    "    conv10 = BatchNormalization()(conv10)\n",
    "    conv10 = Activation(\"relu\")(conv10)\n",
    "    conv10 = concatenate( [input_conv7 , conv10]  , axis = -1)\n",
    "\n",
    "\n",
    "    conv11 = Conv2DTranspose(128, (kernel, kernel), strides=(2,2),\n",
    "                              padding=\"same\", kernel_initializer='he_uniform')(conv10)\n",
    "    conv11 = BatchNormalization()(conv11)\n",
    "    conv11 = Activation(\"relu\")(conv11)\n",
    "    conv11 = concatenate( [input_conv6 , conv11]  , axis = -1)\n",
    "    \n",
    "    conv12 = Conv2DTranspose(128, (kernel, kernel),padding=\"same\", kernel_initializer='he_uniform')(conv11)\n",
    "    conv12 = BatchNormalization()(conv12)\n",
    "    conv12 = Activation(\"relu\")(conv12)\n",
    "    conv12 = concatenate( [input_conv5 , conv12]  , axis = -1)\n",
    "\n",
    "    conv13 = Conv2DTranspose(64, (kernel, kernel),strides=(2,2),\n",
    "                              padding=\"same\", kernel_initializer='he_uniform')(conv12)\n",
    "    conv13 = BatchNormalization()(conv13)\n",
    "    conv13 = Activation(\"relu\")(conv13)\n",
    "    conv13 = concatenate( [input_conv4 , conv13]  , axis = -1)\n",
    "    \n",
    "    conv14 = Conv2DTranspose(64, (kernel, kernel), padding=\"same\", kernel_initializer='he_uniform')(conv13)\n",
    "    conv14 = BatchNormalization()(conv14)\n",
    "    conv14 = Activation(\"relu\")(conv14)\n",
    "    conv14 = concatenate( [input_conv3 , conv14]  , axis = -1)\n",
    "\n",
    "\n",
    "    conv15 = Conv2DTranspose(64, (kernel, kernel), strides=(2,2),\n",
    "                              padding=\"same\", kernel_initializer='he_uniform')(conv14)\n",
    "    conv15 = BatchNormalization()(conv15)\n",
    "    conv15 = Activation(\"relu\")(conv15)\n",
    "    conv15 = concatenate( [input_conv2 , conv15]  , axis = -1)\n",
    "    \n",
    "    conv16 = Conv2DTranspose(64, (kernel, kernel), padding=\"same\", kernel_initializer='he_uniform')(conv15)\n",
    "    conv16 = BatchNormalization()(conv16)\n",
    "    conv16 = concatenate( [input_conv1 , conv16]  , axis = -1)\n",
    "    \n",
    "    conv17 = Conv2DTranspose(1, (1, 1), padding=\"same\", kernel_initializer='he_uniform')(conv16)\n",
    "    conv17 = BatchNormalization()(conv17)\n",
    "    conv17 = Activation('sigmoid')(conv17)\n",
    "#     conv17 = Dense(1)(conv17)\n",
    "#     output = Activation('softmax')(conv17)\n",
    "    return keras.models.Model(inputs = {'pool4':input_pool4, 'conv8':input_conv8, 'conv7':input_conv7, \n",
    "                                        'conv6':input_conv6, 'conv5':input_conv5, 'conv4':input_conv4, \n",
    "                                        'conv3':input_conv3, 'conv2':input_conv2, 'conv1':input_conv1}, \n",
    "                              outputs = conv17, name = 'segmentation_head')"
   ]
  },
  {
   "cell_type": "code",
   "execution_count": 17,
   "metadata": {},
   "outputs": [],
   "source": [
    "class DetectorLossLayer(Layer):\n",
    "    def __init__(self, name='detector_loss_layer', trainable=False):\n",
    "        super(DetectorLossLayer, self).__init__(name=name)\n",
    "        self.loss_fn = detector_loss\n",
    "        self.metrics_fn = model_metrics\n",
    "#         self.accuracy_fn = keras.metrics.BinaryAccuracy(name=\"accuracy\")\n",
    "\n",
    "    def call(self, inputs, targets=None, sample_weight=None):\n",
    "        loss = self.loss_fn(keypoint_map = inputs[0], logits = inputs[1]['logits'], \n",
    "                            model_config = model_config)\n",
    "        \n",
    "        if model_config['nms']:\n",
    "            prob = tf.map_fn(lambda p: box_nms(p, model_config['nms'],\n",
    "                                               min_prob=model_config['detection_threshold'],\n",
    "                                               keep_top_k=model_config['top_k']), inputs[1]['prob'])\n",
    "        pred = tf.cast(tf.greater_equal(prob, model_config['detection_threshold']), tf.float32)\n",
    "        \n",
    "        metrics = self.metrics_fn(inputs[0], pred)\n",
    "        self.add_loss(loss)\n",
    "        self.add_metric(metrics['precision'], name = 'detector_precision')\n",
    "        self.add_metric(metrics['recall'], name = 'detector_recall')\n",
    "        return loss\n",
    "    def compute_output_shape(self, input_shape):\n",
    "        return [1]\n",
    "\n",
    "class WarpedDetectorLossLayer(Layer):\n",
    "    def __init__(self, name='warped_detector_loss_layer', trainable=False):\n",
    "        super(WarpedDetectorLossLayer, self).__init__(name = name)\n",
    "        self.loss_fn = detector_loss\n",
    "        self.metrics_fn = model_metrics\n",
    "#         self.accuracy_fn = keras.metrics.BinaryAccuracy(name=\"accuracy\")\n",
    "\n",
    "    def call(self, inputs, targets=None, sample_weight=None):\n",
    "        loss = self.loss_fn(keypoint_map = inputs[0], logits = inputs[1]['logits'], \n",
    "                            valid_mask = inputs[2], model_config = model_config)\n",
    "        if model_config['nms']:\n",
    "            prob = tf.map_fn(lambda p: box_nms(p, model_config['nms'],\n",
    "                                               min_prob=model_config['detection_threshold'],\n",
    "                                               keep_top_k=model_config['top_k']), inputs[1]['prob'])\n",
    "        pred = tf.cast(tf.greater_equal(prob, model_config['detection_threshold']), tf.float32)\n",
    "        \n",
    "        metrics = self.metrics_fn(inputs[0], pred, valid_mask = inputs[2])\n",
    "        self.add_loss(loss)\n",
    "        self.add_metric(metrics['precision'], name = 'warped_detector_precision')\n",
    "        self.add_metric(metrics['recall'], name = 'warped_detector_recall')\n",
    "        return loss\n",
    "    def compute_output_shape(self, input_shape):\n",
    "        return [1]"
   ]
  },
  {
   "cell_type": "code",
   "execution_count": 18,
   "metadata": {},
   "outputs": [],
   "source": [
    "class SemanticsLossLayer(Layer):\n",
    "    def __init__(self, name='semantics_loss_layer', trainable=False):\n",
    "        super(SemanticsLossLayer, self).__init__(name = name)\n",
    "        self.loss_fn = tf.keras.losses.BinaryCrossentropy()\n",
    "        self.accuracy_fn = tf.keras.metrics.BinaryAccuracy()\n",
    "\n",
    "    def call(self, inputs, targets=None, sample_weight=None):\n",
    "        loss = self.loss_fn(inputs[0], inputs[1])\n",
    "        accuracy = self.accuracy_fn(inputs[0], inputs[1])\n",
    "        self.add_loss(loss)\n",
    "        self.add_metric(accuracy)\n",
    "        return loss\n",
    "    def compute_output_shape(self, input_shape):\n",
    "        return [1]"
   ]
  },
  {
   "cell_type": "code",
   "execution_count": 19,
   "metadata": {},
   "outputs": [],
   "source": [
    "class WarpedSemanticsLossLayer(Layer):\n",
    "    def __init__(self, name='warped_semantics_loss_layer', trainable=False):\n",
    "        super(WarpedSemanticsLossLayer, self).__init__(name = name)\n",
    "        self.loss_fn = tf.keras.losses.BinaryCrossentropy()\n",
    "        self.accuracy_fn = tf.keras.metrics.BinaryAccuracy()\n",
    "\n",
    "    def call(self, inputs, targets=None, sample_weight=None):\n",
    "        loss = self.loss_fn(inputs[0], tf.expand_dims(inputs[1], axis = 2)*inputs[2])\n",
    "        accuracy = self.accuracy_fn(inputs[0], tf.expand_dims(inputs[1], axis = 2)*inputs[2])\n",
    "        self.add_loss(loss)\n",
    "        self.add_metric(accuracy)\n",
    "        return loss\n",
    "    def compute_output_shape(self, input_shape):\n",
    "        return [1]"
   ]
  },
  {
   "cell_type": "code",
   "execution_count": 20,
   "metadata": {},
   "outputs": [],
   "source": [
    "class HomographyLayer(Layer):\n",
    "    def call(self, inputs):\n",
    "        return inputs\n",
    "\n",
    "def HomographyModel(shape = (8,)):\n",
    "    x = Input(shape)\n",
    "    output = HomographyLayer(name=\"homography_layer\", trainable=False)(x)\n",
    "    return keras.models.Model(inputs = x, outputs = output)\n",
    "\n",
    "class DescriptorLossLayer(Layer):\n",
    "    def __init__(self, name='descriptor_loss_layer', trainable=False):\n",
    "        super(DescriptorLossLayer, self).__init__(name=name)\n",
    "        self.loss_fn = descriptor_loss\n",
    "#         self.accuracy_fn = keras.metrics.BinaryAccuracy(name=\"accuracy\")\n",
    "\n",
    "    def call(self, inputs, targets=None, sample_weight=None):\n",
    "        loss = model_config['lambda_loss'] * self.loss_fn(descriptors = inputs[0], \n",
    "                                                          warped_descriptors = inputs[1],\n",
    "                            homographies = inputs[2], valid_mask = inputs[3], **model_config)\n",
    "        self.add_loss(loss)\n",
    "#         return tf.reshape(loss, (1,))\n",
    "        return loss\n",
    "    def compute_output_shape(self, input_shape):\n",
    "        return [1]\n",
    "    \n",
    "def net():\n",
    "    \n",
    "#     images_input = Input(shape = (240, 320,1), name = 'images_input')\n",
    "#     points_list_input = Input(shape = (240, 320), name = 'points_input') \n",
    "#     homography_list_input = Input(shape = (8,), name = 'homography_list_input') \n",
    "#     warped_images_input = Input(shape = (240, 320,1), name = 'warped_images_input')\n",
    "#     valid_masks_input = Input(shape = (240, 320), name = 'valid_masks_input')\n",
    "#     warped_points_list_input = Input(shape = (240, 320), name = 'warped_points_input')\n",
    "    \n",
    "    \n",
    "    inputs = {'image':Input(shape = (240, 320, 1), name = 'image'),\n",
    "              'name': Input(shape = (None,1), name = 'name'),\n",
    "              'keypoints':Input(shape = (240,320), name = 'keypoints'),              \n",
    "              'valid_mask':Input(shape = (240,320), name = 'valid_mask'),\n",
    "              'mask_image':Input(shape = (240, 320, 1), name = 'mask_image'),\n",
    "              'warped':{\n",
    "                  'image':Input(shape = (240, 320, 1), name = 'warped_image'),\n",
    "                  'name': Input(shape = (None,1), name = 'warped_name'),\n",
    "                  'keypoints':Input(shape = (240, 320), name = 'warped_keypoints'),\n",
    "                  'valid_mask':Input(shape = (240, 320), name = 'warped_valid_mask'),\n",
    "                  'mask_image':Input(shape = (240, 320, 1), name = 'warped_mask_image'),\n",
    "                  'homography':Input(shape = (8,), name = 'homography'),\n",
    "               }}\n",
    "    \n",
    "    homography_model = HomographyModel()\n",
    "#     homography = homography_model(homography_list_input)\n",
    "    homography = homography_model(inputs['warped']['homography'])\n",
    "    \n",
    "    encoder = shared_encoder(shape = (240, 320, 1), model_config = model_config)\n",
    "#     encoder_output = encoder(images_input)\n",
    "#     warped_encoder_output = encoder(warped_images_input)\n",
    "    encoder_output = encoder(inputs['image'])\n",
    "    warped_encoder_output = encoder(inputs['warped']['image'])\n",
    "    \n",
    "    detector = detector_head(shape = (30, 40, 128), model_config = model_config)\n",
    "    detector_output = detector(encoder_output['conv8'])\n",
    "    warped_detector_output = detector(warped_encoder_output['conv8'])\n",
    "    \n",
    "    descriptor = descriptor_head(shape = (30, 40, 128), model_config=model_config)\n",
    "    descriptor_output = descriptor(encoder_output['conv8'])\n",
    "    warped_descriptor_output = descriptor(warped_encoder_output['conv8'])\n",
    "    \n",
    "    semantics_model = segmentation_head()\n",
    "    semantics_output = semantics_model(encoder_output)\n",
    "    warped_semantics_output = semantics_model(warped_encoder_output)\n",
    "    \n",
    "#     detector_loss_layer = DetectorLossLayer()([points_list_input, detector_output])\n",
    "    detector_loss_layer = DetectorLossLayer()([inputs['keypoints'],\n",
    "                                                 detector_output])\n",
    "    \n",
    "#     warped_detector_loss_layer = WarpedDetectorLossLayer()([warped_points_list_input, \n",
    "#                                                 warped_detector_output, \n",
    "#                                                       valid_masks_input])\n",
    "\n",
    "    warped_detector_loss_layer = WarpedDetectorLossLayer()([inputs['warped']['keypoints'], \n",
    "                                                warped_detector_output, \n",
    "                                                      inputs['warped']['valid_mask']])\n",
    "    \n",
    "#     descriptor_loss_layer = DescriptorLossLayer()([descriptor_output['descriptors_raw'],\n",
    "#                                         warped_descriptor_output['descriptors_raw'], \n",
    "#                                           homography, valid_masks_input])\n",
    "\n",
    "    descriptor_loss_layer = DescriptorLossLayer()([descriptor_output['descriptors_raw'],\n",
    "                                                   warped_descriptor_output['descriptors_raw'], \n",
    "                                          inputs['warped']['homography'], inputs['warped']['valid_mask']])\n",
    "    \n",
    "    semantics_loss_layer = SemanticsLossLayer()([inputs['mask_image'], semantics_output])\n",
    "    \n",
    "    warped_semantics_loss_layer = WarpedSemanticsLossLayer()([inputs['warped']['mask_image'], \n",
    "                                                        inputs['warped']['valid_mask'],\n",
    "                                                              warped_semantics_output])\n",
    "    \n",
    "    model = keras.models.Model(inputs = inputs,#[images_input, points_list_input, homography_list_input, \n",
    "                                         #warped_images_input, valid_masks_input, warped_points_list_input],\n",
    "                               outputs = [detector_loss_layer, warped_detector_loss_layer, \n",
    "                                          descriptor_loss_layer, semantics_loss_layer, \n",
    "                                          warped_semantics_loss_layer])\n",
    "    return model"
   ]
  },
  {
   "cell_type": "code",
   "execution_count": 21,
   "metadata": {},
   "outputs": [
    {
     "name": "stdout",
     "output_type": "stream",
     "text": [
      "WARNING:tensorflow:From /usr/local/lib/python3.6/dist-packages/tensorflow/python/ops/array_ops.py:5049: calling gather (from tensorflow.python.ops.array_ops) with validate_indices is deprecated and will be removed in a future version.\n",
      "Instructions for updating:\n",
      "The `validate_indices` argument has no effect. Indices are always validated on CPU and never validated on GPU.\n"
     ]
    }
   ],
   "source": [
    "model = net()"
   ]
  },
  {
   "cell_type": "code",
   "execution_count": 22,
   "metadata": {},
   "outputs": [
    {
     "data": {
      "image/png": "[encoded data removed]",
      "text/plain": [
       "<IPython.core.display.Image object>"
      ]
     },
     "execution_count": 22,
     "metadata": {},
     "output_type": "execute_result"
    }
   ],
   "source": [
    "# model.summary()\n",
    "keras.utils.plot_model(model, to_file=\"model.png\", show_shapes = False, show_dtype=False, show_layer_names=True,\n",
    "    rankdir=\"TB\", expand_nested=False, dpi=96)"
   ]
  },
  {
   "cell_type": "code",
   "execution_count": 23,
   "metadata": {},
   "outputs": [
    {
     "data": {
      "text/plain": [
       "<tensorflow.python.training.tracking.util.CheckpointLoadStatus at 0x7f53b5b2ff28>"
      ]
     },
     "execution_count": 23,
     "metadata": {},
     "output_type": "execute_result"
    }
   ],
   "source": [
    "model.load_weights('/root/Internship-Valeo/Project/results/checkpoint-mtl-coco-090822')"
   ]
  },
  {
   "cell_type": "code",
   "execution_count": 24,
   "metadata": {},
   "outputs": [],
   "source": [
    "# # Make changes here for illumination vs viewpoint\n",
    "\n",
    "# config['alteration'] = 'i'"
   ]
  },
  {
   "cell_type": "code",
   "execution_count": 25,
   "metadata": {},
   "outputs": [],
   "source": [
    "# # Make changes here for illumination vs viewpoint\n",
    "\n",
    "# # output_dir = '/root/Internship-Valeo/Project/exports/superpoint_hpatches-i'\n",
    "# output_dir = '/root/Internship-Valeo/Project/exports/mtl_hpatches-i'"
   ]
  },
  {
   "cell_type": "code",
   "execution_count": 26,
   "metadata": {},
   "outputs": [],
   "source": [
    "# from datasets import patches_dataset\n",
    "# data = patches_dataset.PatchesDataset()\n",
    "# files = data._init_dataset(**config)\n",
    "# # train_gen = data._get_data(files, 'training', **config)\n",
    "# # train_gen = train_gen.batch(5)\n",
    "# val_gen = data._get_data(files, 'validation', **config)\n",
    "# # val_gen = val_gen.batch(5)"
   ]
  },
  {
   "cell_type": "code",
   "execution_count": 27,
   "metadata": {},
   "outputs": [],
   "source": [
    "from keras.models import Model\n",
    "\n",
    "model = model # include here your original model"
   ]
  },
  {
   "cell_type": "code",
   "execution_count": 28,
   "metadata": {},
   "outputs": [],
   "source": [
    "# model.input"
   ]
  },
  {
   "cell_type": "code",
   "execution_count": 29,
   "metadata": {},
   "outputs": [],
   "source": [
    "# descriptor_model = Model(inputs=[model.input['image'], model.input['warped']['image']],                                 \n",
    "#                          outputs=model.get_layer('descriptor_loss_layer').input[0:2])"
   ]
  },
  {
   "cell_type": "code",
   "execution_count": 30,
   "metadata": {},
   "outputs": [],
   "source": [
    "# model.get_layer('descriptor_loss_layer').input"
   ]
  },
  {
   "cell_type": "code",
   "execution_count": 31,
   "metadata": {},
   "outputs": [],
   "source": [
    "# detector_model = Model(inputs=[model.input['image'], model.input['warped']['image']],                                 \n",
    "#                          outputs=[model.get_layer('detector_loss_layer').input[1]['prob'], \n",
    "#                                   model.get_layer('warped_detector_loss_layer').input[1]['prob']])"
   ]
  },
  {
   "cell_type": "code",
   "execution_count": 32,
   "metadata": {},
   "outputs": [],
   "source": [
    "# model.get_layer('detector_loss_layer').input"
   ]
  },
  {
   "cell_type": "code",
   "execution_count": 33,
   "metadata": {},
   "outputs": [],
   "source": [
    "# model.get_layer('warped_detector_loss_layer').input"
   ]
  },
  {
   "cell_type": "code",
   "execution_count": 34,
   "metadata": {},
   "outputs": [],
   "source": [
    "# logits = model.get_layer('detector_loss_layer').input[1]['logits']\n",
    "# warped_logits = model.get_layer('warped_detector_loss_layer').input[1]['logits']\n",
    "# pred_mask = model.get_layer('semantics_loss_layer').input[1]\n",
    "# warped_pred_mask = model.get_layer('warped_semantics_loss_layer').input[2]\n",
    "# m1 = keras.models.Model(inputs = [model.input['image'], model.input['warped']['image']], \n",
    "#                         outputs = [logits, warped_logits, pred_mask, warped_pred_mask])"
   ]
  },
  {
   "cell_type": "code",
   "execution_count": 35,
   "metadata": {},
   "outputs": [],
   "source": [
    "# model.get_layer('semantics_loss_layer').input"
   ]
  },
  {
   "cell_type": "code",
   "execution_count": 36,
   "metadata": {},
   "outputs": [],
   "source": [
    "cfirst = model_config['data_format'] == 'channels_first'\n",
    "cindex = 1 if cfirst else -1  # index of the channel"
   ]
  },
  {
   "cell_type": "code",
   "execution_count": 37,
   "metadata": {},
   "outputs": [],
   "source": [
    "# from tqdm import tqdm\n",
    "# val_gen = val_gen.batch(1)\n",
    "# x = iter(val_gen)\n",
    "\n",
    "# pbar = tqdm(total=config1['eval_iter'] if config1['eval_iter'] > 0 else None)\n",
    "# i = 0\n",
    "# while True:\n",
    "#     try:\n",
    "#         data = x.get_next()\n",
    "#     except data.end_set:\n",
    "#         break\n",
    "#     data1 = {'image': data['image'][0]}\n",
    "#     data2 = {'image': data['warped_image'][0]}\n",
    "#     m1_pred = m1.predict(data)\n",
    "#     z = tf.nn.space_to_depth(m1_pred[2], model_config['grid_size'])\n",
    "#     shape = tf.concat([tf.shape(z)[:3], [1]], axis=0)\n",
    "#     z = tf.concat([2*z, tf.ones(shape)], 3)\n",
    "#     w = m1_pred[0]*z\n",
    "#     w = tf.nn.softmax(w, axis=cindex)\n",
    "#     # Strip the extra “no interest point” dustbin\n",
    "#     w = w[:, :-1, :, :] if cfirst else w[:, :, :, :-1]\n",
    "#     w = tf.nn.depth_to_space(w, model_config['grid_size'], data_format='NCHW' if cfirst else 'NHWC')\n",
    "#     w = tf.squeeze(w, axis=cindex)\n",
    "#     if model_config['nms']:\n",
    "#         prob1 = tf.map_fn(lambda p: box_nms(p, model_config['nms'],\n",
    "#                                                min_prob=model_config['detection_threshold'],\n",
    "#                                                keep_top_k=model_config['top_k']), w)\n",
    "#     p1 = tf.cast(tf.greater_equal(prob1, model_config['detection_threshold']), tf.int32)\n",
    "#     kp1 = {'keypoint_map': [np.array(np.where(e)).T for e in p1]}\n",
    "    \n",
    "\n",
    "#     z = tf.nn.space_to_depth(m1_pred[3], model_config['grid_size'])\n",
    "#     shape = tf.concat([tf.shape(z)[:3], [1]], axis=0)\n",
    "#     z = tf.concat([2*z, tf.ones(shape)], 3)\n",
    "#     w = m1_pred[1]*z\n",
    "#     w = tf.nn.softmax(w, axis=cindex)\n",
    "#     # Strip the extra “no interest point” dustbin\n",
    "#     w = w[:, :-1, :, :] if cfirst else w[:, :, :, :-1]\n",
    "#     w = tf.nn.depth_to_space(w, model_config['grid_size'], data_format='NCHW' if cfirst else 'NHWC')\n",
    "#     w = tf.squeeze(w, axis=cindex)\n",
    "#     if model_config['nms']:\n",
    "#         prob2 = tf.map_fn(lambda p: box_nms(p, model_config['nms'],\n",
    "#                                                min_prob=model_config['detection_threshold'],\n",
    "#                                                keep_top_k=model_config['top_k']), w)\n",
    "#     p2 = tf.cast(tf.greater_equal(prob2, model_config['detection_threshold']), tf.int32)\n",
    "#     kp2 = {'keypoint_map': [np.array(np.where(e)).T for e in p2]}\n",
    "    \n",
    "    \n",
    "    \n",
    "#     descriptor_output = descriptor_model.predict(data)    \n",
    "    \n",
    "#     y = descriptor_output[0]\n",
    "#     cfirst = model_config['data_format'] == 'channels_first'\n",
    "#     cindex = 1 if cfirst else -1  # index of the channel\n",
    "\n",
    "#     desc1 = tf.transpose(y, [0, 2, 3, 1]) if cfirst else y\n",
    "#     desc1 = tf.image.resize(\n",
    "#             desc1, model_config['grid_size'] * tf.shape(desc1)[1:3], method='bilinear')\n",
    "#     desc1 = tf.transpose(desc1, [0, 3, 1, 2]) if cfirst else desc1\n",
    "#     desc1 = tf.nn.l2_normalize(desc1, cindex)\n",
    "    \n",
    "#     pred1 = desc1\n",
    "    \n",
    "#     y = descriptor_output[1]\n",
    "#     desc2 = tf.transpose(y, [0, 2, 3, 1]) if cfirst else y\n",
    "#     desc2 = tf.image.resize(\n",
    "#             desc2, model_config['grid_size'] * tf.shape(desc2)[1:3], method='bilinear')\n",
    "#     desc2 = tf.transpose(desc2, [0, 3, 1, 2]) if cfirst else desc2\n",
    "#     desc2 = tf.nn.l2_normalize(desc2, cindex)\n",
    "    \n",
    "#     pred2 = desc2\n",
    "    \n",
    "#     pred = {'image': data['image'][0],\n",
    "#             'warped_image': data['warped_image'][0],\n",
    "#             'prob': prob1[0],\n",
    "#                     'warped_prob': prob2[0],\n",
    "#                     'desc': pred1[0],\n",
    "#                     'warped_desc': pred2[0],\n",
    "#                     'homography': data['homography'][0],\n",
    "#                     'keypoint_map': kp1['keypoint_map'][0],\n",
    "#                     'warped_keypoint_map': kp2['keypoint_map'][0]   }\n",
    "\n",
    "# #     if not ('name' in data):\n",
    "# #         pred.update(data)\n",
    "#     filename = data['name'][0].decode('utf-8') if 'name' in data else str(i)\n",
    "#     filepath = Path(output_dir, '{}.npz'.format(filename))\n",
    "#     np.savez_compressed(filepath, **pred)\n",
    "#     i += 1\n",
    "#     pbar.update(1)\n",
    "#     if i == config1['eval_iter']:\n",
    "#         break"
   ]
  },
  {
   "cell_type": "code",
   "execution_count": 38,
   "metadata": {},
   "outputs": [],
   "source": [
    "descriptor_model1 = Model(inputs=model.input['image'],                                 \n",
    "                         outputs=model.get_layer('descriptor_loss_layer').input[0])"
   ]
  },
  {
   "cell_type": "code",
   "execution_count": 39,
   "metadata": {},
   "outputs": [],
   "source": [
    "logits = model.get_layer('detector_loss_layer').input[1]['logits']\n",
    "\n",
    "pred_mask = model.get_layer('semantics_loss_layer').input[1]\n",
    "\n",
    "m2 = keras.models.Model(inputs = model.input['image'], \n",
    "                        outputs = [logits, pred_mask])"
   ]
  },
  {
   "cell_type": "code",
   "execution_count": 40,
   "metadata": {},
   "outputs": [],
   "source": [
    "path = '/root/Internship-Valeo/Project/VLAD/oxford_dataset/oxbuild_images-v1'"
   ]
  },
  {
   "cell_type": "code",
   "execution_count": 41,
   "metadata": {},
   "outputs": [],
   "source": [
    "# import glob\n",
    "# import itertools\n",
    "# descriptors=list()\n",
    "# for imagePath in glob.glob(path+\"/*.jpg\"):\n",
    "#     im = cv2.imread(imagePath, 0)\n",
    "#     im = cv2.resize(im, (320,240))\n",
    "#     im = np.expand_dims(im, axis = 0)\n",
    "#     im = np.expand_dims(im, axis = 3)\n",
    "\n",
    "#     descriptor_output = descriptor_model1.predict(im)\n",
    "#     y = descriptor_output\n",
    "#     cfirst = model_config['data_format'] == 'channels_first'\n",
    "#     cindex = 1 if cfirst else -1  # index of the channel\n",
    "\n",
    "#     desc1 = tf.transpose(y, [0, 2, 3, 1]) if cfirst else y\n",
    "#     desc1 = tf.image.resize(\n",
    "#             desc1, model_config['grid_size'] * tf.shape(desc1)[1:3], method='bilinear')\n",
    "#     desc1 = tf.transpose(desc1, [0, 3, 1, 2]) if cfirst else desc1\n",
    "#     desc1 = tf.nn.l2_normalize(desc1, cindex)\n",
    "    \n",
    "#     m2_pred = m2.predict(im)\n",
    "    \n",
    "#     z = tf.nn.space_to_depth(m2_pred[1], model_config['grid_size'])\n",
    "#     shape = tf.concat([tf.shape(z)[:3], [1]], axis=0)\n",
    "#     z = tf.concat([2*z, tf.ones(shape)], 3)\n",
    "#     w = m2_pred[0]*z\n",
    "#     w = tf.nn.softmax(w, axis=cindex)\n",
    "#     # Strip the extra “no interest point” dustbin\n",
    "#     w = w[:, :-1, :, :] if cfirst else w[:, :, :, :-1]\n",
    "#     w = tf.nn.depth_to_space(w, model_config['grid_size'], data_format='NCHW' if cfirst else 'NHWC')\n",
    "#     w = tf.squeeze(w, axis=cindex)\n",
    "#     if model_config['nms']:\n",
    "#         prob1 = tf.map_fn(lambda p: box_nms(p, model_config['nms'],\n",
    "#                                                min_prob=model_config['detection_threshold'],\n",
    "#                                                keep_top_k=model_config['top_k']), w)\n",
    "#     p1 = tf.cast(tf.greater_equal(prob1, model_config['detection_threshold']), tf.int32)\n",
    "#     kp1 = {'keypoint_map': [np.array(np.where(e)).T for e in p1]}\n",
    "    \n",
    "    \n",
    "#     x = np.zeros((len(kp1['keypoint_map'][0]),256))\n",
    "#     i = 0\n",
    "#     for kp in kp1['keypoint_map'][0]:\n",
    "#         a = kp[0]\n",
    "#         b = kp[1]\n",
    "#         x[i] = desc1[0][(a,b)]\n",
    "#         i=i+1\n",
    "#     descriptors.append(x)"
   ]
  },
  {
   "cell_type": "code",
   "execution_count": 42,
   "metadata": {},
   "outputs": [],
   "source": [
    "# #flatten list       \n",
    "# descriptors = list(itertools.chain.from_iterable(descriptors))\n",
    "# #list to array\n",
    "# descriptors = np.asarray(descriptors)"
   ]
  },
  {
   "cell_type": "code",
   "execution_count": 43,
   "metadata": {},
   "outputs": [],
   "source": [
    "import pickle\n",
    "# output =  '/root/Internship-Valeo/Project/VLAD/descriptors/descriptorMTL'\n",
    "# #writting the output\n",
    "# file=output+\".pickle\"\n",
    "\n",
    "# with open(file, 'wb') as f:\n",
    "#     pickle.dump(descriptors, f, protocol=4)"
   ]
  },
  {
   "cell_type": "code",
   "execution_count": 44,
   "metadata": {},
   "outputs": [],
   "source": [
    "pathVD = '/root/Internship-Valeo/Project/VLAD/visualDictionary/visualDictionary16MTL.pickle'\n",
    "outputVLAD = '/root/Internship-Valeo/Project/VLAD/VLADdescriptors/VLAD_MTL_W16'"
   ]
  },
  {
   "cell_type": "code",
   "execution_count": 45,
   "metadata": {},
   "outputs": [],
   "source": [
    "with open(pathVD, 'rb') as f:\n",
    "    visualDictionary=pickle.load(f) "
   ]
  },
  {
   "cell_type": "code",
   "execution_count": 46,
   "metadata": {},
   "outputs": [],
   "source": [
    "def VLAD(X,visualDictionary):\n",
    "\n",
    "    predictedLabels = visualDictionary.predict(X)\n",
    "    centers = visualDictionary.cluster_centers_\n",
    "    labels=visualDictionary.labels_\n",
    "    k=visualDictionary.n_clusters\n",
    "   \n",
    "    m,d = X.shape\n",
    "    V=np.zeros([k,d])\n",
    "    #computing the differences\n",
    "\n",
    "    # for all the clusters (visual words)\n",
    "    for i in range(k):\n",
    "        # if there is at least one descriptor in that cluster\n",
    "        if np.sum(predictedLabels==i)>0:\n",
    "            # add the diferences\n",
    "            V[i]=np.sum(X[predictedLabels==i,:]-centers[i],axis=0)\n",
    "    \n",
    "\n",
    "    V = V.flatten()\n",
    "    # power normalization, also called square-rooting normalization\n",
    "    V = np.sign(V)*np.sqrt(np.abs(V))\n",
    "\n",
    "    # L2 normalization\n",
    "\n",
    "    V = V/np.sqrt(np.dot(V,V))\n",
    "    return V"
   ]
  },
  {
   "cell_type": "code",
   "execution_count": 47,
   "metadata": {},
   "outputs": [],
   "source": [
    "import glob\n",
    "# Computing VLAD Descriptors\n",
    "vladDescriptors=list()\n",
    "idImage =list()\n",
    "for imagePath in glob.glob(path+\"/*.jpg\"):\n",
    "    im = cv2.imread(imagePath, 0)\n",
    "    im = cv2.resize(im, (320,240))\n",
    "    im = np.expand_dims(im, axis = 0)\n",
    "    im = np.expand_dims(im, axis = 3)\n",
    "\n",
    "    descriptor_output = descriptor_model1.predict(im)\n",
    "    y = descriptor_output\n",
    "    cfirst = model_config['data_format'] == 'channels_first'\n",
    "    cindex = 1 if cfirst else -1  # index of the channel\n",
    "\n",
    "    desc1 = tf.transpose(y, [0, 2, 3, 1]) if cfirst else y\n",
    "    desc1 = tf.image.resize(\n",
    "            desc1, model_config['grid_size'] * tf.shape(desc1)[1:3], method='bilinear')\n",
    "    desc1 = tf.transpose(desc1, [0, 3, 1, 2]) if cfirst else desc1\n",
    "    desc1 = tf.nn.l2_normalize(desc1, cindex)\n",
    "    \n",
    "    m2_pred = m2.predict(im)\n",
    "    \n",
    "    z = tf.nn.space_to_depth(m2_pred[1], model_config['grid_size'])\n",
    "    shape = tf.concat([tf.shape(z)[:3], [1]], axis=0)\n",
    "    z = tf.concat([2*z, tf.ones(shape)], 3)\n",
    "    w = m2_pred[0]*z\n",
    "    w = tf.nn.softmax(w, axis=cindex)\n",
    "    # Strip the extra “no interest point” dustbin\n",
    "    w = w[:, :-1, :, :] if cfirst else w[:, :, :, :-1]\n",
    "    w = tf.nn.depth_to_space(w, model_config['grid_size'], data_format='NCHW' if cfirst else 'NHWC')\n",
    "    w = tf.squeeze(w, axis=cindex)\n",
    "    if model_config['nms']:\n",
    "        prob1 = tf.map_fn(lambda p: box_nms(p, model_config['nms'],\n",
    "                                               min_prob=model_config['detection_threshold'],\n",
    "                                               keep_top_k=model_config['top_k']), w)\n",
    "    p1 = tf.cast(tf.greater_equal(prob1, model_config['detection_threshold']), tf.int32)\n",
    "    kp1 = {'keypoint_map': [np.array(np.where(e)).T for e in p1]}\n",
    "    \n",
    "    \n",
    "    des = np.zeros((len(kp1['keypoint_map'][0]),256))\n",
    "    i = 0\n",
    "    for kp in kp1['keypoint_map'][0]:\n",
    "        a = kp[0]\n",
    "        b = kp[1]\n",
    "        des[i] = desc1[0][(a,b)]\n",
    "        i=i+1    \n",
    "    if len(kp1['keypoint_map'][0])!=0:\n",
    "        v=VLAD(des,visualDictionary)\n",
    "        vladDescriptors.append(v)\n",
    "        idImage.append(imagePath)\n",
    "                    \n",
    "#list to array    \n",
    "vladDescriptors = np.asarray(vladDescriptors)"
   ]
  },
  {
   "cell_type": "code",
   "execution_count": 49,
   "metadata": {},
   "outputs": [],
   "source": [
    "#writting the output\n",
    "file=outputVLAD+\".pickle\"\n",
    "\n",
    "with open(file, 'wb') as f:\n",
    "    pickle.dump([idImage, vladDescriptors, path], f, protocol=4)"
   ]
  },
  {
   "cell_type": "code",
   "execution_count": null,
   "metadata": {},
   "outputs": [],
   "source": []
  }
 ],
 "metadata": {
  "kernelspec": {
   "display_name": "Python 3",
   "language": "python",
   "name": "python3"
  },
  "language_info": {
   "codemirror_mode": {
    "name": "ipython",
    "version": 3
   },
   "file_extension": ".py",
   "mimetype": "text/x-python",
   "name": "python",
   "nbconvert_exporter": "python",
   "pygments_lexer": "ipython3",
   "version": "3.6.9"
  }
 },
 "nbformat": 4,
 "nbformat_minor": 2
}
